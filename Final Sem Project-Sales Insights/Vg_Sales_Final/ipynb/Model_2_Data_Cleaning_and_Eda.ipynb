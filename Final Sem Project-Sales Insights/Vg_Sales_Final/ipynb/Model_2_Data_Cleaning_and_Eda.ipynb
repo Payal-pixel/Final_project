{
  "nbformat": 4,
  "nbformat_minor": 0,
  "metadata": {
    "colab": {
      "name": "Model 2- Data Cleaning and Eda.ipynb",
      "provenance": [],
      "collapsed_sections": []
    },
    "kernelspec": {
      "name": "python3",
      "display_name": "Python 3"
    },
    "language_info": {
      "name": "python"
    }
  },
  "cells": [
    {
      "cell_type": "code",
      "execution_count": 1,
      "metadata": {
        "id": "XLwxpiglMinC"
      },
      "outputs": [],
      "source": [
        "import pandas as pd\n",
        "import seaborn as sns\n",
        "import numpy as np\n",
        "import matplotlib.pyplot as plt\n",
        "from sklearn.model_selection import train_test_split, GridSearchCV\n",
        "from sklearn.linear_model import LinearRegression, LogisticRegression\n",
        "from sklearn.neighbors import KNeighborsRegressor\n",
        "from sklearn.tree import DecisionTreeRegressor\n",
        "from sklearn.ensemble import RandomForestRegressor, BaggingRegressor, AdaBoostRegressor\n",
        "from sklearn.svm import SVR\n",
        "from sklearn.preprocessing import StandardScaler\n",
        "from scipy.stats import gamma\n",
        "\n",
        "import re\n",
        "from nltk.tokenize import RegexpTokenizer\n",
        "from nltk.corpus import stopwords\n",
        "from sklearn.feature_extraction.text import CountVectorizer\n",
        "from sklearn.pipeline import Pipeline\n",
        "import nltk"
      ]
    },
    {
      "cell_type": "code",
      "source": [
        "df = pd.read_excel('/content/vgsales.xlsx')\n",
        "df.head()"
      ],
      "metadata": {
        "colab": {
          "base_uri": "https://localhost:8080/",
          "height": 339
        },
        "id": "PO34eOKJMlzt",
        "outputId": "ac605ef9-aab8-4f11-d40a-0b36b30bf6f5"
      },
      "execution_count": 7,
      "outputs": [
        {
          "output_type": "execute_result",
          "data": {
            "text/html": [
              "\n",
              "  <div id=\"df-8a05763b-4c23-4ed3-82a5-eeb87b55e7c7\">\n",
              "    <div class=\"colab-df-container\">\n",
              "      <div>\n",
              "<style scoped>\n",
              "    .dataframe tbody tr th:only-of-type {\n",
              "        vertical-align: middle;\n",
              "    }\n",
              "\n",
              "    .dataframe tbody tr th {\n",
              "        vertical-align: top;\n",
              "    }\n",
              "\n",
              "    .dataframe thead th {\n",
              "        text-align: right;\n",
              "    }\n",
              "</style>\n",
              "<table border=\"1\" class=\"dataframe\">\n",
              "  <thead>\n",
              "    <tr style=\"text-align: right;\">\n",
              "      <th></th>\n",
              "      <th>Name</th>\n",
              "      <th>Genre</th>\n",
              "      <th>Platform</th>\n",
              "      <th>Publisher</th>\n",
              "      <th>Developer</th>\n",
              "      <th>Vgchartz_Score</th>\n",
              "      <th>Critic_Score</th>\n",
              "      <th>User_Score</th>\n",
              "      <th>Total_Shipped</th>\n",
              "      <th>Total_Sales</th>\n",
              "      <th>NA_Sales</th>\n",
              "      <th>PAL_Sales</th>\n",
              "      <th>JP_Sales</th>\n",
              "      <th>Other_Sales</th>\n",
              "      <th>Release_Date</th>\n",
              "      <th>Last_Update</th>\n",
              "    </tr>\n",
              "  </thead>\n",
              "  <tbody>\n",
              "    <tr>\n",
              "      <th>0</th>\n",
              "      <td>Mario Party</td>\n",
              "      <td>Party</td>\n",
              "      <td>Series</td>\n",
              "      <td>Nintendo</td>\n",
              "      <td>Hudson Soft|Capcom|NDcube</td>\n",
              "      <td>NaN</td>\n",
              "      <td>NaN</td>\n",
              "      <td>NaN</td>\n",
              "      <td>51860000.0</td>\n",
              "      <td>NaN</td>\n",
              "      <td>NaN</td>\n",
              "      <td>NaN</td>\n",
              "      <td>NaN</td>\n",
              "      <td>NaN</td>\n",
              "      <td>1999-02-01</td>\n",
              "      <td>2020-02-18</td>\n",
              "    </tr>\n",
              "    <tr>\n",
              "      <th>1</th>\n",
              "      <td>Wii Play</td>\n",
              "      <td>Party</td>\n",
              "      <td>Series</td>\n",
              "      <td>Nintendo</td>\n",
              "      <td>Nintendo|Arzest|Chunsoft|Good-Feel|Mitchell Co...</td>\n",
              "      <td>NaN</td>\n",
              "      <td>NaN</td>\n",
              "      <td>NaN</td>\n",
              "      <td>29660000.0</td>\n",
              "      <td>NaN</td>\n",
              "      <td>NaN</td>\n",
              "      <td>NaN</td>\n",
              "      <td>NaN</td>\n",
              "      <td>NaN</td>\n",
              "      <td>2007-02-12</td>\n",
              "      <td>2020-02-20</td>\n",
              "    </tr>\n",
              "    <tr>\n",
              "      <th>2</th>\n",
              "      <td>Kinect Adventures!</td>\n",
              "      <td>Party</td>\n",
              "      <td>X360</td>\n",
              "      <td>Microsoft Game Studios</td>\n",
              "      <td>Good Science Studio</td>\n",
              "      <td>6.2</td>\n",
              "      <td>6.7</td>\n",
              "      <td>NaN</td>\n",
              "      <td>24000000.0</td>\n",
              "      <td>NaN</td>\n",
              "      <td>NaN</td>\n",
              "      <td>NaN</td>\n",
              "      <td>NaN</td>\n",
              "      <td>NaN</td>\n",
              "      <td>2010-11-04</td>\n",
              "      <td>2018-09-29</td>\n",
              "    </tr>\n",
              "    <tr>\n",
              "      <th>3</th>\n",
              "      <td>Wii Party</td>\n",
              "      <td>Party</td>\n",
              "      <td>Series</td>\n",
              "      <td>Nintendo</td>\n",
              "      <td>NDcube|Nintendo</td>\n",
              "      <td>NaN</td>\n",
              "      <td>NaN</td>\n",
              "      <td>NaN</td>\n",
              "      <td>11120000.0</td>\n",
              "      <td>NaN</td>\n",
              "      <td>NaN</td>\n",
              "      <td>NaN</td>\n",
              "      <td>NaN</td>\n",
              "      <td>NaN</td>\n",
              "      <td>2010-10-03</td>\n",
              "      <td>2020-02-19</td>\n",
              "    </tr>\n",
              "    <tr>\n",
              "      <th>4</th>\n",
              "      <td>Super Mario Party</td>\n",
              "      <td>Party</td>\n",
              "      <td>NS</td>\n",
              "      <td>Nintendo</td>\n",
              "      <td>Nd Cube Co., Ltd.</td>\n",
              "      <td>7.0</td>\n",
              "      <td>7.3</td>\n",
              "      <td>NaN</td>\n",
              "      <td>10100000.0</td>\n",
              "      <td>NaN</td>\n",
              "      <td>NaN</td>\n",
              "      <td>NaN</td>\n",
              "      <td>NaN</td>\n",
              "      <td>NaN</td>\n",
              "      <td>2018-10-05</td>\n",
              "      <td>2018-11-19</td>\n",
              "    </tr>\n",
              "  </tbody>\n",
              "</table>\n",
              "</div>\n",
              "      <button class=\"colab-df-convert\" onclick=\"convertToInteractive('df-8a05763b-4c23-4ed3-82a5-eeb87b55e7c7')\"\n",
              "              title=\"Convert this dataframe to an interactive table.\"\n",
              "              style=\"display:none;\">\n",
              "        \n",
              "  <svg xmlns=\"http://www.w3.org/2000/svg\" height=\"24px\"viewBox=\"0 0 24 24\"\n",
              "       width=\"24px\">\n",
              "    <path d=\"M0 0h24v24H0V0z\" fill=\"none\"/>\n",
              "    <path d=\"M18.56 5.44l.94 2.06.94-2.06 2.06-.94-2.06-.94-.94-2.06-.94 2.06-2.06.94zm-11 1L8.5 8.5l.94-2.06 2.06-.94-2.06-.94L8.5 2.5l-.94 2.06-2.06.94zm10 10l.94 2.06.94-2.06 2.06-.94-2.06-.94-.94-2.06-.94 2.06-2.06.94z\"/><path d=\"M17.41 7.96l-1.37-1.37c-.4-.4-.92-.59-1.43-.59-.52 0-1.04.2-1.43.59L10.3 9.45l-7.72 7.72c-.78.78-.78 2.05 0 2.83L4 21.41c.39.39.9.59 1.41.59.51 0 1.02-.2 1.41-.59l7.78-7.78 2.81-2.81c.8-.78.8-2.07 0-2.86zM5.41 20L4 18.59l7.72-7.72 1.47 1.35L5.41 20z\"/>\n",
              "  </svg>\n",
              "      </button>\n",
              "      \n",
              "  <style>\n",
              "    .colab-df-container {\n",
              "      display:flex;\n",
              "      flex-wrap:wrap;\n",
              "      gap: 12px;\n",
              "    }\n",
              "\n",
              "    .colab-df-convert {\n",
              "      background-color: #E8F0FE;\n",
              "      border: none;\n",
              "      border-radius: 50%;\n",
              "      cursor: pointer;\n",
              "      display: none;\n",
              "      fill: #1967D2;\n",
              "      height: 32px;\n",
              "      padding: 0 0 0 0;\n",
              "      width: 32px;\n",
              "    }\n",
              "\n",
              "    .colab-df-convert:hover {\n",
              "      background-color: #E2EBFA;\n",
              "      box-shadow: 0px 1px 2px rgba(60, 64, 67, 0.3), 0px 1px 3px 1px rgba(60, 64, 67, 0.15);\n",
              "      fill: #174EA6;\n",
              "    }\n",
              "\n",
              "    [theme=dark] .colab-df-convert {\n",
              "      background-color: #3B4455;\n",
              "      fill: #D2E3FC;\n",
              "    }\n",
              "\n",
              "    [theme=dark] .colab-df-convert:hover {\n",
              "      background-color: #434B5C;\n",
              "      box-shadow: 0px 1px 3px 1px rgba(0, 0, 0, 0.15);\n",
              "      filter: drop-shadow(0px 1px 2px rgba(0, 0, 0, 0.3));\n",
              "      fill: #FFFFFF;\n",
              "    }\n",
              "  </style>\n",
              "\n",
              "      <script>\n",
              "        const buttonEl =\n",
              "          document.querySelector('#df-8a05763b-4c23-4ed3-82a5-eeb87b55e7c7 button.colab-df-convert');\n",
              "        buttonEl.style.display =\n",
              "          google.colab.kernel.accessAllowed ? 'block' : 'none';\n",
              "\n",
              "        async function convertToInteractive(key) {\n",
              "          const element = document.querySelector('#df-8a05763b-4c23-4ed3-82a5-eeb87b55e7c7');\n",
              "          const dataTable =\n",
              "            await google.colab.kernel.invokeFunction('convertToInteractive',\n",
              "                                                     [key], {});\n",
              "          if (!dataTable) return;\n",
              "\n",
              "          const docLinkHtml = 'Like what you see? Visit the ' +\n",
              "            '<a target=\"_blank\" href=https://colab.research.google.com/notebooks/data_table.ipynb>data table notebook</a>'\n",
              "            + ' to learn more about interactive tables.';\n",
              "          element.innerHTML = '';\n",
              "          dataTable['output_type'] = 'display_data';\n",
              "          await google.colab.output.renderOutput(dataTable, element);\n",
              "          const docLink = document.createElement('div');\n",
              "          docLink.innerHTML = docLinkHtml;\n",
              "          element.appendChild(docLink);\n",
              "        }\n",
              "      </script>\n",
              "    </div>\n",
              "  </div>\n",
              "  "
            ],
            "text/plain": [
              "                 Name  Genre Platform               Publisher  \\\n",
              "0         Mario Party  Party   Series                Nintendo   \n",
              "1            Wii Play  Party   Series                Nintendo   \n",
              "2  Kinect Adventures!  Party     X360  Microsoft Game Studios   \n",
              "3           Wii Party  Party   Series                Nintendo   \n",
              "4   Super Mario Party  Party       NS                Nintendo   \n",
              "\n",
              "                                           Developer  Vgchartz_Score  \\\n",
              "0                          Hudson Soft|Capcom|NDcube             NaN   \n",
              "1  Nintendo|Arzest|Chunsoft|Good-Feel|Mitchell Co...             NaN   \n",
              "2                                Good Science Studio             6.2   \n",
              "3                                    NDcube|Nintendo             NaN   \n",
              "4                                  Nd Cube Co., Ltd.             7.0   \n",
              "\n",
              "   Critic_Score  User_Score  Total_Shipped  Total_Sales  NA_Sales  PAL_Sales  \\\n",
              "0           NaN         NaN     51860000.0          NaN       NaN        NaN   \n",
              "1           NaN         NaN     29660000.0          NaN       NaN        NaN   \n",
              "2           6.7         NaN     24000000.0          NaN       NaN        NaN   \n",
              "3           NaN         NaN     11120000.0          NaN       NaN        NaN   \n",
              "4           7.3         NaN     10100000.0          NaN       NaN        NaN   \n",
              "\n",
              "   JP_Sales  Other_Sales Release_Date Last_Update  \n",
              "0       NaN          NaN   1999-02-01  2020-02-18  \n",
              "1       NaN          NaN   2007-02-12  2020-02-20  \n",
              "2       NaN          NaN   2010-11-04  2018-09-29  \n",
              "3       NaN          NaN   2010-10-03  2020-02-19  \n",
              "4       NaN          NaN   2018-10-05  2018-11-19  "
            ]
          },
          "metadata": {},
          "execution_count": 7
        }
      ]
    },
    {
      "cell_type": "code",
      "source": [
        "df.info()"
      ],
      "metadata": {
        "colab": {
          "base_uri": "https://localhost:8080/"
        },
        "id": "pQ6TAoBBMl2N",
        "outputId": "51c56a8b-0e0c-41f6-a0a5-1aaa47f1cea2"
      },
      "execution_count": 10,
      "outputs": [
        {
          "output_type": "stream",
          "name": "stdout",
          "text": [
            "<class 'pandas.core.frame.DataFrame'>\n",
            "RangeIndex: 48270 entries, 0 to 48269\n",
            "Data columns (total 16 columns):\n",
            " #   Column          Non-Null Count  Dtype         \n",
            "---  ------          --------------  -----         \n",
            " 0   Name            48270 non-null  object        \n",
            " 1   Genre           48270 non-null  object        \n",
            " 2   Platform        48270 non-null  object        \n",
            " 3   Publisher       48270 non-null  object        \n",
            " 4   Developer       48256 non-null  object        \n",
            " 5   Vgchartz_Score  928 non-null    float64       \n",
            " 6   Critic_Score    6201 non-null   float64       \n",
            " 7   User_Score      378 non-null    float64       \n",
            " 8   Total_Shipped   2197 non-null   float64       \n",
            " 9   Total_Sales     17058 non-null  float64       \n",
            " 10  NA_Sales        11652 non-null  float64       \n",
            " 11  PAL_Sales       11907 non-null  float64       \n",
            " 12  JP_Sales        6097 non-null   float64       \n",
            " 13  Other_Sales     13915 non-null  float64       \n",
            " 14  Release_Date    45503 non-null  datetime64[ns]\n",
            " 15  Last_Update     10889 non-null  datetime64[ns]\n",
            "dtypes: datetime64[ns](2), float64(9), object(5)\n",
            "memory usage: 5.9+ MB\n"
          ]
        }
      ]
    },
    {
      "cell_type": "code",
      "source": [
        "df.shape  "
      ],
      "metadata": {
        "colab": {
          "base_uri": "https://localhost:8080/"
        },
        "id": "KKrkHYuDMl8T",
        "outputId": "8e856279-ea62-46ef-e83b-6528fc66d754"
      },
      "execution_count": 11,
      "outputs": [
        {
          "output_type": "execute_result",
          "data": {
            "text/plain": [
              "(48270, 16)"
            ]
          },
          "metadata": {},
          "execution_count": 11
        }
      ]
    },
    {
      "cell_type": "code",
      "source": [
        "df.describe()"
      ],
      "metadata": {
        "colab": {
          "base_uri": "https://localhost:8080/",
          "height": 300
        },
        "id": "6MW6I9pNMl-y",
        "outputId": "2a9e8cdd-a23d-4581-a4be-4bc63cc44efc"
      },
      "execution_count": 12,
      "outputs": [
        {
          "output_type": "execute_result",
          "data": {
            "text/html": [
              "\n",
              "  <div id=\"df-91b39d08-96c7-453c-bd29-7bf43321444c\">\n",
              "    <div class=\"colab-df-container\">\n",
              "      <div>\n",
              "<style scoped>\n",
              "    .dataframe tbody tr th:only-of-type {\n",
              "        vertical-align: middle;\n",
              "    }\n",
              "\n",
              "    .dataframe tbody tr th {\n",
              "        vertical-align: top;\n",
              "    }\n",
              "\n",
              "    .dataframe thead th {\n",
              "        text-align: right;\n",
              "    }\n",
              "</style>\n",
              "<table border=\"1\" class=\"dataframe\">\n",
              "  <thead>\n",
              "    <tr style=\"text-align: right;\">\n",
              "      <th></th>\n",
              "      <th>Vgchartz_Score</th>\n",
              "      <th>Critic_Score</th>\n",
              "      <th>User_Score</th>\n",
              "      <th>Total_Shipped</th>\n",
              "      <th>Total_Sales</th>\n",
              "      <th>NA_Sales</th>\n",
              "      <th>PAL_Sales</th>\n",
              "      <th>JP_Sales</th>\n",
              "      <th>Other_Sales</th>\n",
              "    </tr>\n",
              "  </thead>\n",
              "  <tbody>\n",
              "    <tr>\n",
              "      <th>count</th>\n",
              "      <td>928.000000</td>\n",
              "      <td>6201.000000</td>\n",
              "      <td>378.000000</td>\n",
              "      <td>2.197000e+03</td>\n",
              "      <td>1.705800e+04</td>\n",
              "      <td>1.165200e+04</td>\n",
              "      <td>1.190700e+04</td>\n",
              "      <td>6.097000e+03</td>\n",
              "      <td>1.391500e+04</td>\n",
              "    </tr>\n",
              "    <tr>\n",
              "      <th>mean</th>\n",
              "      <td>7.248815</td>\n",
              "      <td>7.232672</td>\n",
              "      <td>8.127249</td>\n",
              "      <td>5.358757e+06</td>\n",
              "      <td>3.747280e+05</td>\n",
              "      <td>2.758333e+05</td>\n",
              "      <td>1.560309e+05</td>\n",
              "      <td>1.138904e+05</td>\n",
              "      <td>4.469781e+04</td>\n",
              "    </tr>\n",
              "    <tr>\n",
              "      <th>std</th>\n",
              "      <td>1.422564</td>\n",
              "      <td>1.448652</td>\n",
              "      <td>1.589412</td>\n",
              "      <td>2.085084e+07</td>\n",
              "      <td>8.529292e+05</td>\n",
              "      <td>5.171804e+05</td>\n",
              "      <td>4.071137e+05</td>\n",
              "      <td>1.877231e+05</td>\n",
              "      <td>1.306887e+05</td>\n",
              "    </tr>\n",
              "    <tr>\n",
              "      <th>min</th>\n",
              "      <td>1.000000</td>\n",
              "      <td>1.000000</td>\n",
              "      <td>1.000000</td>\n",
              "      <td>1.000000e+04</td>\n",
              "      <td>0.000000e+00</td>\n",
              "      <td>0.000000e+00</td>\n",
              "      <td>0.000000e+00</td>\n",
              "      <td>0.000000e+00</td>\n",
              "      <td>0.000000e+00</td>\n",
              "    </tr>\n",
              "    <tr>\n",
              "      <th>25%</th>\n",
              "      <td>6.400000</td>\n",
              "      <td>6.500000</td>\n",
              "      <td>7.525000</td>\n",
              "      <td>2.000000e+05</td>\n",
              "      <td>4.000000e+04</td>\n",
              "      <td>5.000000e+04</td>\n",
              "      <td>1.000000e+04</td>\n",
              "      <td>2.000000e+04</td>\n",
              "      <td>0.000000e+00</td>\n",
              "    </tr>\n",
              "    <tr>\n",
              "      <th>50%</th>\n",
              "      <td>7.500000</td>\n",
              "      <td>7.500000</td>\n",
              "      <td>8.500000</td>\n",
              "      <td>9.100000e+05</td>\n",
              "      <td>1.300000e+05</td>\n",
              "      <td>1.200000e+05</td>\n",
              "      <td>4.000000e+04</td>\n",
              "      <td>5.000000e+04</td>\n",
              "      <td>1.000000e+04</td>\n",
              "    </tr>\n",
              "    <tr>\n",
              "      <th>75%</th>\n",
              "      <td>8.300000</td>\n",
              "      <td>8.300000</td>\n",
              "      <td>9.100000</td>\n",
              "      <td>2.800000e+06</td>\n",
              "      <td>3.800000e+05</td>\n",
              "      <td>2.900000e+05</td>\n",
              "      <td>1.400000e+05</td>\n",
              "      <td>1.300000e+05</td>\n",
              "      <td>4.000000e+04</td>\n",
              "    </tr>\n",
              "    <tr>\n",
              "      <th>max</th>\n",
              "      <td>9.600000</td>\n",
              "      <td>10.000000</td>\n",
              "      <td>10.000000</td>\n",
              "      <td>3.656000e+08</td>\n",
              "      <td>2.032000e+07</td>\n",
              "      <td>9.760000e+06</td>\n",
              "      <td>9.850000e+06</td>\n",
              "      <td>2.690000e+06</td>\n",
              "      <td>3.120000e+06</td>\n",
              "    </tr>\n",
              "  </tbody>\n",
              "</table>\n",
              "</div>\n",
              "      <button class=\"colab-df-convert\" onclick=\"convertToInteractive('df-91b39d08-96c7-453c-bd29-7bf43321444c')\"\n",
              "              title=\"Convert this dataframe to an interactive table.\"\n",
              "              style=\"display:none;\">\n",
              "        \n",
              "  <svg xmlns=\"http://www.w3.org/2000/svg\" height=\"24px\"viewBox=\"0 0 24 24\"\n",
              "       width=\"24px\">\n",
              "    <path d=\"M0 0h24v24H0V0z\" fill=\"none\"/>\n",
              "    <path d=\"M18.56 5.44l.94 2.06.94-2.06 2.06-.94-2.06-.94-.94-2.06-.94 2.06-2.06.94zm-11 1L8.5 8.5l.94-2.06 2.06-.94-2.06-.94L8.5 2.5l-.94 2.06-2.06.94zm10 10l.94 2.06.94-2.06 2.06-.94-2.06-.94-.94-2.06-.94 2.06-2.06.94z\"/><path d=\"M17.41 7.96l-1.37-1.37c-.4-.4-.92-.59-1.43-.59-.52 0-1.04.2-1.43.59L10.3 9.45l-7.72 7.72c-.78.78-.78 2.05 0 2.83L4 21.41c.39.39.9.59 1.41.59.51 0 1.02-.2 1.41-.59l7.78-7.78 2.81-2.81c.8-.78.8-2.07 0-2.86zM5.41 20L4 18.59l7.72-7.72 1.47 1.35L5.41 20z\"/>\n",
              "  </svg>\n",
              "      </button>\n",
              "      \n",
              "  <style>\n",
              "    .colab-df-container {\n",
              "      display:flex;\n",
              "      flex-wrap:wrap;\n",
              "      gap: 12px;\n",
              "    }\n",
              "\n",
              "    .colab-df-convert {\n",
              "      background-color: #E8F0FE;\n",
              "      border: none;\n",
              "      border-radius: 50%;\n",
              "      cursor: pointer;\n",
              "      display: none;\n",
              "      fill: #1967D2;\n",
              "      height: 32px;\n",
              "      padding: 0 0 0 0;\n",
              "      width: 32px;\n",
              "    }\n",
              "\n",
              "    .colab-df-convert:hover {\n",
              "      background-color: #E2EBFA;\n",
              "      box-shadow: 0px 1px 2px rgba(60, 64, 67, 0.3), 0px 1px 3px 1px rgba(60, 64, 67, 0.15);\n",
              "      fill: #174EA6;\n",
              "    }\n",
              "\n",
              "    [theme=dark] .colab-df-convert {\n",
              "      background-color: #3B4455;\n",
              "      fill: #D2E3FC;\n",
              "    }\n",
              "\n",
              "    [theme=dark] .colab-df-convert:hover {\n",
              "      background-color: #434B5C;\n",
              "      box-shadow: 0px 1px 3px 1px rgba(0, 0, 0, 0.15);\n",
              "      filter: drop-shadow(0px 1px 2px rgba(0, 0, 0, 0.3));\n",
              "      fill: #FFFFFF;\n",
              "    }\n",
              "  </style>\n",
              "\n",
              "      <script>\n",
              "        const buttonEl =\n",
              "          document.querySelector('#df-91b39d08-96c7-453c-bd29-7bf43321444c button.colab-df-convert');\n",
              "        buttonEl.style.display =\n",
              "          google.colab.kernel.accessAllowed ? 'block' : 'none';\n",
              "\n",
              "        async function convertToInteractive(key) {\n",
              "          const element = document.querySelector('#df-91b39d08-96c7-453c-bd29-7bf43321444c');\n",
              "          const dataTable =\n",
              "            await google.colab.kernel.invokeFunction('convertToInteractive',\n",
              "                                                     [key], {});\n",
              "          if (!dataTable) return;\n",
              "\n",
              "          const docLinkHtml = 'Like what you see? Visit the ' +\n",
              "            '<a target=\"_blank\" href=https://colab.research.google.com/notebooks/data_table.ipynb>data table notebook</a>'\n",
              "            + ' to learn more about interactive tables.';\n",
              "          element.innerHTML = '';\n",
              "          dataTable['output_type'] = 'display_data';\n",
              "          await google.colab.output.renderOutput(dataTable, element);\n",
              "          const docLink = document.createElement('div');\n",
              "          docLink.innerHTML = docLinkHtml;\n",
              "          element.appendChild(docLink);\n",
              "        }\n",
              "      </script>\n",
              "    </div>\n",
              "  </div>\n",
              "  "
            ],
            "text/plain": [
              "       Vgchartz_Score  Critic_Score  User_Score  Total_Shipped   Total_Sales  \\\n",
              "count      928.000000   6201.000000  378.000000   2.197000e+03  1.705800e+04   \n",
              "mean         7.248815      7.232672    8.127249   5.358757e+06  3.747280e+05   \n",
              "std          1.422564      1.448652    1.589412   2.085084e+07  8.529292e+05   \n",
              "min          1.000000      1.000000    1.000000   1.000000e+04  0.000000e+00   \n",
              "25%          6.400000      6.500000    7.525000   2.000000e+05  4.000000e+04   \n",
              "50%          7.500000      7.500000    8.500000   9.100000e+05  1.300000e+05   \n",
              "75%          8.300000      8.300000    9.100000   2.800000e+06  3.800000e+05   \n",
              "max          9.600000     10.000000   10.000000   3.656000e+08  2.032000e+07   \n",
              "\n",
              "           NA_Sales     PAL_Sales      JP_Sales   Other_Sales  \n",
              "count  1.165200e+04  1.190700e+04  6.097000e+03  1.391500e+04  \n",
              "mean   2.758333e+05  1.560309e+05  1.138904e+05  4.469781e+04  \n",
              "std    5.171804e+05  4.071137e+05  1.877231e+05  1.306887e+05  \n",
              "min    0.000000e+00  0.000000e+00  0.000000e+00  0.000000e+00  \n",
              "25%    5.000000e+04  1.000000e+04  2.000000e+04  0.000000e+00  \n",
              "50%    1.200000e+05  4.000000e+04  5.000000e+04  1.000000e+04  \n",
              "75%    2.900000e+05  1.400000e+05  1.300000e+05  4.000000e+04  \n",
              "max    9.760000e+06  9.850000e+06  2.690000e+06  3.120000e+06  "
            ]
          },
          "metadata": {},
          "execution_count": 12
        }
      ]
    },
    {
      "cell_type": "code",
      "source": [
        "df.head()"
      ],
      "metadata": {
        "colab": {
          "base_uri": "https://localhost:8080/",
          "height": 339
        },
        "id": "3kFBC8joMmBv",
        "outputId": "68b63158-a9d3-408d-b056-978ff756d13f"
      },
      "execution_count": 13,
      "outputs": [
        {
          "output_type": "execute_result",
          "data": {
            "text/html": [
              "\n",
              "  <div id=\"df-7f22f0a0-4707-4778-8283-3a224966e479\">\n",
              "    <div class=\"colab-df-container\">\n",
              "      <div>\n",
              "<style scoped>\n",
              "    .dataframe tbody tr th:only-of-type {\n",
              "        vertical-align: middle;\n",
              "    }\n",
              "\n",
              "    .dataframe tbody tr th {\n",
              "        vertical-align: top;\n",
              "    }\n",
              "\n",
              "    .dataframe thead th {\n",
              "        text-align: right;\n",
              "    }\n",
              "</style>\n",
              "<table border=\"1\" class=\"dataframe\">\n",
              "  <thead>\n",
              "    <tr style=\"text-align: right;\">\n",
              "      <th></th>\n",
              "      <th>Name</th>\n",
              "      <th>Genre</th>\n",
              "      <th>Platform</th>\n",
              "      <th>Publisher</th>\n",
              "      <th>Developer</th>\n",
              "      <th>Vgchartz_Score</th>\n",
              "      <th>Critic_Score</th>\n",
              "      <th>User_Score</th>\n",
              "      <th>Total_Shipped</th>\n",
              "      <th>Total_Sales</th>\n",
              "      <th>NA_Sales</th>\n",
              "      <th>PAL_Sales</th>\n",
              "      <th>JP_Sales</th>\n",
              "      <th>Other_Sales</th>\n",
              "      <th>Release_Date</th>\n",
              "      <th>Last_Update</th>\n",
              "    </tr>\n",
              "  </thead>\n",
              "  <tbody>\n",
              "    <tr>\n",
              "      <th>0</th>\n",
              "      <td>Mario Party</td>\n",
              "      <td>Party</td>\n",
              "      <td>Series</td>\n",
              "      <td>Nintendo</td>\n",
              "      <td>Hudson Soft|Capcom|NDcube</td>\n",
              "      <td>NaN</td>\n",
              "      <td>NaN</td>\n",
              "      <td>NaN</td>\n",
              "      <td>51860000.0</td>\n",
              "      <td>NaN</td>\n",
              "      <td>NaN</td>\n",
              "      <td>NaN</td>\n",
              "      <td>NaN</td>\n",
              "      <td>NaN</td>\n",
              "      <td>1999-02-01</td>\n",
              "      <td>2020-02-18</td>\n",
              "    </tr>\n",
              "    <tr>\n",
              "      <th>1</th>\n",
              "      <td>Wii Play</td>\n",
              "      <td>Party</td>\n",
              "      <td>Series</td>\n",
              "      <td>Nintendo</td>\n",
              "      <td>Nintendo|Arzest|Chunsoft|Good-Feel|Mitchell Co...</td>\n",
              "      <td>NaN</td>\n",
              "      <td>NaN</td>\n",
              "      <td>NaN</td>\n",
              "      <td>29660000.0</td>\n",
              "      <td>NaN</td>\n",
              "      <td>NaN</td>\n",
              "      <td>NaN</td>\n",
              "      <td>NaN</td>\n",
              "      <td>NaN</td>\n",
              "      <td>2007-02-12</td>\n",
              "      <td>2020-02-20</td>\n",
              "    </tr>\n",
              "    <tr>\n",
              "      <th>2</th>\n",
              "      <td>Kinect Adventures!</td>\n",
              "      <td>Party</td>\n",
              "      <td>X360</td>\n",
              "      <td>Microsoft Game Studios</td>\n",
              "      <td>Good Science Studio</td>\n",
              "      <td>6.2</td>\n",
              "      <td>6.7</td>\n",
              "      <td>NaN</td>\n",
              "      <td>24000000.0</td>\n",
              "      <td>NaN</td>\n",
              "      <td>NaN</td>\n",
              "      <td>NaN</td>\n",
              "      <td>NaN</td>\n",
              "      <td>NaN</td>\n",
              "      <td>2010-11-04</td>\n",
              "      <td>2018-09-29</td>\n",
              "    </tr>\n",
              "    <tr>\n",
              "      <th>3</th>\n",
              "      <td>Wii Party</td>\n",
              "      <td>Party</td>\n",
              "      <td>Series</td>\n",
              "      <td>Nintendo</td>\n",
              "      <td>NDcube|Nintendo</td>\n",
              "      <td>NaN</td>\n",
              "      <td>NaN</td>\n",
              "      <td>NaN</td>\n",
              "      <td>11120000.0</td>\n",
              "      <td>NaN</td>\n",
              "      <td>NaN</td>\n",
              "      <td>NaN</td>\n",
              "      <td>NaN</td>\n",
              "      <td>NaN</td>\n",
              "      <td>2010-10-03</td>\n",
              "      <td>2020-02-19</td>\n",
              "    </tr>\n",
              "    <tr>\n",
              "      <th>4</th>\n",
              "      <td>Super Mario Party</td>\n",
              "      <td>Party</td>\n",
              "      <td>NS</td>\n",
              "      <td>Nintendo</td>\n",
              "      <td>Nd Cube Co., Ltd.</td>\n",
              "      <td>7.0</td>\n",
              "      <td>7.3</td>\n",
              "      <td>NaN</td>\n",
              "      <td>10100000.0</td>\n",
              "      <td>NaN</td>\n",
              "      <td>NaN</td>\n",
              "      <td>NaN</td>\n",
              "      <td>NaN</td>\n",
              "      <td>NaN</td>\n",
              "      <td>2018-10-05</td>\n",
              "      <td>2018-11-19</td>\n",
              "    </tr>\n",
              "  </tbody>\n",
              "</table>\n",
              "</div>\n",
              "      <button class=\"colab-df-convert\" onclick=\"convertToInteractive('df-7f22f0a0-4707-4778-8283-3a224966e479')\"\n",
              "              title=\"Convert this dataframe to an interactive table.\"\n",
              "              style=\"display:none;\">\n",
              "        \n",
              "  <svg xmlns=\"http://www.w3.org/2000/svg\" height=\"24px\"viewBox=\"0 0 24 24\"\n",
              "       width=\"24px\">\n",
              "    <path d=\"M0 0h24v24H0V0z\" fill=\"none\"/>\n",
              "    <path d=\"M18.56 5.44l.94 2.06.94-2.06 2.06-.94-2.06-.94-.94-2.06-.94 2.06-2.06.94zm-11 1L8.5 8.5l.94-2.06 2.06-.94-2.06-.94L8.5 2.5l-.94 2.06-2.06.94zm10 10l.94 2.06.94-2.06 2.06-.94-2.06-.94-.94-2.06-.94 2.06-2.06.94z\"/><path d=\"M17.41 7.96l-1.37-1.37c-.4-.4-.92-.59-1.43-.59-.52 0-1.04.2-1.43.59L10.3 9.45l-7.72 7.72c-.78.78-.78 2.05 0 2.83L4 21.41c.39.39.9.59 1.41.59.51 0 1.02-.2 1.41-.59l7.78-7.78 2.81-2.81c.8-.78.8-2.07 0-2.86zM5.41 20L4 18.59l7.72-7.72 1.47 1.35L5.41 20z\"/>\n",
              "  </svg>\n",
              "      </button>\n",
              "      \n",
              "  <style>\n",
              "    .colab-df-container {\n",
              "      display:flex;\n",
              "      flex-wrap:wrap;\n",
              "      gap: 12px;\n",
              "    }\n",
              "\n",
              "    .colab-df-convert {\n",
              "      background-color: #E8F0FE;\n",
              "      border: none;\n",
              "      border-radius: 50%;\n",
              "      cursor: pointer;\n",
              "      display: none;\n",
              "      fill: #1967D2;\n",
              "      height: 32px;\n",
              "      padding: 0 0 0 0;\n",
              "      width: 32px;\n",
              "    }\n",
              "\n",
              "    .colab-df-convert:hover {\n",
              "      background-color: #E2EBFA;\n",
              "      box-shadow: 0px 1px 2px rgba(60, 64, 67, 0.3), 0px 1px 3px 1px rgba(60, 64, 67, 0.15);\n",
              "      fill: #174EA6;\n",
              "    }\n",
              "\n",
              "    [theme=dark] .colab-df-convert {\n",
              "      background-color: #3B4455;\n",
              "      fill: #D2E3FC;\n",
              "    }\n",
              "\n",
              "    [theme=dark] .colab-df-convert:hover {\n",
              "      background-color: #434B5C;\n",
              "      box-shadow: 0px 1px 3px 1px rgba(0, 0, 0, 0.15);\n",
              "      filter: drop-shadow(0px 1px 2px rgba(0, 0, 0, 0.3));\n",
              "      fill: #FFFFFF;\n",
              "    }\n",
              "  </style>\n",
              "\n",
              "      <script>\n",
              "        const buttonEl =\n",
              "          document.querySelector('#df-7f22f0a0-4707-4778-8283-3a224966e479 button.colab-df-convert');\n",
              "        buttonEl.style.display =\n",
              "          google.colab.kernel.accessAllowed ? 'block' : 'none';\n",
              "\n",
              "        async function convertToInteractive(key) {\n",
              "          const element = document.querySelector('#df-7f22f0a0-4707-4778-8283-3a224966e479');\n",
              "          const dataTable =\n",
              "            await google.colab.kernel.invokeFunction('convertToInteractive',\n",
              "                                                     [key], {});\n",
              "          if (!dataTable) return;\n",
              "\n",
              "          const docLinkHtml = 'Like what you see? Visit the ' +\n",
              "            '<a target=\"_blank\" href=https://colab.research.google.com/notebooks/data_table.ipynb>data table notebook</a>'\n",
              "            + ' to learn more about interactive tables.';\n",
              "          element.innerHTML = '';\n",
              "          dataTable['output_type'] = 'display_data';\n",
              "          await google.colab.output.renderOutput(dataTable, element);\n",
              "          const docLink = document.createElement('div');\n",
              "          docLink.innerHTML = docLinkHtml;\n",
              "          element.appendChild(docLink);\n",
              "        }\n",
              "      </script>\n",
              "    </div>\n",
              "  </div>\n",
              "  "
            ],
            "text/plain": [
              "                 Name  Genre Platform               Publisher  \\\n",
              "0         Mario Party  Party   Series                Nintendo   \n",
              "1            Wii Play  Party   Series                Nintendo   \n",
              "2  Kinect Adventures!  Party     X360  Microsoft Game Studios   \n",
              "3           Wii Party  Party   Series                Nintendo   \n",
              "4   Super Mario Party  Party       NS                Nintendo   \n",
              "\n",
              "                                           Developer  Vgchartz_Score  \\\n",
              "0                          Hudson Soft|Capcom|NDcube             NaN   \n",
              "1  Nintendo|Arzest|Chunsoft|Good-Feel|Mitchell Co...             NaN   \n",
              "2                                Good Science Studio             6.2   \n",
              "3                                    NDcube|Nintendo             NaN   \n",
              "4                                  Nd Cube Co., Ltd.             7.0   \n",
              "\n",
              "   Critic_Score  User_Score  Total_Shipped  Total_Sales  NA_Sales  PAL_Sales  \\\n",
              "0           NaN         NaN     51860000.0          NaN       NaN        NaN   \n",
              "1           NaN         NaN     29660000.0          NaN       NaN        NaN   \n",
              "2           6.7         NaN     24000000.0          NaN       NaN        NaN   \n",
              "3           NaN         NaN     11120000.0          NaN       NaN        NaN   \n",
              "4           7.3         NaN     10100000.0          NaN       NaN        NaN   \n",
              "\n",
              "   JP_Sales  Other_Sales Release_Date Last_Update  \n",
              "0       NaN          NaN   1999-02-01  2020-02-18  \n",
              "1       NaN          NaN   2007-02-12  2020-02-20  \n",
              "2       NaN          NaN   2010-11-04  2018-09-29  \n",
              "3       NaN          NaN   2010-10-03  2020-02-19  \n",
              "4       NaN          NaN   2018-10-05  2018-11-19  "
            ]
          },
          "metadata": {},
          "execution_count": 13
        }
      ]
    },
    {
      "cell_type": "markdown",
      "source": [
        "#Data Cleaning\n",
        "\n",
        "Lowercase column name"
      ],
      "metadata": {
        "id": "4CcI_D9ePz0h"
      }
    },
    {
      "cell_type": "code",
      "source": [
        "df.columns = df.columns.map(lambda x: x.lower())\n",
        "\n",
        "df.head()"
      ],
      "metadata": {
        "colab": {
          "base_uri": "https://localhost:8080/",
          "height": 339
        },
        "id": "c5XYKsoFMmEo",
        "outputId": "9f1af3de-eb65-4b8b-dcc0-169ee2c73712"
      },
      "execution_count": 15,
      "outputs": [
        {
          "output_type": "execute_result",
          "data": {
            "text/html": [
              "\n",
              "  <div id=\"df-6dd7e0e5-9063-4539-a632-2086a9cb3d57\">\n",
              "    <div class=\"colab-df-container\">\n",
              "      <div>\n",
              "<style scoped>\n",
              "    .dataframe tbody tr th:only-of-type {\n",
              "        vertical-align: middle;\n",
              "    }\n",
              "\n",
              "    .dataframe tbody tr th {\n",
              "        vertical-align: top;\n",
              "    }\n",
              "\n",
              "    .dataframe thead th {\n",
              "        text-align: right;\n",
              "    }\n",
              "</style>\n",
              "<table border=\"1\" class=\"dataframe\">\n",
              "  <thead>\n",
              "    <tr style=\"text-align: right;\">\n",
              "      <th></th>\n",
              "      <th>name</th>\n",
              "      <th>genre</th>\n",
              "      <th>platform</th>\n",
              "      <th>publisher</th>\n",
              "      <th>developer</th>\n",
              "      <th>vgchartz_score</th>\n",
              "      <th>critic_score</th>\n",
              "      <th>user_score</th>\n",
              "      <th>total_shipped</th>\n",
              "      <th>total_sales</th>\n",
              "      <th>na_sales</th>\n",
              "      <th>pal_sales</th>\n",
              "      <th>jp_sales</th>\n",
              "      <th>other_sales</th>\n",
              "      <th>release_date</th>\n",
              "      <th>last_update</th>\n",
              "    </tr>\n",
              "  </thead>\n",
              "  <tbody>\n",
              "    <tr>\n",
              "      <th>0</th>\n",
              "      <td>Mario Party</td>\n",
              "      <td>Party</td>\n",
              "      <td>Series</td>\n",
              "      <td>Nintendo</td>\n",
              "      <td>Hudson Soft|Capcom|NDcube</td>\n",
              "      <td>NaN</td>\n",
              "      <td>NaN</td>\n",
              "      <td>NaN</td>\n",
              "      <td>51860000.0</td>\n",
              "      <td>NaN</td>\n",
              "      <td>NaN</td>\n",
              "      <td>NaN</td>\n",
              "      <td>NaN</td>\n",
              "      <td>NaN</td>\n",
              "      <td>1999-02-01</td>\n",
              "      <td>2020-02-18</td>\n",
              "    </tr>\n",
              "    <tr>\n",
              "      <th>1</th>\n",
              "      <td>Wii Play</td>\n",
              "      <td>Party</td>\n",
              "      <td>Series</td>\n",
              "      <td>Nintendo</td>\n",
              "      <td>Nintendo|Arzest|Chunsoft|Good-Feel|Mitchell Co...</td>\n",
              "      <td>NaN</td>\n",
              "      <td>NaN</td>\n",
              "      <td>NaN</td>\n",
              "      <td>29660000.0</td>\n",
              "      <td>NaN</td>\n",
              "      <td>NaN</td>\n",
              "      <td>NaN</td>\n",
              "      <td>NaN</td>\n",
              "      <td>NaN</td>\n",
              "      <td>2007-02-12</td>\n",
              "      <td>2020-02-20</td>\n",
              "    </tr>\n",
              "    <tr>\n",
              "      <th>2</th>\n",
              "      <td>Kinect Adventures!</td>\n",
              "      <td>Party</td>\n",
              "      <td>X360</td>\n",
              "      <td>Microsoft Game Studios</td>\n",
              "      <td>Good Science Studio</td>\n",
              "      <td>6.2</td>\n",
              "      <td>6.7</td>\n",
              "      <td>NaN</td>\n",
              "      <td>24000000.0</td>\n",
              "      <td>NaN</td>\n",
              "      <td>NaN</td>\n",
              "      <td>NaN</td>\n",
              "      <td>NaN</td>\n",
              "      <td>NaN</td>\n",
              "      <td>2010-11-04</td>\n",
              "      <td>2018-09-29</td>\n",
              "    </tr>\n",
              "    <tr>\n",
              "      <th>3</th>\n",
              "      <td>Wii Party</td>\n",
              "      <td>Party</td>\n",
              "      <td>Series</td>\n",
              "      <td>Nintendo</td>\n",
              "      <td>NDcube|Nintendo</td>\n",
              "      <td>NaN</td>\n",
              "      <td>NaN</td>\n",
              "      <td>NaN</td>\n",
              "      <td>11120000.0</td>\n",
              "      <td>NaN</td>\n",
              "      <td>NaN</td>\n",
              "      <td>NaN</td>\n",
              "      <td>NaN</td>\n",
              "      <td>NaN</td>\n",
              "      <td>2010-10-03</td>\n",
              "      <td>2020-02-19</td>\n",
              "    </tr>\n",
              "    <tr>\n",
              "      <th>4</th>\n",
              "      <td>Super Mario Party</td>\n",
              "      <td>Party</td>\n",
              "      <td>NS</td>\n",
              "      <td>Nintendo</td>\n",
              "      <td>Nd Cube Co., Ltd.</td>\n",
              "      <td>7.0</td>\n",
              "      <td>7.3</td>\n",
              "      <td>NaN</td>\n",
              "      <td>10100000.0</td>\n",
              "      <td>NaN</td>\n",
              "      <td>NaN</td>\n",
              "      <td>NaN</td>\n",
              "      <td>NaN</td>\n",
              "      <td>NaN</td>\n",
              "      <td>2018-10-05</td>\n",
              "      <td>2018-11-19</td>\n",
              "    </tr>\n",
              "  </tbody>\n",
              "</table>\n",
              "</div>\n",
              "      <button class=\"colab-df-convert\" onclick=\"convertToInteractive('df-6dd7e0e5-9063-4539-a632-2086a9cb3d57')\"\n",
              "              title=\"Convert this dataframe to an interactive table.\"\n",
              "              style=\"display:none;\">\n",
              "        \n",
              "  <svg xmlns=\"http://www.w3.org/2000/svg\" height=\"24px\"viewBox=\"0 0 24 24\"\n",
              "       width=\"24px\">\n",
              "    <path d=\"M0 0h24v24H0V0z\" fill=\"none\"/>\n",
              "    <path d=\"M18.56 5.44l.94 2.06.94-2.06 2.06-.94-2.06-.94-.94-2.06-.94 2.06-2.06.94zm-11 1L8.5 8.5l.94-2.06 2.06-.94-2.06-.94L8.5 2.5l-.94 2.06-2.06.94zm10 10l.94 2.06.94-2.06 2.06-.94-2.06-.94-.94-2.06-.94 2.06-2.06.94z\"/><path d=\"M17.41 7.96l-1.37-1.37c-.4-.4-.92-.59-1.43-.59-.52 0-1.04.2-1.43.59L10.3 9.45l-7.72 7.72c-.78.78-.78 2.05 0 2.83L4 21.41c.39.39.9.59 1.41.59.51 0 1.02-.2 1.41-.59l7.78-7.78 2.81-2.81c.8-.78.8-2.07 0-2.86zM5.41 20L4 18.59l7.72-7.72 1.47 1.35L5.41 20z\"/>\n",
              "  </svg>\n",
              "      </button>\n",
              "      \n",
              "  <style>\n",
              "    .colab-df-container {\n",
              "      display:flex;\n",
              "      flex-wrap:wrap;\n",
              "      gap: 12px;\n",
              "    }\n",
              "\n",
              "    .colab-df-convert {\n",
              "      background-color: #E8F0FE;\n",
              "      border: none;\n",
              "      border-radius: 50%;\n",
              "      cursor: pointer;\n",
              "      display: none;\n",
              "      fill: #1967D2;\n",
              "      height: 32px;\n",
              "      padding: 0 0 0 0;\n",
              "      width: 32px;\n",
              "    }\n",
              "\n",
              "    .colab-df-convert:hover {\n",
              "      background-color: #E2EBFA;\n",
              "      box-shadow: 0px 1px 2px rgba(60, 64, 67, 0.3), 0px 1px 3px 1px rgba(60, 64, 67, 0.15);\n",
              "      fill: #174EA6;\n",
              "    }\n",
              "\n",
              "    [theme=dark] .colab-df-convert {\n",
              "      background-color: #3B4455;\n",
              "      fill: #D2E3FC;\n",
              "    }\n",
              "\n",
              "    [theme=dark] .colab-df-convert:hover {\n",
              "      background-color: #434B5C;\n",
              "      box-shadow: 0px 1px 3px 1px rgba(0, 0, 0, 0.15);\n",
              "      filter: drop-shadow(0px 1px 2px rgba(0, 0, 0, 0.3));\n",
              "      fill: #FFFFFF;\n",
              "    }\n",
              "  </style>\n",
              "\n",
              "      <script>\n",
              "        const buttonEl =\n",
              "          document.querySelector('#df-6dd7e0e5-9063-4539-a632-2086a9cb3d57 button.colab-df-convert');\n",
              "        buttonEl.style.display =\n",
              "          google.colab.kernel.accessAllowed ? 'block' : 'none';\n",
              "\n",
              "        async function convertToInteractive(key) {\n",
              "          const element = document.querySelector('#df-6dd7e0e5-9063-4539-a632-2086a9cb3d57');\n",
              "          const dataTable =\n",
              "            await google.colab.kernel.invokeFunction('convertToInteractive',\n",
              "                                                     [key], {});\n",
              "          if (!dataTable) return;\n",
              "\n",
              "          const docLinkHtml = 'Like what you see? Visit the ' +\n",
              "            '<a target=\"_blank\" href=https://colab.research.google.com/notebooks/data_table.ipynb>data table notebook</a>'\n",
              "            + ' to learn more about interactive tables.';\n",
              "          element.innerHTML = '';\n",
              "          dataTable['output_type'] = 'display_data';\n",
              "          await google.colab.output.renderOutput(dataTable, element);\n",
              "          const docLink = document.createElement('div');\n",
              "          docLink.innerHTML = docLinkHtml;\n",
              "          element.appendChild(docLink);\n",
              "        }\n",
              "      </script>\n",
              "    </div>\n",
              "  </div>\n",
              "  "
            ],
            "text/plain": [
              "                 name  genre platform               publisher  \\\n",
              "0         Mario Party  Party   Series                Nintendo   \n",
              "1            Wii Play  Party   Series                Nintendo   \n",
              "2  Kinect Adventures!  Party     X360  Microsoft Game Studios   \n",
              "3           Wii Party  Party   Series                Nintendo   \n",
              "4   Super Mario Party  Party       NS                Nintendo   \n",
              "\n",
              "                                           developer  vgchartz_score  \\\n",
              "0                          Hudson Soft|Capcom|NDcube             NaN   \n",
              "1  Nintendo|Arzest|Chunsoft|Good-Feel|Mitchell Co...             NaN   \n",
              "2                                Good Science Studio             6.2   \n",
              "3                                    NDcube|Nintendo             NaN   \n",
              "4                                  Nd Cube Co., Ltd.             7.0   \n",
              "\n",
              "   critic_score  user_score  total_shipped  total_sales  na_sales  pal_sales  \\\n",
              "0           NaN         NaN     51860000.0          NaN       NaN        NaN   \n",
              "1           NaN         NaN     29660000.0          NaN       NaN        NaN   \n",
              "2           6.7         NaN     24000000.0          NaN       NaN        NaN   \n",
              "3           NaN         NaN     11120000.0          NaN       NaN        NaN   \n",
              "4           7.3         NaN     10100000.0          NaN       NaN        NaN   \n",
              "\n",
              "   jp_sales  other_sales release_date last_update  \n",
              "0       NaN          NaN   1999-02-01  2020-02-18  \n",
              "1       NaN          NaN   2007-02-12  2020-02-20  \n",
              "2       NaN          NaN   2010-11-04  2018-09-29  \n",
              "3       NaN          NaN   2010-10-03  2020-02-19  \n",
              "4       NaN          NaN   2018-10-05  2018-11-19  "
            ]
          },
          "metadata": {},
          "execution_count": 15
        }
      ]
    },
    {
      "cell_type": "markdown",
      "source": [
        "Check for all missing values"
      ],
      "metadata": {
        "id": "zVFjrLMEQMbi"
      }
    },
    {
      "cell_type": "code",
      "source": [
        "df.isnull().sum()"
      ],
      "metadata": {
        "colab": {
          "base_uri": "https://localhost:8080/"
        },
        "id": "SK70zm-qMmHe",
        "outputId": "916dfe9e-4502-467e-c327-91d3a8ee1dad"
      },
      "execution_count": 16,
      "outputs": [
        {
          "output_type": "execute_result",
          "data": {
            "text/plain": [
              "name                  0\n",
              "genre                 0\n",
              "platform              0\n",
              "publisher             0\n",
              "developer            14\n",
              "vgchartz_score    47342\n",
              "critic_score      42069\n",
              "user_score        47892\n",
              "total_shipped     46073\n",
              "total_sales       31212\n",
              "na_sales          36618\n",
              "pal_sales         36363\n",
              "jp_sales          42173\n",
              "other_sales       34355\n",
              "release_date       2767\n",
              "last_update       37381\n",
              "dtype: int64"
            ]
          },
          "metadata": {},
          "execution_count": 16
        }
      ]
    },
    {
      "cell_type": "markdown",
      "source": [
        "Convert 'date' to day, month and year"
      ],
      "metadata": {
        "id": "sIJVgo1VQXq4"
      }
    },
    {
      "cell_type": "code",
      "source": [
        "df.date = pd.to_datetime(df.release_date)\n",
        "df['release_month'] = df['release_date'].apply(lambda x: x.to_pydatetime().month)\n",
        "df['release_year'] = df['release_date'].apply(lambda x: x.to_pydatetime().year)\n",
        "df['release_day_of_week'] = df['release_date'].apply(lambda x: x.to_pydatetime().weekday())\n",
        "df['release_day'] = df['release_date'].apply(lambda x: x.to_pydatetime().day)\n",
        "df.head()"
      ],
      "metadata": {
        "colab": {
          "base_uri": "https://localhost:8080/",
          "height": 339
        },
        "id": "m_inLt_PMmJ0",
        "outputId": "53126bcc-a598-41af-d992-3a758aa8ff5c"
      },
      "execution_count": 18,
      "outputs": [
        {
          "output_type": "execute_result",
          "data": {
            "text/html": [
              "\n",
              "  <div id=\"df-c475ce5c-c5fd-453d-9fe7-fdd92b468451\">\n",
              "    <div class=\"colab-df-container\">\n",
              "      <div>\n",
              "<style scoped>\n",
              "    .dataframe tbody tr th:only-of-type {\n",
              "        vertical-align: middle;\n",
              "    }\n",
              "\n",
              "    .dataframe tbody tr th {\n",
              "        vertical-align: top;\n",
              "    }\n",
              "\n",
              "    .dataframe thead th {\n",
              "        text-align: right;\n",
              "    }\n",
              "</style>\n",
              "<table border=\"1\" class=\"dataframe\">\n",
              "  <thead>\n",
              "    <tr style=\"text-align: right;\">\n",
              "      <th></th>\n",
              "      <th>name</th>\n",
              "      <th>genre</th>\n",
              "      <th>platform</th>\n",
              "      <th>publisher</th>\n",
              "      <th>developer</th>\n",
              "      <th>vgchartz_score</th>\n",
              "      <th>critic_score</th>\n",
              "      <th>user_score</th>\n",
              "      <th>total_shipped</th>\n",
              "      <th>total_sales</th>\n",
              "      <th>na_sales</th>\n",
              "      <th>pal_sales</th>\n",
              "      <th>jp_sales</th>\n",
              "      <th>other_sales</th>\n",
              "      <th>release_date</th>\n",
              "      <th>last_update</th>\n",
              "      <th>release_month</th>\n",
              "      <th>release_year</th>\n",
              "      <th>release_day_of_week</th>\n",
              "      <th>release_day</th>\n",
              "    </tr>\n",
              "  </thead>\n",
              "  <tbody>\n",
              "    <tr>\n",
              "      <th>0</th>\n",
              "      <td>Mario Party</td>\n",
              "      <td>Party</td>\n",
              "      <td>Series</td>\n",
              "      <td>Nintendo</td>\n",
              "      <td>Hudson Soft|Capcom|NDcube</td>\n",
              "      <td>NaN</td>\n",
              "      <td>NaN</td>\n",
              "      <td>NaN</td>\n",
              "      <td>51860000.0</td>\n",
              "      <td>NaN</td>\n",
              "      <td>NaN</td>\n",
              "      <td>NaN</td>\n",
              "      <td>NaN</td>\n",
              "      <td>NaN</td>\n",
              "      <td>1999-02-01</td>\n",
              "      <td>2020-02-18</td>\n",
              "      <td>2.0</td>\n",
              "      <td>1999.0</td>\n",
              "      <td>0.0</td>\n",
              "      <td>1.0</td>\n",
              "    </tr>\n",
              "    <tr>\n",
              "      <th>1</th>\n",
              "      <td>Wii Play</td>\n",
              "      <td>Party</td>\n",
              "      <td>Series</td>\n",
              "      <td>Nintendo</td>\n",
              "      <td>Nintendo|Arzest|Chunsoft|Good-Feel|Mitchell Co...</td>\n",
              "      <td>NaN</td>\n",
              "      <td>NaN</td>\n",
              "      <td>NaN</td>\n",
              "      <td>29660000.0</td>\n",
              "      <td>NaN</td>\n",
              "      <td>NaN</td>\n",
              "      <td>NaN</td>\n",
              "      <td>NaN</td>\n",
              "      <td>NaN</td>\n",
              "      <td>2007-02-12</td>\n",
              "      <td>2020-02-20</td>\n",
              "      <td>2.0</td>\n",
              "      <td>2007.0</td>\n",
              "      <td>0.0</td>\n",
              "      <td>12.0</td>\n",
              "    </tr>\n",
              "    <tr>\n",
              "      <th>2</th>\n",
              "      <td>Kinect Adventures!</td>\n",
              "      <td>Party</td>\n",
              "      <td>X360</td>\n",
              "      <td>Microsoft Game Studios</td>\n",
              "      <td>Good Science Studio</td>\n",
              "      <td>6.2</td>\n",
              "      <td>6.7</td>\n",
              "      <td>NaN</td>\n",
              "      <td>24000000.0</td>\n",
              "      <td>NaN</td>\n",
              "      <td>NaN</td>\n",
              "      <td>NaN</td>\n",
              "      <td>NaN</td>\n",
              "      <td>NaN</td>\n",
              "      <td>2010-11-04</td>\n",
              "      <td>2018-09-29</td>\n",
              "      <td>11.0</td>\n",
              "      <td>2010.0</td>\n",
              "      <td>3.0</td>\n",
              "      <td>4.0</td>\n",
              "    </tr>\n",
              "    <tr>\n",
              "      <th>3</th>\n",
              "      <td>Wii Party</td>\n",
              "      <td>Party</td>\n",
              "      <td>Series</td>\n",
              "      <td>Nintendo</td>\n",
              "      <td>NDcube|Nintendo</td>\n",
              "      <td>NaN</td>\n",
              "      <td>NaN</td>\n",
              "      <td>NaN</td>\n",
              "      <td>11120000.0</td>\n",
              "      <td>NaN</td>\n",
              "      <td>NaN</td>\n",
              "      <td>NaN</td>\n",
              "      <td>NaN</td>\n",
              "      <td>NaN</td>\n",
              "      <td>2010-10-03</td>\n",
              "      <td>2020-02-19</td>\n",
              "      <td>10.0</td>\n",
              "      <td>2010.0</td>\n",
              "      <td>6.0</td>\n",
              "      <td>3.0</td>\n",
              "    </tr>\n",
              "    <tr>\n",
              "      <th>4</th>\n",
              "      <td>Super Mario Party</td>\n",
              "      <td>Party</td>\n",
              "      <td>NS</td>\n",
              "      <td>Nintendo</td>\n",
              "      <td>Nd Cube Co., Ltd.</td>\n",
              "      <td>7.0</td>\n",
              "      <td>7.3</td>\n",
              "      <td>NaN</td>\n",
              "      <td>10100000.0</td>\n",
              "      <td>NaN</td>\n",
              "      <td>NaN</td>\n",
              "      <td>NaN</td>\n",
              "      <td>NaN</td>\n",
              "      <td>NaN</td>\n",
              "      <td>2018-10-05</td>\n",
              "      <td>2018-11-19</td>\n",
              "      <td>10.0</td>\n",
              "      <td>2018.0</td>\n",
              "      <td>4.0</td>\n",
              "      <td>5.0</td>\n",
              "    </tr>\n",
              "  </tbody>\n",
              "</table>\n",
              "</div>\n",
              "      <button class=\"colab-df-convert\" onclick=\"convertToInteractive('df-c475ce5c-c5fd-453d-9fe7-fdd92b468451')\"\n",
              "              title=\"Convert this dataframe to an interactive table.\"\n",
              "              style=\"display:none;\">\n",
              "        \n",
              "  <svg xmlns=\"http://www.w3.org/2000/svg\" height=\"24px\"viewBox=\"0 0 24 24\"\n",
              "       width=\"24px\">\n",
              "    <path d=\"M0 0h24v24H0V0z\" fill=\"none\"/>\n",
              "    <path d=\"M18.56 5.44l.94 2.06.94-2.06 2.06-.94-2.06-.94-.94-2.06-.94 2.06-2.06.94zm-11 1L8.5 8.5l.94-2.06 2.06-.94-2.06-.94L8.5 2.5l-.94 2.06-2.06.94zm10 10l.94 2.06.94-2.06 2.06-.94-2.06-.94-.94-2.06-.94 2.06-2.06.94z\"/><path d=\"M17.41 7.96l-1.37-1.37c-.4-.4-.92-.59-1.43-.59-.52 0-1.04.2-1.43.59L10.3 9.45l-7.72 7.72c-.78.78-.78 2.05 0 2.83L4 21.41c.39.39.9.59 1.41.59.51 0 1.02-.2 1.41-.59l7.78-7.78 2.81-2.81c.8-.78.8-2.07 0-2.86zM5.41 20L4 18.59l7.72-7.72 1.47 1.35L5.41 20z\"/>\n",
              "  </svg>\n",
              "      </button>\n",
              "      \n",
              "  <style>\n",
              "    .colab-df-container {\n",
              "      display:flex;\n",
              "      flex-wrap:wrap;\n",
              "      gap: 12px;\n",
              "    }\n",
              "\n",
              "    .colab-df-convert {\n",
              "      background-color: #E8F0FE;\n",
              "      border: none;\n",
              "      border-radius: 50%;\n",
              "      cursor: pointer;\n",
              "      display: none;\n",
              "      fill: #1967D2;\n",
              "      height: 32px;\n",
              "      padding: 0 0 0 0;\n",
              "      width: 32px;\n",
              "    }\n",
              "\n",
              "    .colab-df-convert:hover {\n",
              "      background-color: #E2EBFA;\n",
              "      box-shadow: 0px 1px 2px rgba(60, 64, 67, 0.3), 0px 1px 3px 1px rgba(60, 64, 67, 0.15);\n",
              "      fill: #174EA6;\n",
              "    }\n",
              "\n",
              "    [theme=dark] .colab-df-convert {\n",
              "      background-color: #3B4455;\n",
              "      fill: #D2E3FC;\n",
              "    }\n",
              "\n",
              "    [theme=dark] .colab-df-convert:hover {\n",
              "      background-color: #434B5C;\n",
              "      box-shadow: 0px 1px 3px 1px rgba(0, 0, 0, 0.15);\n",
              "      filter: drop-shadow(0px 1px 2px rgba(0, 0, 0, 0.3));\n",
              "      fill: #FFFFFF;\n",
              "    }\n",
              "  </style>\n",
              "\n",
              "      <script>\n",
              "        const buttonEl =\n",
              "          document.querySelector('#df-c475ce5c-c5fd-453d-9fe7-fdd92b468451 button.colab-df-convert');\n",
              "        buttonEl.style.display =\n",
              "          google.colab.kernel.accessAllowed ? 'block' : 'none';\n",
              "\n",
              "        async function convertToInteractive(key) {\n",
              "          const element = document.querySelector('#df-c475ce5c-c5fd-453d-9fe7-fdd92b468451');\n",
              "          const dataTable =\n",
              "            await google.colab.kernel.invokeFunction('convertToInteractive',\n",
              "                                                     [key], {});\n",
              "          if (!dataTable) return;\n",
              "\n",
              "          const docLinkHtml = 'Like what you see? Visit the ' +\n",
              "            '<a target=\"_blank\" href=https://colab.research.google.com/notebooks/data_table.ipynb>data table notebook</a>'\n",
              "            + ' to learn more about interactive tables.';\n",
              "          element.innerHTML = '';\n",
              "          dataTable['output_type'] = 'display_data';\n",
              "          await google.colab.output.renderOutput(dataTable, element);\n",
              "          const docLink = document.createElement('div');\n",
              "          docLink.innerHTML = docLinkHtml;\n",
              "          element.appendChild(docLink);\n",
              "        }\n",
              "      </script>\n",
              "    </div>\n",
              "  </div>\n",
              "  "
            ],
            "text/plain": [
              "                 name  genre platform               publisher  \\\n",
              "0         Mario Party  Party   Series                Nintendo   \n",
              "1            Wii Play  Party   Series                Nintendo   \n",
              "2  Kinect Adventures!  Party     X360  Microsoft Game Studios   \n",
              "3           Wii Party  Party   Series                Nintendo   \n",
              "4   Super Mario Party  Party       NS                Nintendo   \n",
              "\n",
              "                                           developer  vgchartz_score  \\\n",
              "0                          Hudson Soft|Capcom|NDcube             NaN   \n",
              "1  Nintendo|Arzest|Chunsoft|Good-Feel|Mitchell Co...             NaN   \n",
              "2                                Good Science Studio             6.2   \n",
              "3                                    NDcube|Nintendo             NaN   \n",
              "4                                  Nd Cube Co., Ltd.             7.0   \n",
              "\n",
              "   critic_score  user_score  total_shipped  total_sales  na_sales  pal_sales  \\\n",
              "0           NaN         NaN     51860000.0          NaN       NaN        NaN   \n",
              "1           NaN         NaN     29660000.0          NaN       NaN        NaN   \n",
              "2           6.7         NaN     24000000.0          NaN       NaN        NaN   \n",
              "3           NaN         NaN     11120000.0          NaN       NaN        NaN   \n",
              "4           7.3         NaN     10100000.0          NaN       NaN        NaN   \n",
              "\n",
              "   jp_sales  other_sales release_date last_update  release_month  \\\n",
              "0       NaN          NaN   1999-02-01  2020-02-18            2.0   \n",
              "1       NaN          NaN   2007-02-12  2020-02-20            2.0   \n",
              "2       NaN          NaN   2010-11-04  2018-09-29           11.0   \n",
              "3       NaN          NaN   2010-10-03  2020-02-19           10.0   \n",
              "4       NaN          NaN   2018-10-05  2018-11-19           10.0   \n",
              "\n",
              "   release_year  release_day_of_week  release_day  \n",
              "0        1999.0                  0.0          1.0  \n",
              "1        2007.0                  0.0         12.0  \n",
              "2        2010.0                  3.0          4.0  \n",
              "3        2010.0                  6.0          3.0  \n",
              "4        2018.0                  4.0          5.0  "
            ]
          },
          "metadata": {},
          "execution_count": 18
        }
      ]
    },
    {
      "cell_type": "markdown",
      "source": [
        "Filtering out those data that has null values in Release Date columns"
      ],
      "metadata": {
        "id": "H9gd6Yb2RTNm"
      }
    },
    {
      "cell_type": "code",
      "source": [
        "df=df[df.release_date.notnull()]\n",
        "print(df.shape)\n",
        "df.isnull().sum()"
      ],
      "metadata": {
        "colab": {
          "base_uri": "https://localhost:8080/"
        },
        "id": "gSB4NwacMmMr",
        "outputId": "15e332f2-f371-4407-b7ce-33dc7d35abc9"
      },
      "execution_count": 26,
      "outputs": [
        {
          "output_type": "stream",
          "name": "stdout",
          "text": [
            "(45503, 19)\n"
          ]
        },
        {
          "output_type": "execute_result",
          "data": {
            "text/plain": [
              "name                       0\n",
              "genre                      0\n",
              "platform                   0\n",
              "publisher                  0\n",
              "developer                  9\n",
              "vgchartz_score         44691\n",
              "critic_score           39324\n",
              "user_score             45137\n",
              "total_sales            28514\n",
              "na_sales               33863\n",
              "pal_sales              33628\n",
              "jp_sales               39443\n",
              "other_sales            31627\n",
              "release_date               0\n",
              "last_update            35952\n",
              "release_month              0\n",
              "release_year               0\n",
              "release_day_of_week        0\n",
              "release_day                0\n",
              "dtype: int64"
            ]
          },
          "metadata": {},
          "execution_count": 26
        }
      ]
    },
    {
      "cell_type": "markdown",
      "source": [
        "Fill Nan/0 in missing values"
      ],
      "metadata": {
        "id": "U8-8-ZPmSct1"
      }
    },
    {
      "cell_type": "code",
      "source": [
        "# Fill Nan with 0\n",
        "df.fillna({\n",
        "    'vgchartz_score': 0,\n",
        "    'jp_sales': 0,\n",
        "    'na_sales': 0,\n",
        "    'pal_sales': 0,\n",
        "    'other_sales': 0,\n",
        "    'critic_score': 0,\n",
        "    'user_score': 0,} , inplace=True)\n",
        "\n",
        "# Fill Nan with NA\n",
        "df.fillna({\n",
        "    'last_update': 'NA',\n",
        "    'Developer': 'NA'} , inplace=True)\n",
        "df.isnull().sum()"
      ],
      "metadata": {
        "colab": {
          "base_uri": "https://localhost:8080/"
        },
        "id": "zG0AEaD6R25M",
        "outputId": "32fd57e6-b35b-43b1-e93c-019b2178d1a9"
      },
      "execution_count": 29,
      "outputs": [
        {
          "output_type": "execute_result",
          "data": {
            "text/plain": [
              "name                       0\n",
              "genre                      0\n",
              "platform                   0\n",
              "publisher                  0\n",
              "developer                  9\n",
              "vgchartz_score             0\n",
              "critic_score               0\n",
              "user_score                 0\n",
              "total_sales            28514\n",
              "na_sales                   0\n",
              "pal_sales                  0\n",
              "jp_sales                   0\n",
              "other_sales                0\n",
              "release_date               0\n",
              "last_update                0\n",
              "release_month              0\n",
              "release_year               0\n",
              "release_day_of_week        0\n",
              "release_day                0\n",
              "dtype: int64"
            ]
          },
          "metadata": {},
          "execution_count": 29
        }
      ]
    },
    {
      "cell_type": "markdown",
      "source": [
        "Totaling up all sales per region (For modeling)"
      ],
      "metadata": {
        "id": "LI_j85_TTjbn"
      }
    },
    {
      "cell_type": "code",
      "source": [
        "df['total_sales']=df['na_sales']+df['pal_sales']+df['jp_sales']+df['other_sales']\n"
      ],
      "metadata": {
        "id": "v5M8KS_5R3JX"
      },
      "execution_count": 38,
      "outputs": []
    },
    {
      "cell_type": "code",
      "source": [
        "df=df[df['total_sales']>0]\n",
        "df.head()"
      ],
      "metadata": {
        "colab": {
          "base_uri": "https://localhost:8080/",
          "height": 478
        },
        "id": "AiwxclzAR3Lw",
        "outputId": "60118b9b-465a-45fa-a691-0d483c681fc9"
      },
      "execution_count": 39,
      "outputs": [
        {
          "output_type": "execute_result",
          "data": {
            "text/html": [
              "\n",
              "  <div id=\"df-a91bb129-c08d-4e13-81db-50c7242e3cbd\">\n",
              "    <div class=\"colab-df-container\">\n",
              "      <div>\n",
              "<style scoped>\n",
              "    .dataframe tbody tr th:only-of-type {\n",
              "        vertical-align: middle;\n",
              "    }\n",
              "\n",
              "    .dataframe tbody tr th {\n",
              "        vertical-align: top;\n",
              "    }\n",
              "\n",
              "    .dataframe thead th {\n",
              "        text-align: right;\n",
              "    }\n",
              "</style>\n",
              "<table border=\"1\" class=\"dataframe\">\n",
              "  <thead>\n",
              "    <tr style=\"text-align: right;\">\n",
              "      <th></th>\n",
              "      <th>name</th>\n",
              "      <th>genre</th>\n",
              "      <th>platform</th>\n",
              "      <th>publisher</th>\n",
              "      <th>developer</th>\n",
              "      <th>vgchartz_score</th>\n",
              "      <th>critic_score</th>\n",
              "      <th>user_score</th>\n",
              "      <th>total_sales</th>\n",
              "      <th>na_sales</th>\n",
              "      <th>pal_sales</th>\n",
              "      <th>jp_sales</th>\n",
              "      <th>other_sales</th>\n",
              "      <th>release_date</th>\n",
              "      <th>last_update</th>\n",
              "      <th>release_month</th>\n",
              "      <th>release_year</th>\n",
              "      <th>release_day_of_week</th>\n",
              "      <th>release_day</th>\n",
              "    </tr>\n",
              "  </thead>\n",
              "  <tbody>\n",
              "    <tr>\n",
              "      <th>14</th>\n",
              "      <td>Mario Party: Star Rush</td>\n",
              "      <td>Party</td>\n",
              "      <td>3DS</td>\n",
              "      <td>Nintendo</td>\n",
              "      <td>Nd Cube Co., Ltd.</td>\n",
              "      <td>0.0</td>\n",
              "      <td>6.2</td>\n",
              "      <td>0.0</td>\n",
              "      <td>870000.0</td>\n",
              "      <td>250000.0</td>\n",
              "      <td>370000.0</td>\n",
              "      <td>200000.0</td>\n",
              "      <td>50000.0</td>\n",
              "      <td>2016-11-04</td>\n",
              "      <td>2018-11-19 00:00:00</td>\n",
              "      <td>11.0</td>\n",
              "      <td>2016.0</td>\n",
              "      <td>4.0</td>\n",
              "      <td>4.0</td>\n",
              "    </tr>\n",
              "    <tr>\n",
              "      <th>15</th>\n",
              "      <td>Knowledge is Power</td>\n",
              "      <td>Party</td>\n",
              "      <td>PS4</td>\n",
              "      <td>Sony Interactive Entertainment</td>\n",
              "      <td>Wish Studio</td>\n",
              "      <td>0.0</td>\n",
              "      <td>0.0</td>\n",
              "      <td>0.0</td>\n",
              "      <td>610000.0</td>\n",
              "      <td>50000.0</td>\n",
              "      <td>470000.0</td>\n",
              "      <td>0.0</td>\n",
              "      <td>90000.0</td>\n",
              "      <td>2017-10-24</td>\n",
              "      <td>2018-04-07 00:00:00</td>\n",
              "      <td>10.0</td>\n",
              "      <td>2017.0</td>\n",
              "      <td>1.0</td>\n",
              "      <td>24.0</td>\n",
              "    </tr>\n",
              "    <tr>\n",
              "      <th>16</th>\n",
              "      <td>Animal Crossing: Amiibo Festival</td>\n",
              "      <td>Party</td>\n",
              "      <td>WiiU</td>\n",
              "      <td>Nintendo</td>\n",
              "      <td>Nd Cube Co., Ltd.</td>\n",
              "      <td>0.0</td>\n",
              "      <td>4.8</td>\n",
              "      <td>0.0</td>\n",
              "      <td>490000.0</td>\n",
              "      <td>230000.0</td>\n",
              "      <td>120000.0</td>\n",
              "      <td>100000.0</td>\n",
              "      <td>40000.0</td>\n",
              "      <td>2015-11-13</td>\n",
              "      <td>2018-02-08 00:00:00</td>\n",
              "      <td>11.0</td>\n",
              "      <td>2015.0</td>\n",
              "      <td>4.0</td>\n",
              "      <td>13.0</td>\n",
              "    </tr>\n",
              "    <tr>\n",
              "      <th>17</th>\n",
              "      <td>Momotaro Dentetsu 2017: Tachiagare Nippon!!</td>\n",
              "      <td>Party</td>\n",
              "      <td>3DS</td>\n",
              "      <td>Nintendo</td>\n",
              "      <td>Valhalla Game Studios</td>\n",
              "      <td>0.0</td>\n",
              "      <td>0.0</td>\n",
              "      <td>0.0</td>\n",
              "      <td>400000.0</td>\n",
              "      <td>0.0</td>\n",
              "      <td>0.0</td>\n",
              "      <td>400000.0</td>\n",
              "      <td>0.0</td>\n",
              "      <td>2016-12-22</td>\n",
              "      <td>2018-05-29 00:00:00</td>\n",
              "      <td>12.0</td>\n",
              "      <td>2016.0</td>\n",
              "      <td>3.0</td>\n",
              "      <td>22.0</td>\n",
              "    </tr>\n",
              "    <tr>\n",
              "      <th>18</th>\n",
              "      <td>WipeOut 3 The Game</td>\n",
              "      <td>Party</td>\n",
              "      <td>Wii</td>\n",
              "      <td>Activision</td>\n",
              "      <td>Behaviour Interactive</td>\n",
              "      <td>0.0</td>\n",
              "      <td>0.0</td>\n",
              "      <td>0.0</td>\n",
              "      <td>400000.0</td>\n",
              "      <td>360000.0</td>\n",
              "      <td>0.0</td>\n",
              "      <td>0.0</td>\n",
              "      <td>40000.0</td>\n",
              "      <td>2012-09-25</td>\n",
              "      <td>2018-03-16 00:00:00</td>\n",
              "      <td>9.0</td>\n",
              "      <td>2012.0</td>\n",
              "      <td>1.0</td>\n",
              "      <td>25.0</td>\n",
              "    </tr>\n",
              "  </tbody>\n",
              "</table>\n",
              "</div>\n",
              "      <button class=\"colab-df-convert\" onclick=\"convertToInteractive('df-a91bb129-c08d-4e13-81db-50c7242e3cbd')\"\n",
              "              title=\"Convert this dataframe to an interactive table.\"\n",
              "              style=\"display:none;\">\n",
              "        \n",
              "  <svg xmlns=\"http://www.w3.org/2000/svg\" height=\"24px\"viewBox=\"0 0 24 24\"\n",
              "       width=\"24px\">\n",
              "    <path d=\"M0 0h24v24H0V0z\" fill=\"none\"/>\n",
              "    <path d=\"M18.56 5.44l.94 2.06.94-2.06 2.06-.94-2.06-.94-.94-2.06-.94 2.06-2.06.94zm-11 1L8.5 8.5l.94-2.06 2.06-.94-2.06-.94L8.5 2.5l-.94 2.06-2.06.94zm10 10l.94 2.06.94-2.06 2.06-.94-2.06-.94-.94-2.06-.94 2.06-2.06.94z\"/><path d=\"M17.41 7.96l-1.37-1.37c-.4-.4-.92-.59-1.43-.59-.52 0-1.04.2-1.43.59L10.3 9.45l-7.72 7.72c-.78.78-.78 2.05 0 2.83L4 21.41c.39.39.9.59 1.41.59.51 0 1.02-.2 1.41-.59l7.78-7.78 2.81-2.81c.8-.78.8-2.07 0-2.86zM5.41 20L4 18.59l7.72-7.72 1.47 1.35L5.41 20z\"/>\n",
              "  </svg>\n",
              "      </button>\n",
              "      \n",
              "  <style>\n",
              "    .colab-df-container {\n",
              "      display:flex;\n",
              "      flex-wrap:wrap;\n",
              "      gap: 12px;\n",
              "    }\n",
              "\n",
              "    .colab-df-convert {\n",
              "      background-color: #E8F0FE;\n",
              "      border: none;\n",
              "      border-radius: 50%;\n",
              "      cursor: pointer;\n",
              "      display: none;\n",
              "      fill: #1967D2;\n",
              "      height: 32px;\n",
              "      padding: 0 0 0 0;\n",
              "      width: 32px;\n",
              "    }\n",
              "\n",
              "    .colab-df-convert:hover {\n",
              "      background-color: #E2EBFA;\n",
              "      box-shadow: 0px 1px 2px rgba(60, 64, 67, 0.3), 0px 1px 3px 1px rgba(60, 64, 67, 0.15);\n",
              "      fill: #174EA6;\n",
              "    }\n",
              "\n",
              "    [theme=dark] .colab-df-convert {\n",
              "      background-color: #3B4455;\n",
              "      fill: #D2E3FC;\n",
              "    }\n",
              "\n",
              "    [theme=dark] .colab-df-convert:hover {\n",
              "      background-color: #434B5C;\n",
              "      box-shadow: 0px 1px 3px 1px rgba(0, 0, 0, 0.15);\n",
              "      filter: drop-shadow(0px 1px 2px rgba(0, 0, 0, 0.3));\n",
              "      fill: #FFFFFF;\n",
              "    }\n",
              "  </style>\n",
              "\n",
              "      <script>\n",
              "        const buttonEl =\n",
              "          document.querySelector('#df-a91bb129-c08d-4e13-81db-50c7242e3cbd button.colab-df-convert');\n",
              "        buttonEl.style.display =\n",
              "          google.colab.kernel.accessAllowed ? 'block' : 'none';\n",
              "\n",
              "        async function convertToInteractive(key) {\n",
              "          const element = document.querySelector('#df-a91bb129-c08d-4e13-81db-50c7242e3cbd');\n",
              "          const dataTable =\n",
              "            await google.colab.kernel.invokeFunction('convertToInteractive',\n",
              "                                                     [key], {});\n",
              "          if (!dataTable) return;\n",
              "\n",
              "          const docLinkHtml = 'Like what you see? Visit the ' +\n",
              "            '<a target=\"_blank\" href=https://colab.research.google.com/notebooks/data_table.ipynb>data table notebook</a>'\n",
              "            + ' to learn more about interactive tables.';\n",
              "          element.innerHTML = '';\n",
              "          dataTable['output_type'] = 'display_data';\n",
              "          await google.colab.output.renderOutput(dataTable, element);\n",
              "          const docLink = document.createElement('div');\n",
              "          docLink.innerHTML = docLinkHtml;\n",
              "          element.appendChild(docLink);\n",
              "        }\n",
              "      </script>\n",
              "    </div>\n",
              "  </div>\n",
              "  "
            ],
            "text/plain": [
              "                                           name  genre platform  \\\n",
              "14                       Mario Party: Star Rush  Party      3DS   \n",
              "15                           Knowledge is Power  Party      PS4   \n",
              "16             Animal Crossing: Amiibo Festival  Party     WiiU   \n",
              "17  Momotaro Dentetsu 2017: Tachiagare Nippon!!  Party      3DS   \n",
              "18                           WipeOut 3 The Game  Party      Wii   \n",
              "\n",
              "                         publisher              developer  vgchartz_score  \\\n",
              "14                        Nintendo      Nd Cube Co., Ltd.             0.0   \n",
              "15  Sony Interactive Entertainment            Wish Studio             0.0   \n",
              "16                        Nintendo      Nd Cube Co., Ltd.             0.0   \n",
              "17                        Nintendo  Valhalla Game Studios             0.0   \n",
              "18                      Activision  Behaviour Interactive             0.0   \n",
              "\n",
              "    critic_score  user_score  total_sales  na_sales  pal_sales  jp_sales  \\\n",
              "14           6.2         0.0     870000.0  250000.0   370000.0  200000.0   \n",
              "15           0.0         0.0     610000.0   50000.0   470000.0       0.0   \n",
              "16           4.8         0.0     490000.0  230000.0   120000.0  100000.0   \n",
              "17           0.0         0.0     400000.0       0.0        0.0  400000.0   \n",
              "18           0.0         0.0     400000.0  360000.0        0.0       0.0   \n",
              "\n",
              "    other_sales release_date          last_update  release_month  \\\n",
              "14      50000.0   2016-11-04  2018-11-19 00:00:00           11.0   \n",
              "15      90000.0   2017-10-24  2018-04-07 00:00:00           10.0   \n",
              "16      40000.0   2015-11-13  2018-02-08 00:00:00           11.0   \n",
              "17          0.0   2016-12-22  2018-05-29 00:00:00           12.0   \n",
              "18      40000.0   2012-09-25  2018-03-16 00:00:00            9.0   \n",
              "\n",
              "    release_year  release_day_of_week  release_day  \n",
              "14        2016.0                  4.0          4.0  \n",
              "15        2017.0                  1.0         24.0  \n",
              "16        2015.0                  4.0         13.0  \n",
              "17        2016.0                  3.0         22.0  \n",
              "18        2012.0                  1.0         25.0  "
            ]
          },
          "metadata": {},
          "execution_count": 39
        }
      ]
    },
    {
      "cell_type": "code",
      "source": [
        "df.to_excel('vgsales_cleaned.xlsx', index=False)"
      ],
      "metadata": {
        "id": "vR0lA0SkR3OB"
      },
      "execution_count": 42,
      "outputs": []
    },
    {
      "cell_type": "code",
      "source": [
        "df.hist(figsize=(15,20));"
      ],
      "metadata": {
        "colab": {
          "base_uri": "https://localhost:8080/",
          "height": 1000
        },
        "id": "7xMxFRCKR3Qc",
        "outputId": "fcf4bd76-d02c-4ab9-8fb9-c5f84bb5141d"
      },
      "execution_count": 43,
      "outputs": [
        {
          "output_type": "display_data",
          "data": {
            "image/png": "[encoded data removed]",
            "text/plain": [
              "<Figure size 1080x1440 with 16 Axes>"
            ]
          },
          "metadata": {
            "needs_background": "light"
          }
        }
      ]
    },
    {
      "cell_type": "markdown",
      "source": [
        "#EDA\n",
        "\n",
        "Relation of columns"
      ],
      "metadata": {
        "id": "rHDIRvihVtBQ"
      }
    },
    {
      "cell_type": "code",
      "source": [
        "corr = df.corr()\n",
        "mask = np.zeros_like(corr)\n",
        "mask[np.triu_indices_from(mask)] = True\n",
        "plt.figure(figsize=(15,20))\n",
        "sns.heatmap(corr, cmap=\"Blues\", mask=mask, annot=True, linewidth=3) "
      ],
      "metadata": {
        "colab": {
          "base_uri": "https://localhost:8080/",
          "height": 1000
        },
        "id": "oHJ9s7QkR3S6",
        "outputId": "86d632f8-a232-4598-8992-9a3c3c62ba22"
      },
      "execution_count": 44,
      "outputs": [
        {
          "output_type": "execute_result",
          "data": {
            "text/plain": [
              "<matplotlib.axes._subplots.AxesSubplot at 0x7f163fb66ed0>"
            ]
          },
          "metadata": {},
          "execution_count": 44
        },
        {
          "output_type": "display_data",
          "data": {
            "image/png": "[encoded data removed]",
            "text/plain": [
              "<Figure size 1080x1440 with 2 Axes>"
            ]
          },
          "metadata": {
            "needs_background": "light"
          }
        }
      ]
    },
    {
      "cell_type": "markdown",
      "source": [
        "in terms of correlation of the variables, they are not highly correlated to each other in the heatmap.\n",
        "Only sales numbers are highly correlated with each other.\n",
        "Higher correlations between sales figures may speak to the global nature of the video game industry: a success in one continent usually means a success in another continent as well.\n",
        "this lends greater confidence to using just total_sales as the dependent target variable."
      ],
      "metadata": {
        "id": "e4dinMXeWlJ4"
      }
    },
    {
      "cell_type": "markdown",
      "source": [
        "# Categorical Values\n",
        "* name\n",
        "* genre\n",
        "* paltform\n",
        "* publisher\n",
        "* developer"
      ],
      "metadata": {
        "id": "joWQaWNOXSQA"
      }
    },
    {
      "cell_type": "code",
      "source": [
        "df['genre'].unique()"
      ],
      "metadata": {
        "colab": {
          "base_uri": "https://localhost:8080/"
        },
        "id": "cdj1TlDvXQlY",
        "outputId": "2eba9d47-c91b-4f4d-f089-473b17e2fc32"
      },
      "execution_count": 45,
      "outputs": [
        {
          "output_type": "execute_result",
          "data": {
            "text/plain": [
              "array(['Party', 'Simulation', 'Strategy', 'Action-Adventure',\n",
              "       'Role Playing', 'Adventure', 'Sports', 'Puzzle', 'Platform',\n",
              "       'Sandbox', 'MMO', 'Action', 'Shooter', 'Racing', 'Fighting',\n",
              "       'Music'], dtype=object)"
            ]
          },
          "metadata": {},
          "execution_count": 45
        }
      ]
    },
    {
      "cell_type": "code",
      "source": [
        "df_dummy=pd.get_dummies(data=df, columns=['platform', 'genre'])\n",
        "df_dummy.shape"
      ],
      "metadata": {
        "colab": {
          "base_uri": "https://localhost:8080/"
        },
        "id": "X3u3M2ZCXQoM",
        "outputId": "5993aebc-7e76-47dd-dd9e-19716e6d1f88"
      },
      "execution_count": 46,
      "outputs": [
        {
          "output_type": "execute_result",
          "data": {
            "text/plain": [
              "(15775, 70)"
            ]
          },
          "metadata": {},
          "execution_count": 46
        }
      ]
    },
    {
      "cell_type": "code",
      "source": [
        "#platform grouping\n",
        "df_dummy['platform_XBOX']=df_dummy.platform_X360 | df_dummy.platform_XB | df_dummy.platform_XBL | df_dummy.platform_XOne\n",
        "df_dummy['platform_PLAYSTATION']=df_dummy.platform_PS | df_dummy.platform_PS2 | df_dummy.platform_PS3 | df_dummy.platform_PS4 | df_dummy.platform_PSN | df_dummy.platform_PSP | df_dummy.platform_PSV\n",
        "df_dummy['platform_NS']=df_dummy.platform_NS | df_dummy.platform_N64 | df_dummy.platform_WiiU | df_dummy.platform_Wii\n",
        "df_dummy['platform_OTHER'] = df_dummy.platform_3DS | df_dummy.platform_PC | df_dummy.platform_DS | df_dummy.platform_GC | df_dummy.platform_GB  | df_dummy.platform_GBA | df_dummy.platform_SNES | df_dummy.platform_DC |df_dummy.platform_SAT |  df_dummy.platform_PSV |  df_dummy.platform_3DO |  df_dummy.platform_GEN |  df_dummy.platform_WS |  df_dummy.platform_SCD  | df_dummy.platform_OSX  | df_dummy.platform_PSN | df_dummy.platform_NES | df_dummy.platform_GBC | df_dummy.platform_PCFX | df_dummy.platform_2600 | df_dummy.platform_PCE | df_dummy.platform_VC |  df_dummy.platform_NG | df_dummy.platform_GG"
      ],
      "metadata": {
        "id": "O2ARcCNqXQrK"
      },
      "execution_count": 47,
      "outputs": []
    },
    {
      "cell_type": "code",
      "source": [
        "df_dummy = df_dummy.drop(['platform_X360', 'platform_XBL', 'platform_XOne', 'platform_PS', 'platform_XB', 'platform_PSP', 'platform_PS2',\n",
        "                         'platform_PS3', 'platform_PS4', 'platform_WiiU', 'platform_Wii', 'platform_N64', \n",
        "                          'platform_PSN', 'platform_3DS', 'platform_PC', 'platform_DS', 'platform_GC', 'platform_GB', 'platform_GBA', 'platform_SNES',\n",
        "                          'platform_DC', 'platform_SAT', 'platform_PSV', 'platform_3DO', 'platform_GEN', 'platform_WS', 'platform_SCD',\n",
        "                          'platform_OSX', 'platform_PSN', 'platform_NES', 'platform_GBC', 'platform_PCFX', 'platform_2600', 'platform_PCE', 'platform_VC', 'platform_NG', 'platform_GG'], axis=1)"
      ],
      "metadata": {
        "id": "nYm2PhsXXQt3"
      },
      "execution_count": 48,
      "outputs": []
    },
    {
      "cell_type": "code",
      "source": [
        "df_dummy.head()"
      ],
      "metadata": {
        "colab": {
          "base_uri": "https://localhost:8080/",
          "height": 525
        },
        "id": "iYwQwchKXQwR",
        "outputId": "4bcbab51-2d52-4e63-8020-c15a38c88611"
      },
      "execution_count": 49,
      "outputs": [
        {
          "output_type": "execute_result",
          "data": {
            "text/html": [
              "\n",
              "  <div id=\"df-02c887be-b490-497d-ab57-387a5b77b9a9\">\n",
              "    <div class=\"colab-df-container\">\n",
              "      <div>\n",
              "<style scoped>\n",
              "    .dataframe tbody tr th:only-of-type {\n",
              "        vertical-align: middle;\n",
              "    }\n",
              "\n",
              "    .dataframe tbody tr th {\n",
              "        vertical-align: top;\n",
              "    }\n",
              "\n",
              "    .dataframe thead th {\n",
              "        text-align: right;\n",
              "    }\n",
              "</style>\n",
              "<table border=\"1\" class=\"dataframe\">\n",
              "  <thead>\n",
              "    <tr style=\"text-align: right;\">\n",
              "      <th></th>\n",
              "      <th>name</th>\n",
              "      <th>publisher</th>\n",
              "      <th>developer</th>\n",
              "      <th>vgchartz_score</th>\n",
              "      <th>critic_score</th>\n",
              "      <th>user_score</th>\n",
              "      <th>total_sales</th>\n",
              "      <th>na_sales</th>\n",
              "      <th>pal_sales</th>\n",
              "      <th>jp_sales</th>\n",
              "      <th>...</th>\n",
              "      <th>genre_Racing</th>\n",
              "      <th>genre_Role Playing</th>\n",
              "      <th>genre_Sandbox</th>\n",
              "      <th>genre_Shooter</th>\n",
              "      <th>genre_Simulation</th>\n",
              "      <th>genre_Sports</th>\n",
              "      <th>genre_Strategy</th>\n",
              "      <th>platform_XBOX</th>\n",
              "      <th>platform_PLAYSTATION</th>\n",
              "      <th>platform_OTHER</th>\n",
              "    </tr>\n",
              "  </thead>\n",
              "  <tbody>\n",
              "    <tr>\n",
              "      <th>14</th>\n",
              "      <td>Mario Party: Star Rush</td>\n",
              "      <td>Nintendo</td>\n",
              "      <td>Nd Cube Co., Ltd.</td>\n",
              "      <td>0.0</td>\n",
              "      <td>6.2</td>\n",
              "      <td>0.0</td>\n",
              "      <td>870000.0</td>\n",
              "      <td>250000.0</td>\n",
              "      <td>370000.0</td>\n",
              "      <td>200000.0</td>\n",
              "      <td>...</td>\n",
              "      <td>0</td>\n",
              "      <td>0</td>\n",
              "      <td>0</td>\n",
              "      <td>0</td>\n",
              "      <td>0</td>\n",
              "      <td>0</td>\n",
              "      <td>0</td>\n",
              "      <td>0</td>\n",
              "      <td>0</td>\n",
              "      <td>1</td>\n",
              "    </tr>\n",
              "    <tr>\n",
              "      <th>15</th>\n",
              "      <td>Knowledge is Power</td>\n",
              "      <td>Sony Interactive Entertainment</td>\n",
              "      <td>Wish Studio</td>\n",
              "      <td>0.0</td>\n",
              "      <td>0.0</td>\n",
              "      <td>0.0</td>\n",
              "      <td>610000.0</td>\n",
              "      <td>50000.0</td>\n",
              "      <td>470000.0</td>\n",
              "      <td>0.0</td>\n",
              "      <td>...</td>\n",
              "      <td>0</td>\n",
              "      <td>0</td>\n",
              "      <td>0</td>\n",
              "      <td>0</td>\n",
              "      <td>0</td>\n",
              "      <td>0</td>\n",
              "      <td>0</td>\n",
              "      <td>0</td>\n",
              "      <td>1</td>\n",
              "      <td>0</td>\n",
              "    </tr>\n",
              "    <tr>\n",
              "      <th>16</th>\n",
              "      <td>Animal Crossing: Amiibo Festival</td>\n",
              "      <td>Nintendo</td>\n",
              "      <td>Nd Cube Co., Ltd.</td>\n",
              "      <td>0.0</td>\n",
              "      <td>4.8</td>\n",
              "      <td>0.0</td>\n",
              "      <td>490000.0</td>\n",
              "      <td>230000.0</td>\n",
              "      <td>120000.0</td>\n",
              "      <td>100000.0</td>\n",
              "      <td>...</td>\n",
              "      <td>0</td>\n",
              "      <td>0</td>\n",
              "      <td>0</td>\n",
              "      <td>0</td>\n",
              "      <td>0</td>\n",
              "      <td>0</td>\n",
              "      <td>0</td>\n",
              "      <td>0</td>\n",
              "      <td>0</td>\n",
              "      <td>0</td>\n",
              "    </tr>\n",
              "    <tr>\n",
              "      <th>17</th>\n",
              "      <td>Momotaro Dentetsu 2017: Tachiagare Nippon!!</td>\n",
              "      <td>Nintendo</td>\n",
              "      <td>Valhalla Game Studios</td>\n",
              "      <td>0.0</td>\n",
              "      <td>0.0</td>\n",
              "      <td>0.0</td>\n",
              "      <td>400000.0</td>\n",
              "      <td>0.0</td>\n",
              "      <td>0.0</td>\n",
              "      <td>400000.0</td>\n",
              "      <td>...</td>\n",
              "      <td>0</td>\n",
              "      <td>0</td>\n",
              "      <td>0</td>\n",
              "      <td>0</td>\n",
              "      <td>0</td>\n",
              "      <td>0</td>\n",
              "      <td>0</td>\n",
              "      <td>0</td>\n",
              "      <td>0</td>\n",
              "      <td>1</td>\n",
              "    </tr>\n",
              "    <tr>\n",
              "      <th>18</th>\n",
              "      <td>WipeOut 3 The Game</td>\n",
              "      <td>Activision</td>\n",
              "      <td>Behaviour Interactive</td>\n",
              "      <td>0.0</td>\n",
              "      <td>0.0</td>\n",
              "      <td>0.0</td>\n",
              "      <td>400000.0</td>\n",
              "      <td>360000.0</td>\n",
              "      <td>0.0</td>\n",
              "      <td>0.0</td>\n",
              "      <td>...</td>\n",
              "      <td>0</td>\n",
              "      <td>0</td>\n",
              "      <td>0</td>\n",
              "      <td>0</td>\n",
              "      <td>0</td>\n",
              "      <td>0</td>\n",
              "      <td>0</td>\n",
              "      <td>0</td>\n",
              "      <td>0</td>\n",
              "      <td>0</td>\n",
              "    </tr>\n",
              "  </tbody>\n",
              "</table>\n",
              "<p>5 rows × 37 columns</p>\n",
              "</div>\n",
              "      <button class=\"colab-df-convert\" onclick=\"convertToInteractive('df-02c887be-b490-497d-ab57-387a5b77b9a9')\"\n",
              "              title=\"Convert this dataframe to an interactive table.\"\n",
              "              style=\"display:none;\">\n",
              "        \n",
              "  <svg xmlns=\"http://www.w3.org/2000/svg\" height=\"24px\"viewBox=\"0 0 24 24\"\n",
              "       width=\"24px\">\n",
              "    <path d=\"M0 0h24v24H0V0z\" fill=\"none\"/>\n",
              "    <path d=\"M18.56 5.44l.94 2.06.94-2.06 2.06-.94-2.06-.94-.94-2.06-.94 2.06-2.06.94zm-11 1L8.5 8.5l.94-2.06 2.06-.94-2.06-.94L8.5 2.5l-.94 2.06-2.06.94zm10 10l.94 2.06.94-2.06 2.06-.94-2.06-.94-.94-2.06-.94 2.06-2.06.94z\"/><path d=\"M17.41 7.96l-1.37-1.37c-.4-.4-.92-.59-1.43-.59-.52 0-1.04.2-1.43.59L10.3 9.45l-7.72 7.72c-.78.78-.78 2.05 0 2.83L4 21.41c.39.39.9.59 1.41.59.51 0 1.02-.2 1.41-.59l7.78-7.78 2.81-2.81c.8-.78.8-2.07 0-2.86zM5.41 20L4 18.59l7.72-7.72 1.47 1.35L5.41 20z\"/>\n",
              "  </svg>\n",
              "      </button>\n",
              "      \n",
              "  <style>\n",
              "    .colab-df-container {\n",
              "      display:flex;\n",
              "      flex-wrap:wrap;\n",
              "      gap: 12px;\n",
              "    }\n",
              "\n",
              "    .colab-df-convert {\n",
              "      background-color: #E8F0FE;\n",
              "      border: none;\n",
              "      border-radius: 50%;\n",
              "      cursor: pointer;\n",
              "      display: none;\n",
              "      fill: #1967D2;\n",
              "      height: 32px;\n",
              "      padding: 0 0 0 0;\n",
              "      width: 32px;\n",
              "    }\n",
              "\n",
              "    .colab-df-convert:hover {\n",
              "      background-color: #E2EBFA;\n",
              "      box-shadow: 0px 1px 2px rgba(60, 64, 67, 0.3), 0px 1px 3px 1px rgba(60, 64, 67, 0.15);\n",
              "      fill: #174EA6;\n",
              "    }\n",
              "\n",
              "    [theme=dark] .colab-df-convert {\n",
              "      background-color: #3B4455;\n",
              "      fill: #D2E3FC;\n",
              "    }\n",
              "\n",
              "    [theme=dark] .colab-df-convert:hover {\n",
              "      background-color: #434B5C;\n",
              "      box-shadow: 0px 1px 3px 1px rgba(0, 0, 0, 0.15);\n",
              "      filter: drop-shadow(0px 1px 2px rgba(0, 0, 0, 0.3));\n",
              "      fill: #FFFFFF;\n",
              "    }\n",
              "  </style>\n",
              "\n",
              "      <script>\n",
              "        const buttonEl =\n",
              "          document.querySelector('#df-02c887be-b490-497d-ab57-387a5b77b9a9 button.colab-df-convert');\n",
              "        buttonEl.style.display =\n",
              "          google.colab.kernel.accessAllowed ? 'block' : 'none';\n",
              "\n",
              "        async function convertToInteractive(key) {\n",
              "          const element = document.querySelector('#df-02c887be-b490-497d-ab57-387a5b77b9a9');\n",
              "          const dataTable =\n",
              "            await google.colab.kernel.invokeFunction('convertToInteractive',\n",
              "                                                     [key], {});\n",
              "          if (!dataTable) return;\n",
              "\n",
              "          const docLinkHtml = 'Like what you see? Visit the ' +\n",
              "            '<a target=\"_blank\" href=https://colab.research.google.com/notebooks/data_table.ipynb>data table notebook</a>'\n",
              "            + ' to learn more about interactive tables.';\n",
              "          element.innerHTML = '';\n",
              "          dataTable['output_type'] = 'display_data';\n",
              "          await google.colab.output.renderOutput(dataTable, element);\n",
              "          const docLink = document.createElement('div');\n",
              "          docLink.innerHTML = docLinkHtml;\n",
              "          element.appendChild(docLink);\n",
              "        }\n",
              "      </script>\n",
              "    </div>\n",
              "  </div>\n",
              "  "
            ],
            "text/plain": [
              "                                           name  \\\n",
              "14                       Mario Party: Star Rush   \n",
              "15                           Knowledge is Power   \n",
              "16             Animal Crossing: Amiibo Festival   \n",
              "17  Momotaro Dentetsu 2017: Tachiagare Nippon!!   \n",
              "18                           WipeOut 3 The Game   \n",
              "\n",
              "                         publisher              developer  vgchartz_score  \\\n",
              "14                        Nintendo      Nd Cube Co., Ltd.             0.0   \n",
              "15  Sony Interactive Entertainment            Wish Studio             0.0   \n",
              "16                        Nintendo      Nd Cube Co., Ltd.             0.0   \n",
              "17                        Nintendo  Valhalla Game Studios             0.0   \n",
              "18                      Activision  Behaviour Interactive             0.0   \n",
              "\n",
              "    critic_score  user_score  total_sales  na_sales  pal_sales  jp_sales  ...  \\\n",
              "14           6.2         0.0     870000.0  250000.0   370000.0  200000.0  ...   \n",
              "15           0.0         0.0     610000.0   50000.0   470000.0       0.0  ...   \n",
              "16           4.8         0.0     490000.0  230000.0   120000.0  100000.0  ...   \n",
              "17           0.0         0.0     400000.0       0.0        0.0  400000.0  ...   \n",
              "18           0.0         0.0     400000.0  360000.0        0.0       0.0  ...   \n",
              "\n",
              "    genre_Racing genre_Role Playing genre_Sandbox  genre_Shooter  \\\n",
              "14             0                  0             0              0   \n",
              "15             0                  0             0              0   \n",
              "16             0                  0             0              0   \n",
              "17             0                  0             0              0   \n",
              "18             0                  0             0              0   \n",
              "\n",
              "    genre_Simulation  genre_Sports  genre_Strategy  platform_XBOX  \\\n",
              "14                 0             0               0              0   \n",
              "15                 0             0               0              0   \n",
              "16                 0             0               0              0   \n",
              "17                 0             0               0              0   \n",
              "18                 0             0               0              0   \n",
              "\n",
              "    platform_PLAYSTATION  platform_OTHER  \n",
              "14                     0               1  \n",
              "15                     1               0  \n",
              "16                     0               0  \n",
              "17                     0               1  \n",
              "18                     0               0  \n",
              "\n",
              "[5 rows x 37 columns]"
            ]
          },
          "metadata": {},
          "execution_count": 49
        }
      ]
    },
    {
      "cell_type": "markdown",
      "source": [
        "#Which genre game has been released the most in a single year?"
      ],
      "metadata": {
        "id": "qLZUJr-Gbi6g"
      }
    },
    {
      "cell_type": "code",
      "source": [
        "%%HTML\n",
        "<div class='tableauPlaceholder' id='viz1596367285916' style='position: relative'><noscript><a href='#'><img alt=' ' src='https:&#47;&#47;public.tableau.com&#47;static&#47;images&#47;ca&#47;capstone_15961956142290&#47;MostGameGenreReleasedeachyear&#47;1_rss.png' style='border: none' /></a></noscript><object class='tableauViz'  style='display:none;'><param name='host_url' value='https%3A%2F%2Fpublic.tableau.com%2F' /> <param name='embed_code_version' value='3' /> <param name='site_root' value='' /><param name='name' value='capstone_15961956142290&#47;MostGameGenreReleasedeachyear' /><param name='tabs' value='no' /><param name='toolbar' value='yes' /><param name='static_image' value='https:&#47;&#47;public.tableau.com&#47;static&#47;images&#47;ca&#47;capstone_15961956142290&#47;MostGameGenreReleasedeachyear&#47;1.png' /> <param name='animate_transition' value='yes' /><param name='display_static_image' value='yes' /><param name='display_spinner' value='yes' /><param name='display_overlay' value='yes' /><param name='display_count' value='yes' /><param name='language' value='en-GB' /><param name='filter' value='publish=yes' /></object></div>                <script type='text/javascript'>                    var divElement = document.getElementById('viz1596367285916');                    var vizElement = divElement.getElementsByTagName('object')[0];                    vizElement.style.width='100%';vizElement.style.height=(divElement.offsetWidth*0.75)+'px';                    var scriptElement = document.createElement('script');                    scriptElement.src = 'https://public.tableau.com/javascripts/api/viz_v1.js';                    vizElement.parentNode.insertBefore(scriptElement, vizElement);                </script>"
      ],
      "metadata": {
        "colab": {
          "base_uri": "https://localhost:8080/",
          "height": 502
        },
        "id": "_xfMudscXQyw",
        "outputId": "428b6bad-5ea6-4dbf-b709-b226a37f67dd"
      },
      "execution_count": 50,
      "outputs": [
        {
          "output_type": "display_data",
          "data": {
            "text/html": [
              "<div class='tableauPlaceholder' id='viz1596367285916' style='position: relative'><noscript><a href='#'><img alt=' ' src='https:&#47;&#47;public.tableau.com&#47;static&#47;images&#47;ca&#47;capstone_15961956142290&#47;MostGameGenreReleasedeachyear&#47;1_rss.png' style='border: none' /></a></noscript><object class='tableauViz'  style='display:none;'><param name='host_url' value='https%3A%2F%2Fpublic.tableau.com%2F' /> <param name='embed_code_version' value='3' /> <param name='site_root' value='' /><param name='name' value='capstone_15961956142290&#47;MostGameGenreReleasedeachyear' /><param name='tabs' value='no' /><param name='toolbar' value='yes' /><param name='static_image' value='https:&#47;&#47;public.tableau.com&#47;static&#47;images&#47;ca&#47;capstone_15961956142290&#47;MostGameGenreReleasedeachyear&#47;1.png' /> <param name='animate_transition' value='yes' /><param name='display_static_image' value='yes' /><param name='display_spinner' value='yes' /><param name='display_overlay' value='yes' /><param name='display_count' value='yes' /><param name='language' value='en-GB' /><param name='filter' value='publish=yes' /></object></div>                <script type='text/javascript'>                    var divElement = document.getElementById('viz1596367285916');                    var vizElement = divElement.getElementsByTagName('object')[0];                    vizElement.style.width='100%';vizElement.style.height=(divElement.offsetWidth*0.75)+'px';                    var scriptElement = document.createElement('script');                    scriptElement.src = 'https://public.tableau.com/javascripts/api/viz_v1.js';                    vizElement.parentNode.insertBefore(scriptElement, vizElement);                </script>"
            ],
            "text/plain": [
              "<IPython.core.display.HTML object>"
            ]
          },
          "metadata": {}
        }
      ]
    },
    {
      "cell_type": "markdown",
      "source": [
        "Interestingly, we have seem a shift in game trends throughout the years.\n",
        "\n",
        "From the beginnings of the games, from 1970s to early 1990s, there has been a fair mix of game genre created back then.\n",
        "\n",
        "Titles like the Pacman to Metal Slug were simple, fun and popular, I remember game titles like NBA and FIFA was really popular back then in school.\n",
        "\n",
        "Slowly evolving to the early 2000s when Action and Role-Playing games such as Assassins Creed and Grand Theft Auto became popular.\n",
        "\n"
      ],
      "metadata": {
        "id": "F_McIPffaTwA"
      }
    },
    {
      "cell_type": "markdown",
      "source": [
        "## Sales comparison by Genre"
      ],
      "metadata": {
        "id": "Pe7Pg3HDbc1Z"
      }
    },
    {
      "cell_type": "code",
      "source": [
        "%%HTML\n",
        "<div class='tableauPlaceholder' id='viz1596368453000' style='position: relative'><noscript><a href='#'><img alt=' ' src='https:&#47;&#47;public.tableau.com&#47;static&#47;images&#47;ca&#47;capstone_15961956142290&#47;SalesVolumeComparisonbyGenre&#47;1_rss.png' style='border: none' /></a></noscript><object class='tableauViz'  style='display:none;'><param name='host_url' value='https%3A%2F%2Fpublic.tableau.com%2F' /> <param name='embed_code_version' value='3' /> <param name='site_root' value='' /><param name='name' value='capstone_15961956142290&#47;SalesVolumeComparisonbyGenre' /><param name='tabs' value='no' /><param name='toolbar' value='yes' /><param name='static_image' value='https:&#47;&#47;public.tableau.com&#47;static&#47;images&#47;ca&#47;capstone_15961956142290&#47;SalesVolumeComparisonbyGenre&#47;1.png' /> <param name='animate_transition' value='yes' /><param name='display_static_image' value='yes' /><param name='display_spinner' value='yes' /><param name='display_overlay' value='yes' /><param name='display_count' value='yes' /><param name='language' value='en-GB' /><param name='filter' value='publish=yes' /></object></div>                <script type='text/javascript'>                    var divElement = document.getElementById('viz1596368453000');                    var vizElement = divElement.getElementsByTagName('object')[0];                    vizElement.style.width='100%';vizElement.style.height=(divElement.offsetWidth*0.75)+'px';                    var scriptElement = document.createElement('script');                    scriptElement.src = 'https://public.tableau.com/javascripts/api/viz_v1.js';                    vizElement.parentNode.insertBefore(scriptElement, vizElement);                </script>"
      ],
      "metadata": {
        "colab": {
          "base_uri": "https://localhost:8080/",
          "height": 502
        },
        "id": "TV8hBQHqR3Wj",
        "outputId": "4bf80233-8690-441d-a590-3a8481357508"
      },
      "execution_count": 51,
      "outputs": [
        {
          "output_type": "display_data",
          "data": {
            "text/html": [
              "<div class='tableauPlaceholder' id='viz1596368453000' style='position: relative'><noscript><a href='#'><img alt=' ' src='https:&#47;&#47;public.tableau.com&#47;static&#47;images&#47;ca&#47;capstone_15961956142290&#47;SalesVolumeComparisonbyGenre&#47;1_rss.png' style='border: none' /></a></noscript><object class='tableauViz'  style='display:none;'><param name='host_url' value='https%3A%2F%2Fpublic.tableau.com%2F' /> <param name='embed_code_version' value='3' /> <param name='site_root' value='' /><param name='name' value='capstone_15961956142290&#47;SalesVolumeComparisonbyGenre' /><param name='tabs' value='no' /><param name='toolbar' value='yes' /><param name='static_image' value='https:&#47;&#47;public.tableau.com&#47;static&#47;images&#47;ca&#47;capstone_15961956142290&#47;SalesVolumeComparisonbyGenre&#47;1.png' /> <param name='animate_transition' value='yes' /><param name='display_static_image' value='yes' /><param name='display_spinner' value='yes' /><param name='display_overlay' value='yes' /><param name='display_count' value='yes' /><param name='language' value='en-GB' /><param name='filter' value='publish=yes' /></object></div>                <script type='text/javascript'>                    var divElement = document.getElementById('viz1596368453000');                    var vizElement = divElement.getElementsByTagName('object')[0];                    vizElement.style.width='100%';vizElement.style.height=(divElement.offsetWidth*0.75)+'px';                    var scriptElement = document.createElement('script');                    scriptElement.src = 'https://public.tableau.com/javascripts/api/viz_v1.js';                    vizElement.parentNode.insertBefore(scriptElement, vizElement);                </script>"
            ],
            "text/plain": [
              "<IPython.core.display.HTML object>"
            ]
          },
          "metadata": {}
        }
      ]
    },
    {
      "cell_type": "markdown",
      "source": [
        "Action games were created the most and being the most popular game genre of all, however the genre that generate the most sales is sports.\n",
        "\n",
        "One Assumption can be made is that the sports game like NBA and FIFA were produced on a yearly basis which generate more sales.\n",
        "\n",
        "Whereas the other game titles are only re-created once every few years due to the time needed to develop game improvement and increased content.\n",
        "\n",
        "Another assumption is that these games has many additional downloadable contents which requires the gamers to pay which in turn adds up to its over sales as well\n"
      ],
      "metadata": {
        "id": "h1G3BS3OcKq9"
      }
    },
    {
      "cell_type": "markdown",
      "source": [
        "# Which year had the highest sales worldwide?"
      ],
      "metadata": {
        "id": "YvEv5y4FdMdm"
      }
    },
    {
      "cell_type": "code",
      "source": [
        "%%HTML\n",
        "<div class='tableauPlaceholder' id='viz1596369222720' style='position: relative'><noscript><a href='#'><img alt=' ' src='https:&#47;&#47;public.tableau.com&#47;static&#47;images&#47;ca&#47;capstone_15961956142290&#47;YearwithHighestSalesGlobally&#47;1_rss.png' style='border: none' /></a></noscript><object class='tableauViz'  style='display:none;'><param name='host_url' value='https%3A%2F%2Fpublic.tableau.com%2F' /> <param name='embed_code_version' value='3' /> <param name='site_root' value='' /><param name='name' value='capstone_15961956142290&#47;YearwithHighestSalesGlobally' /><param name='tabs' value='no' /><param name='toolbar' value='yes' /><param name='static_image' value='https:&#47;&#47;public.tableau.com&#47;static&#47;images&#47;ca&#47;capstone_15961956142290&#47;YearwithHighestSalesGlobally&#47;1.png' /> <param name='animate_transition' value='yes' /><param name='display_static_image' value='yes' /><param name='display_spinner' value='yes' /><param name='display_overlay' value='yes' /><param name='display_count' value='yes' /><param name='language' value='en-GB' /><param name='filter' value='publish=yes' /></object></div>                <script type='text/javascript'>                    var divElement = document.getElementById('viz1596369222720');                    var vizElement = divElement.getElementsByTagName('object')[0];                    vizElement.style.width='100%';vizElement.style.height=(divElement.offsetWidth*0.75)+'px';                    var scriptElement = document.createElement('script');                    scriptElement.src = 'https://public.tableau.com/javascripts/api/viz_v1.js';                    vizElement.parentNode.insertBefore(scriptElement, vizElement);                </script>"
      ],
      "metadata": {
        "colab": {
          "base_uri": "https://localhost:8080/",
          "height": 502
        },
        "id": "M0i-LcbKdSvj",
        "outputId": "0440973e-bf95-441a-8d39-cd2abe9ab5ca"
      },
      "execution_count": 52,
      "outputs": [
        {
          "output_type": "display_data",
          "data": {
            "text/html": [
              "<div class='tableauPlaceholder' id='viz1596369222720' style='position: relative'><noscript><a href='#'><img alt=' ' src='https:&#47;&#47;public.tableau.com&#47;static&#47;images&#47;ca&#47;capstone_15961956142290&#47;YearwithHighestSalesGlobally&#47;1_rss.png' style='border: none' /></a></noscript><object class='tableauViz'  style='display:none;'><param name='host_url' value='https%3A%2F%2Fpublic.tableau.com%2F' /> <param name='embed_code_version' value='3' /> <param name='site_root' value='' /><param name='name' value='capstone_15961956142290&#47;YearwithHighestSalesGlobally' /><param name='tabs' value='no' /><param name='toolbar' value='yes' /><param name='static_image' value='https:&#47;&#47;public.tableau.com&#47;static&#47;images&#47;ca&#47;capstone_15961956142290&#47;YearwithHighestSalesGlobally&#47;1.png' /> <param name='animate_transition' value='yes' /><param name='display_static_image' value='yes' /><param name='display_spinner' value='yes' /><param name='display_overlay' value='yes' /><param name='display_count' value='yes' /><param name='language' value='en-GB' /><param name='filter' value='publish=yes' /></object></div>                <script type='text/javascript'>                    var divElement = document.getElementById('viz1596369222720');                    var vizElement = divElement.getElementsByTagName('object')[0];                    vizElement.style.width='100%';vizElement.style.height=(divElement.offsetWidth*0.75)+'px';                    var scriptElement = document.createElement('script');                    scriptElement.src = 'https://public.tableau.com/javascripts/api/viz_v1.js';                    vizElement.parentNode.insertBefore(scriptElement, vizElement);                </script>"
            ],
            "text/plain": [
              "<IPython.core.display.HTML object>"
            ]
          },
          "metadata": {}
        }
      ]
    },
    {
      "cell_type": "markdown",
      "source": [
        "There was a huge increase of sales globally back in 2008 from our data and slowly decline over the years.\n",
        "\n",
        "One possibility is that the gaming industry seems to benefit from the 2007 recession when spending on software is at record levels and games were relatively cheap form of home entertainment and therefore causing the huge spike in sales in 2008.\n",
        "\n",
        "Additionally, with internet speed being faster, pirated games were easily available and downloaded for free, increased software piracy became a big problem, taking away massive profits from the game developers, resulting a downward trend from 2009."
      ],
      "metadata": {
        "id": "Ru0M8G-qdasx"
      }
    },
    {
      "cell_type": "markdown",
      "source": [
        "##Which year had the most game release?"
      ],
      "metadata": {
        "id": "UqKEgW-edfEr"
      }
    },
    {
      "cell_type": "code",
      "source": [
        "%%HTML\n",
        "<div class='tableauPlaceholder' id='viz1596368802237' style='position: relative'><noscript><a href='#'><img alt=' ' src='https:&#47;&#47;public.tableau.com&#47;static&#47;images&#47;ca&#47;capstone_15961956142290&#47;YearwiththeMostGameReleased&#47;1_rss.png' style='border: none' /></a></noscript><object class='tableauViz'  style='display:none;'><param name='host_url' value='https%3A%2F%2Fpublic.tableau.com%2F' /> <param name='embed_code_version' value='3' /> <param name='site_root' value='' /><param name='name' value='capstone_15961956142290&#47;YearwiththeMostGameReleased' /><param name='tabs' value='no' /><param name='toolbar' value='yes' /><param name='static_image' value='https:&#47;&#47;public.tableau.com&#47;static&#47;images&#47;ca&#47;capstone_15961956142290&#47;YearwiththeMostGameReleased&#47;1.png' /> <param name='animate_transition' value='yes' /><param name='display_static_image' value='yes' /><param name='display_spinner' value='yes' /><param name='display_overlay' value='yes' /><param name='display_count' value='yes' /><param name='language' value='en-GB' /><param name='filter' value='publish=yes' /></object></div>                <script type='text/javascript'>                    var divElement = document.getElementById('viz1596368802237');                    var vizElement = divElement.getElementsByTagName('object')[0];                    vizElement.style.width='100%';vizElement.style.height=(divElement.offsetWidth*0.75)+'px';                    var scriptElement = document.createElement('script');                    scriptElement.src = 'https://public.tableau.com/javascripts/api/viz_v1.js';                    vizElement.parentNode.insertBefore(scriptElement, vizElement);                </script>"
      ],
      "metadata": {
        "colab": {
          "base_uri": "https://localhost:8080/",
          "height": 502
        },
        "id": "ZH7NImzTdSyL",
        "outputId": "cfd49c32-95a9-4f0c-dacc-1853528bfdd4"
      },
      "execution_count": 53,
      "outputs": [
        {
          "output_type": "display_data",
          "data": {
            "text/html": [
              "<div class='tableauPlaceholder' id='viz1596368802237' style='position: relative'><noscript><a href='#'><img alt=' ' src='https:&#47;&#47;public.tableau.com&#47;static&#47;images&#47;ca&#47;capstone_15961956142290&#47;YearwiththeMostGameReleased&#47;1_rss.png' style='border: none' /></a></noscript><object class='tableauViz'  style='display:none;'><param name='host_url' value='https%3A%2F%2Fpublic.tableau.com%2F' /> <param name='embed_code_version' value='3' /> <param name='site_root' value='' /><param name='name' value='capstone_15961956142290&#47;YearwiththeMostGameReleased' /><param name='tabs' value='no' /><param name='toolbar' value='yes' /><param name='static_image' value='https:&#47;&#47;public.tableau.com&#47;static&#47;images&#47;ca&#47;capstone_15961956142290&#47;YearwiththeMostGameReleased&#47;1.png' /> <param name='animate_transition' value='yes' /><param name='display_static_image' value='yes' /><param name='display_spinner' value='yes' /><param name='display_overlay' value='yes' /><param name='display_count' value='yes' /><param name='language' value='en-GB' /><param name='filter' value='publish=yes' /></object></div>                <script type='text/javascript'>                    var divElement = document.getElementById('viz1596368802237');                    var vizElement = divElement.getElementsByTagName('object')[0];                    vizElement.style.width='100%';vizElement.style.height=(divElement.offsetWidth*0.75)+'px';                    var scriptElement = document.createElement('script');                    scriptElement.src = 'https://public.tableau.com/javascripts/api/viz_v1.js';                    vizElement.parentNode.insertBefore(scriptElement, vizElement);                </script>"
            ],
            "text/plain": [
              "<IPython.core.display.HTML object>"
            ]
          },
          "metadata": {}
        }
      ]
    },
    {
      "cell_type": "markdown",
      "source": [
        "With the huge sales volume from 2008, it is only normal to see an upward trend of increase of games released 2009 with every game developers wanting to have the pie of share from the sales tracing back to 2008."
      ],
      "metadata": {
        "id": "jzjLearRdtOi"
      }
    },
    {
      "cell_type": "markdown",
      "source": [
        "##Comparing between Xbox, Playstation and Nintendo Switch which generate the most sales?"
      ],
      "metadata": {
        "id": "sIJdYYegdv1v"
      }
    },
    {
      "cell_type": "code",
      "source": [
        "%%HTML\n",
        "<div class='tableauPlaceholder' id='viz1596392390127' style='position: relative'><noscript><a href='#'><img alt=' ' src='https:&#47;&#47;public.tableau.com&#47;static&#47;images&#47;ca&#47;capstone_15961956142290&#47;SalesComparisonbyPlatform&#47;1_rss.png' style='border: none' /></a></noscript><object class='tableauViz'  style='display:none;'><param name='host_url' value='https%3A%2F%2Fpublic.tableau.com%2F' /> <param name='embed_code_version' value='3' /> <param name='site_root' value='' /><param name='name' value='capstone_15961956142290&#47;SalesComparisonbyPlatform' /><param name='tabs' value='no' /><param name='toolbar' value='yes' /><param name='static_image' value='https:&#47;&#47;public.tableau.com&#47;static&#47;images&#47;ca&#47;capstone_15961956142290&#47;SalesComparisonbyPlatform&#47;1.png' /> <param name='animate_transition' value='yes' /><param name='display_static_image' value='yes' /><param name='display_spinner' value='yes' /><param name='display_overlay' value='yes' /><param name='display_count' value='yes' /><param name='language' value='en-GB' /><param name='filter' value='publish=yes' /></object></div>                <script type='text/javascript'>                    var divElement = document.getElementById('viz1596392390127');                    var vizElement = divElement.getElementsByTagName('object')[0];                    vizElement.style.width='100%';vizElement.style.height=(divElement.offsetWidth*0.75)+'px';                    var scriptElement = document.createElement('script');                    scriptElement.src = 'https://public.tableau.com/javascripts/api/viz_v1.js';                    vizElement.parentNode.insertBefore(scriptElement, vizElement);                </script>"
      ],
      "metadata": {
        "colab": {
          "base_uri": "https://localhost:8080/",
          "height": 502
        },
        "id": "hoyED7ibdS0R",
        "outputId": "98818a73-1432-402e-a053-7f5ee0ed5b85"
      },
      "execution_count": 54,
      "outputs": [
        {
          "output_type": "display_data",
          "data": {
            "text/html": [
              "<div class='tableauPlaceholder' id='viz1596392390127' style='position: relative'><noscript><a href='#'><img alt=' ' src='https:&#47;&#47;public.tableau.com&#47;static&#47;images&#47;ca&#47;capstone_15961956142290&#47;SalesComparisonbyPlatform&#47;1_rss.png' style='border: none' /></a></noscript><object class='tableauViz'  style='display:none;'><param name='host_url' value='https%3A%2F%2Fpublic.tableau.com%2F' /> <param name='embed_code_version' value='3' /> <param name='site_root' value='' /><param name='name' value='capstone_15961956142290&#47;SalesComparisonbyPlatform' /><param name='tabs' value='no' /><param name='toolbar' value='yes' /><param name='static_image' value='https:&#47;&#47;public.tableau.com&#47;static&#47;images&#47;ca&#47;capstone_15961956142290&#47;SalesComparisonbyPlatform&#47;1.png' /> <param name='animate_transition' value='yes' /><param name='display_static_image' value='yes' /><param name='display_spinner' value='yes' /><param name='display_overlay' value='yes' /><param name='display_count' value='yes' /><param name='language' value='en-GB' /><param name='filter' value='publish=yes' /></object></div>                <script type='text/javascript'>                    var divElement = document.getElementById('viz1596392390127');                    var vizElement = divElement.getElementsByTagName('object')[0];                    vizElement.style.width='100%';vizElement.style.height=(divElement.offsetWidth*0.75)+'px';                    var scriptElement = document.createElement('script');                    scriptElement.src = 'https://public.tableau.com/javascripts/api/viz_v1.js';                    vizElement.parentNode.insertBefore(scriptElement, vizElement);                </script>"
            ],
            "text/plain": [
              "<IPython.core.display.HTML object>"
            ]
          },
          "metadata": {}
        }
      ]
    },
    {
      "cell_type": "markdown",
      "source": [
        "From the graphs above, we can see that Playstation had the most amount of sales, and North American contributed to the most sales to all platforms.\n",
        "\n",
        "Based on my research, Playstation started as early as 1994, whereas Xbox was created in 2001 and therefore Playstation had a slightly higher amount of sales\n",
        "\n",
        "Additionally, alot of Japanese games developers will only launch games based exclusively based on Playstation (since Playstation is a Japanese Product and support their own country product) which adds up to the oversales as well.\n",
        "\n",
        "Many popular games exclusively on Playstation such as Uncharted 4, The Last of Us, Marvel's Spider-Man, Horizon Zero Dawn, and God of War which therefore making Playstation the dominent gaming console through these years."
      ],
      "metadata": {
        "id": "W9vgzs3rd2m6"
      }
    },
    {
      "cell_type": "markdown",
      "source": [
        "##Sales comparison by Publisher"
      ],
      "metadata": {
        "id": "o_qKNKSsd72X"
      }
    },
    {
      "cell_type": "code",
      "source": [
        "%%HTML\n",
        "<div class='tableauPlaceholder' id='viz1596369529135' style='position: relative'><noscript><a href='#'><img alt=' ' src='https:&#47;&#47;public.tableau.com&#47;static&#47;images&#47;ca&#47;capstone_15961956142290&#47;Salescomparisonbypublisher&#47;1_rss.png' style='border: none' /></a></noscript><object class='tableauViz'  style='display:none;'><param name='host_url' value='https%3A%2F%2Fpublic.tableau.com%2F' /> <param name='embed_code_version' value='3' /> <param name='site_root' value='' /><param name='name' value='capstone_15961956142290&#47;Salescomparisonbypublisher' /><param name='tabs' value='no' /><param name='toolbar' value='yes' /><param name='static_image' value='https:&#47;&#47;public.tableau.com&#47;static&#47;images&#47;ca&#47;capstone_15961956142290&#47;Salescomparisonbypublisher&#47;1.png' /> <param name='animate_transition' value='yes' /><param name='display_static_image' value='yes' /><param name='display_spinner' value='yes' /><param name='display_overlay' value='yes' /><param name='display_count' value='yes' /><param name='language' value='en-GB' /><param name='filter' value='publish=yes' /></object></div>                <script type='text/javascript'>                    var divElement = document.getElementById('viz1596369529135');                    var vizElement = divElement.getElementsByTagName('object')[0];                    vizElement.style.width='100%';vizElement.style.height=(divElement.offsetWidth*0.75)+'px';                    var scriptElement = document.createElement('script');                    scriptElement.src = 'https://public.tableau.com/javascripts/api/viz_v1.js';                    vizElement.parentNode.insertBefore(scriptElement, vizElement);                </script>"
      ],
      "metadata": {
        "colab": {
          "base_uri": "https://localhost:8080/",
          "height": 502
        },
        "id": "Pxl6GZ-YdS3B",
        "outputId": "9e0ce894-0531-4f0e-ea10-2a151c4372b9"
      },
      "execution_count": 55,
      "outputs": [
        {
          "output_type": "display_data",
          "data": {
            "text/html": [
              "<div class='tableauPlaceholder' id='viz1596369529135' style='position: relative'><noscript><a href='#'><img alt=' ' src='https:&#47;&#47;public.tableau.com&#47;static&#47;images&#47;ca&#47;capstone_15961956142290&#47;Salescomparisonbypublisher&#47;1_rss.png' style='border: none' /></a></noscript><object class='tableauViz'  style='display:none;'><param name='host_url' value='https%3A%2F%2Fpublic.tableau.com%2F' /> <param name='embed_code_version' value='3' /> <param name='site_root' value='' /><param name='name' value='capstone_15961956142290&#47;Salescomparisonbypublisher' /><param name='tabs' value='no' /><param name='toolbar' value='yes' /><param name='static_image' value='https:&#47;&#47;public.tableau.com&#47;static&#47;images&#47;ca&#47;capstone_15961956142290&#47;Salescomparisonbypublisher&#47;1.png' /> <param name='animate_transition' value='yes' /><param name='display_static_image' value='yes' /><param name='display_spinner' value='yes' /><param name='display_overlay' value='yes' /><param name='display_count' value='yes' /><param name='language' value='en-GB' /><param name='filter' value='publish=yes' /></object></div>                <script type='text/javascript'>                    var divElement = document.getElementById('viz1596369529135');                    var vizElement = divElement.getElementsByTagName('object')[0];                    vizElement.style.width='100%';vizElement.style.height=(divElement.offsetWidth*0.75)+'px';                    var scriptElement = document.createElement('script');                    scriptElement.src = 'https://public.tableau.com/javascripts/api/viz_v1.js';                    vizElement.parentNode.insertBefore(scriptElement, vizElement);                </script>"
            ],
            "text/plain": [
              "<IPython.core.display.HTML object>"
            ]
          },
          "metadata": {}
        }
      ]
    },
    {
      "cell_type": "markdown",
      "source": [
        "Activision has the most number of games created, followed by Electronic Arts.\n",
        "\n",
        "From my research, Activision started game development in 1980 and formally known as Atari where as Ubisoft only started in 1986 and therefore due to its longer history, it had been the top since then.\n",
        "\n",
        "Activision games had few gamers but they had \"super revenue generating\" game title like \"Call of Duty\" which generated 18 billion whereas Electronic Arts top title only generates 10 billion."
      ],
      "metadata": {
        "id": "V1yRRHLfeCPb"
      }
    },
    {
      "cell_type": "markdown",
      "source": [
        "##Total revenue by region"
      ],
      "metadata": {
        "id": "ItAL86-1eEbD"
      }
    },
    {
      "cell_type": "code",
      "source": [
        "%%HTML\n",
        "<div class='tableauPlaceholder' id='viz1596369846386' style='position: relative'><noscript><a href='#'><img alt=' ' src='https:&#47;&#47;public.tableau.com&#47;static&#47;images&#47;ca&#47;capstone_15961956142290&#47;TotalRevenuebyRegion&#47;1_rss.png' style='border: none' /></a></noscript><object class='tableauViz'  style='display:none;'><param name='host_url' value='https%3A%2F%2Fpublic.tableau.com%2F' /> <param name='embed_code_version' value='3' /> <param name='site_root' value='' /><param name='name' value='capstone_15961956142290&#47;TotalRevenuebyRegion' /><param name='tabs' value='no' /><param name='toolbar' value='yes' /><param name='static_image' value='https:&#47;&#47;public.tableau.com&#47;static&#47;images&#47;ca&#47;capstone_15961956142290&#47;TotalRevenuebyRegion&#47;1.png' /> <param name='animate_transition' value='yes' /><param name='display_static_image' value='yes' /><param name='display_spinner' value='yes' /><param name='display_overlay' value='yes' /><param name='display_count' value='yes' /><param name='language' value='en-GB' /><param name='filter' value='publish=yes' /></object></div>                <script type='text/javascript'>                    var divElement = document.getElementById('viz1596369846386');                    var vizElement = divElement.getElementsByTagName('object')[0];                    vizElement.style.width='100%';vizElement.style.height=(divElement.offsetWidth*0.75)+'px';                    var scriptElement = document.createElement('script');                    scriptElement.src = 'https://public.tableau.com/javascripts/api/viz_v1.js';                    vizElement.parentNode.insertBefore(scriptElement, vizElement);                </script>\n"
      ],
      "metadata": {
        "colab": {
          "base_uri": "https://localhost:8080/",
          "height": 502
        },
        "id": "pyGuuG-ndS6B",
        "outputId": "4e261072-984e-46bf-9df6-2e62d55ffd8d"
      },
      "execution_count": 56,
      "outputs": [
        {
          "output_type": "display_data",
          "data": {
            "text/html": [
              "<div class='tableauPlaceholder' id='viz1596369846386' style='position: relative'><noscript><a href='#'><img alt=' ' src='https:&#47;&#47;public.tableau.com&#47;static&#47;images&#47;ca&#47;capstone_15961956142290&#47;TotalRevenuebyRegion&#47;1_rss.png' style='border: none' /></a></noscript><object class='tableauViz'  style='display:none;'><param name='host_url' value='https%3A%2F%2Fpublic.tableau.com%2F' /> <param name='embed_code_version' value='3' /> <param name='site_root' value='' /><param name='name' value='capstone_15961956142290&#47;TotalRevenuebyRegion' /><param name='tabs' value='no' /><param name='toolbar' value='yes' /><param name='static_image' value='https:&#47;&#47;public.tableau.com&#47;static&#47;images&#47;ca&#47;capstone_15961956142290&#47;TotalRevenuebyRegion&#47;1.png' /> <param name='animate_transition' value='yes' /><param name='display_static_image' value='yes' /><param name='display_spinner' value='yes' /><param name='display_overlay' value='yes' /><param name='display_count' value='yes' /><param name='language' value='en-GB' /><param name='filter' value='publish=yes' /></object></div>                <script type='text/javascript'>                    var divElement = document.getElementById('viz1596369846386');                    var vizElement = divElement.getElementsByTagName('object')[0];                    vizElement.style.width='100%';vizElement.style.height=(divElement.offsetWidth*0.75)+'px';                    var scriptElement = document.createElement('script');                    scriptElement.src = 'https://public.tableau.com/javascripts/api/viz_v1.js';                    vizElement.parentNode.insertBefore(scriptElement, vizElement);                </script>"
            ],
            "text/plain": [
              "<IPython.core.display.HTML object>"
            ]
          },
          "metadata": {}
        }
      ]
    },
    {
      "cell_type": "markdown",
      "source": [
        "North American contributed to the most sales (40-50% of total sales) followed by PAL which is mainly Asia and European countries."
      ],
      "metadata": {
        "id": "AQhpShMaeJDD"
      }
    },
    {
      "cell_type": "markdown",
      "source": [
        "##Which release month of the games generate the most sales?"
      ],
      "metadata": {
        "id": "tSAHlWxOeMCB"
      }
    },
    {
      "cell_type": "code",
      "source": [
        "%%HTML\n",
        "<div class='tableauPlaceholder' id='viz1596369995244' style='position: relative'><noscript><a href='#'><img alt=' ' src='https:&#47;&#47;public.tableau.com&#47;static&#47;images&#47;ca&#47;capstone_15961956142290&#47;SalesVolume&#47;1_rss.png' style='border: none' /></a></noscript><object class='tableauViz'  style='display:none;'><param name='host_url' value='https%3A%2F%2Fpublic.tableau.com%2F' /> <param name='embed_code_version' value='3' /> <param name='site_root' value='' /><param name='name' value='capstone_15961956142290&#47;SalesVolume' /><param name='tabs' value='no' /><param name='toolbar' value='yes' /><param name='static_image' value='https:&#47;&#47;public.tableau.com&#47;static&#47;images&#47;ca&#47;capstone_15961956142290&#47;SalesVolume&#47;1.png' /> <param name='animate_transition' value='yes' /><param name='display_static_image' value='yes' /><param name='display_spinner' value='yes' /><param name='display_overlay' value='yes' /><param name='display_count' value='yes' /><param name='language' value='en-GB' /><param name='filter' value='publish=yes' /></object></div>                <script type='text/javascript'>                    var divElement = document.getElementById('viz1596369995244');                    var vizElement = divElement.getElementsByTagName('object')[0];                    vizElement.style.width='100%';vizElement.style.height=(divElement.offsetWidth*0.75)+'px';                    var scriptElement = document.createElement('script');                    scriptElement.src = 'https://public.tableau.com/javascripts/api/viz_v1.js';                    vizElement.parentNode.insertBefore(scriptElement, vizElement);                </script>"
      ],
      "metadata": {
        "colab": {
          "base_uri": "https://localhost:8080/",
          "height": 502
        },
        "id": "TLIAf3-odS9M",
        "outputId": "0ad03739-0d62-4038-aa21-7a5d5c5fddc9"
      },
      "execution_count": 57,
      "outputs": [
        {
          "output_type": "display_data",
          "data": {
            "text/html": [
              "<div class='tableauPlaceholder' id='viz1596369995244' style='position: relative'><noscript><a href='#'><img alt=' ' src='https:&#47;&#47;public.tableau.com&#47;static&#47;images&#47;ca&#47;capstone_15961956142290&#47;SalesVolume&#47;1_rss.png' style='border: none' /></a></noscript><object class='tableauViz'  style='display:none;'><param name='host_url' value='https%3A%2F%2Fpublic.tableau.com%2F' /> <param name='embed_code_version' value='3' /> <param name='site_root' value='' /><param name='name' value='capstone_15961956142290&#47;SalesVolume' /><param name='tabs' value='no' /><param name='toolbar' value='yes' /><param name='static_image' value='https:&#47;&#47;public.tableau.com&#47;static&#47;images&#47;ca&#47;capstone_15961956142290&#47;SalesVolume&#47;1.png' /> <param name='animate_transition' value='yes' /><param name='display_static_image' value='yes' /><param name='display_spinner' value='yes' /><param name='display_overlay' value='yes' /><param name='display_count' value='yes' /><param name='language' value='en-GB' /><param name='filter' value='publish=yes' /></object></div>                <script type='text/javascript'>                    var divElement = document.getElementById('viz1596369995244');                    var vizElement = divElement.getElementsByTagName('object')[0];                    vizElement.style.width='100%';vizElement.style.height=(divElement.offsetWidth*0.75)+'px';                    var scriptElement = document.createElement('script');                    scriptElement.src = 'https://public.tableau.com/javascripts/api/viz_v1.js';                    vizElement.parentNode.insertBefore(scriptElement, vizElement);                </script>"
            ],
            "text/plain": [
              "<IPython.core.display.HTML object>"
            ]
          },
          "metadata": {}
        }
      ]
    },
    {
      "cell_type": "markdown",
      "source": [
        "One interesting thing to note that sales are generally higher towards the year end.\n",
        "\n",
        "One assumption that can be made is that, due to the festive seasons like CHristmas holidays happening during that period of time, more games were sold as agifts for the christmas seasn and there will be free time for the gamers to play too."
      ],
      "metadata": {
        "id": "UBhew6zdeTtE"
      }
    },
    {
      "cell_type": "code",
      "source": [
        "%%HTML\n",
        "<div class='tableauPlaceholder' id='viz1596391943100' style='position: relative'><noscript><a href='#'><img alt=' ' src='https:&#47;&#47;public.tableau.com&#47;static&#47;images&#47;ca&#47;capstone_15961956142290&#47;SalesOutliners&#47;1_rss.png' style='border: none' /></a></noscript><object class='tableauViz'  style='display:none;'><param name='host_url' value='https%3A%2F%2Fpublic.tableau.com%2F' /> <param name='embed_code_version' value='3' /> <param name='site_root' value='' /><param name='name' value='capstone_15961956142290&#47;SalesOutliners' /><param name='tabs' value='no' /><param name='toolbar' value='yes' /><param name='static_image' value='https:&#47;&#47;public.tableau.com&#47;static&#47;images&#47;ca&#47;capstone_15961956142290&#47;SalesOutliners&#47;1.png' /> <param name='animate_transition' value='yes' /><param name='display_static_image' value='yes' /><param name='display_spinner' value='yes' /><param name='display_overlay' value='yes' /><param name='display_count' value='yes' /><param name='language' value='en-GB' /><param name='filter' value='publish=yes' /></object></div>                <script type='text/javascript'>                    var divElement = document.getElementById('viz1596391943100');                    var vizElement = divElement.getElementsByTagName('object')[0];                    vizElement.style.width='100%';vizElement.style.height=(divElement.offsetWidth*0.75)+'px';                    var scriptElement = document.createElement('script');                    scriptElement.src = 'https://public.tableau.com/javascripts/api/viz_v1.js';                    vizElement.parentNode.insertBefore(scriptElement, vizElement);                </script>"
      ],
      "metadata": {
        "colab": {
          "base_uri": "https://localhost:8080/",
          "height": 502
        },
        "id": "QMgAXeEIdS_8",
        "outputId": "e7ed33f2-814d-437f-fbc9-be3dfa8e7516"
      },
      "execution_count": 58,
      "outputs": [
        {
          "output_type": "display_data",
          "data": {
            "text/html": [
              "<div class='tableauPlaceholder' id='viz1596391943100' style='position: relative'><noscript><a href='#'><img alt=' ' src='https:&#47;&#47;public.tableau.com&#47;static&#47;images&#47;ca&#47;capstone_15961956142290&#47;SalesOutliners&#47;1_rss.png' style='border: none' /></a></noscript><object class='tableauViz'  style='display:none;'><param name='host_url' value='https%3A%2F%2Fpublic.tableau.com%2F' /> <param name='embed_code_version' value='3' /> <param name='site_root' value='' /><param name='name' value='capstone_15961956142290&#47;SalesOutliners' /><param name='tabs' value='no' /><param name='toolbar' value='yes' /><param name='static_image' value='https:&#47;&#47;public.tableau.com&#47;static&#47;images&#47;ca&#47;capstone_15961956142290&#47;SalesOutliners&#47;1.png' /> <param name='animate_transition' value='yes' /><param name='display_static_image' value='yes' /><param name='display_spinner' value='yes' /><param name='display_overlay' value='yes' /><param name='display_count' value='yes' /><param name='language' value='en-GB' /><param name='filter' value='publish=yes' /></object></div>                <script type='text/javascript'>                    var divElement = document.getElementById('viz1596391943100');                    var vizElement = divElement.getElementsByTagName('object')[0];                    vizElement.style.width='100%';vizElement.style.height=(divElement.offsetWidth*0.75)+'px';                    var scriptElement = document.createElement('script');                    scriptElement.src = 'https://public.tableau.com/javascripts/api/viz_v1.js';                    vizElement.parentNode.insertBefore(scriptElement, vizElement);                </script>"
            ],
            "text/plain": [
              "<IPython.core.display.HTML object>"
            ]
          },
          "metadata": {}
        }
      ]
    },
    {
      "cell_type": "markdown",
      "source": [
        "As we can see here, most of the games are of average sales which is less than 1 million dollars and once a game got popular, it did alot more than most average games revenue, in terms several times much more than average games. One noticeable game such as Grand Theft Auto, through 4 series , a total of 235 million."
      ],
      "metadata": {
        "id": "DIJB9owEe6QV"
      }
    },
    {
      "cell_type": "markdown",
      "source": [
        "##Export Data"
      ],
      "metadata": {
        "id": "UZZDRpBmgP2K"
      }
    },
    {
      "cell_type": "code",
      "source": [
        "df_dummy.to_excel('vgsales_modellling.xlsx', index=False)"
      ],
      "metadata": {
        "id": "9Gg_nj6MdTB8"
      },
      "execution_count": 59,
      "outputs": []
    }
  ]
}