{
  "nbformat": 4,
  "nbformat_minor": 0,
  "metadata": {
    "colab": {
      "name": "Model 2-Preprocessing and Modeling.ipynb",
      "provenance": [],
      "collapsed_sections": [
        "VHgf3tRRgN0s",
        "7W6kt0JXPRMv",
        "pZ-5V98bP0DN",
        "utqeBPnfQTNh",
        "yAAnqG3eRQdk",
        "48b_fBWlRnoq",
        "HkxOOvKbSOie",
        "Z1KQv8ZGUPtv",
        "CQ8KFxg_U4vz",
        "LdlnRTChWBkX",
        "UMnK3mT1X-zA",
        "aBY8yQi9eKME"
      ]
    },
    "kernelspec": {
      "name": "python3",
      "display_name": "Python 3"
    },
    "language_info": {
      "name": "python"
    }
  },
  "cells": [
    {
      "cell_type": "markdown",
      "source": [
        "# Libraries"
      ],
      "metadata": {
        "id": "VHgf3tRRgN0s"
      }
    },
    {
      "cell_type": "code",
      "execution_count": 40,
      "metadata": {
        "id": "B9SoFZrhJ3SQ"
      },
      "outputs": [],
      "source": [
        "\n",
        "import pandas as pd\n",
        "import seaborn as sns\n",
        "import numpy as np\n",
        "import matplotlib.pyplot as plt\n",
        "\n",
        "from sklearn.metrics import r2_score\n",
        "from sklearn.model_selection import train_test_split, cross_val_score\n",
        "from sklearn.linear_model import LinearRegression, LassoCV, RidgeCV\n",
        "from sklearn.ensemble import RandomForestRegressor\n",
        "from sklearn.preprocessing import StandardScaler\n",
        "from sklearn import metrics"
      ]
    },
    {
      "cell_type": "code",
      "source": [
        "df=pd.read_excel('/content/vgsales_modellling.xlsx')\n",
        "df.head()"
      ],
      "metadata": {
        "colab": {
          "base_uri": "https://localhost:8080/",
          "height": 525
        },
        "id": "8VVYo7FdLbh5",
        "outputId": "20f19b7b-b9f2-4cf3-a8c9-661b945dc9f1"
      },
      "execution_count": 41,
      "outputs": [
        {
          "output_type": "execute_result",
          "data": {
            "text/html": [
              "\n",
              "  <div id=\"df-75f1494a-c681-493c-896a-b54bad3631bd\">\n",
              "    <div class=\"colab-df-container\">\n",
              "      <div>\n",
              "<style scoped>\n",
              "    .dataframe tbody tr th:only-of-type {\n",
              "        vertical-align: middle;\n",
              "    }\n",
              "\n",
              "    .dataframe tbody tr th {\n",
              "        vertical-align: top;\n",
              "    }\n",
              "\n",
              "    .dataframe thead th {\n",
              "        text-align: right;\n",
              "    }\n",
              "</style>\n",
              "<table border=\"1\" class=\"dataframe\">\n",
              "  <thead>\n",
              "    <tr style=\"text-align: right;\">\n",
              "      <th></th>\n",
              "      <th>name</th>\n",
              "      <th>publisher</th>\n",
              "      <th>developer</th>\n",
              "      <th>vgchartz_score</th>\n",
              "      <th>critic_score</th>\n",
              "      <th>user_score</th>\n",
              "      <th>total_sales</th>\n",
              "      <th>na_sales</th>\n",
              "      <th>pal_sales</th>\n",
              "      <th>jp_sales</th>\n",
              "      <th>...</th>\n",
              "      <th>genre_Racing</th>\n",
              "      <th>genre_Role Playing</th>\n",
              "      <th>genre_Sandbox</th>\n",
              "      <th>genre_Shooter</th>\n",
              "      <th>genre_Simulation</th>\n",
              "      <th>genre_Sports</th>\n",
              "      <th>genre_Strategy</th>\n",
              "      <th>platform_XBOX</th>\n",
              "      <th>platform_PLAYSTATION</th>\n",
              "      <th>platform_OTHER</th>\n",
              "    </tr>\n",
              "  </thead>\n",
              "  <tbody>\n",
              "    <tr>\n",
              "      <th>0</th>\n",
              "      <td>Mario Party: Star Rush</td>\n",
              "      <td>Nintendo</td>\n",
              "      <td>Nd Cube Co., Ltd.</td>\n",
              "      <td>0.0</td>\n",
              "      <td>6.2</td>\n",
              "      <td>0.0</td>\n",
              "      <td>870000.0</td>\n",
              "      <td>250000.0</td>\n",
              "      <td>370000.0</td>\n",
              "      <td>200000.0</td>\n",
              "      <td>...</td>\n",
              "      <td>0</td>\n",
              "      <td>0</td>\n",
              "      <td>0</td>\n",
              "      <td>0</td>\n",
              "      <td>0</td>\n",
              "      <td>0</td>\n",
              "      <td>0</td>\n",
              "      <td>0</td>\n",
              "      <td>0</td>\n",
              "      <td>1</td>\n",
              "    </tr>\n",
              "    <tr>\n",
              "      <th>1</th>\n",
              "      <td>Knowledge is Power</td>\n",
              "      <td>Sony Interactive Entertainment</td>\n",
              "      <td>Wish Studio</td>\n",
              "      <td>0.0</td>\n",
              "      <td>0.0</td>\n",
              "      <td>0.0</td>\n",
              "      <td>610000.0</td>\n",
              "      <td>50000.0</td>\n",
              "      <td>470000.0</td>\n",
              "      <td>0.0</td>\n",
              "      <td>...</td>\n",
              "      <td>0</td>\n",
              "      <td>0</td>\n",
              "      <td>0</td>\n",
              "      <td>0</td>\n",
              "      <td>0</td>\n",
              "      <td>0</td>\n",
              "      <td>0</td>\n",
              "      <td>0</td>\n",
              "      <td>1</td>\n",
              "      <td>0</td>\n",
              "    </tr>\n",
              "    <tr>\n",
              "      <th>2</th>\n",
              "      <td>Animal Crossing: Amiibo Festival</td>\n",
              "      <td>Nintendo</td>\n",
              "      <td>Nd Cube Co., Ltd.</td>\n",
              "      <td>0.0</td>\n",
              "      <td>4.8</td>\n",
              "      <td>0.0</td>\n",
              "      <td>490000.0</td>\n",
              "      <td>230000.0</td>\n",
              "      <td>120000.0</td>\n",
              "      <td>100000.0</td>\n",
              "      <td>...</td>\n",
              "      <td>0</td>\n",
              "      <td>0</td>\n",
              "      <td>0</td>\n",
              "      <td>0</td>\n",
              "      <td>0</td>\n",
              "      <td>0</td>\n",
              "      <td>0</td>\n",
              "      <td>0</td>\n",
              "      <td>0</td>\n",
              "      <td>0</td>\n",
              "    </tr>\n",
              "    <tr>\n",
              "      <th>3</th>\n",
              "      <td>Momotaro Dentetsu 2017: Tachiagare Nippon!!</td>\n",
              "      <td>Nintendo</td>\n",
              "      <td>Valhalla Game Studios</td>\n",
              "      <td>0.0</td>\n",
              "      <td>0.0</td>\n",
              "      <td>0.0</td>\n",
              "      <td>400000.0</td>\n",
              "      <td>0.0</td>\n",
              "      <td>0.0</td>\n",
              "      <td>400000.0</td>\n",
              "      <td>...</td>\n",
              "      <td>0</td>\n",
              "      <td>0</td>\n",
              "      <td>0</td>\n",
              "      <td>0</td>\n",
              "      <td>0</td>\n",
              "      <td>0</td>\n",
              "      <td>0</td>\n",
              "      <td>0</td>\n",
              "      <td>0</td>\n",
              "      <td>1</td>\n",
              "    </tr>\n",
              "    <tr>\n",
              "      <th>4</th>\n",
              "      <td>WipeOut 3 The Game</td>\n",
              "      <td>Activision</td>\n",
              "      <td>Behaviour Interactive</td>\n",
              "      <td>0.0</td>\n",
              "      <td>0.0</td>\n",
              "      <td>0.0</td>\n",
              "      <td>400000.0</td>\n",
              "      <td>360000.0</td>\n",
              "      <td>0.0</td>\n",
              "      <td>0.0</td>\n",
              "      <td>...</td>\n",
              "      <td>0</td>\n",
              "      <td>0</td>\n",
              "      <td>0</td>\n",
              "      <td>0</td>\n",
              "      <td>0</td>\n",
              "      <td>0</td>\n",
              "      <td>0</td>\n",
              "      <td>0</td>\n",
              "      <td>0</td>\n",
              "      <td>0</td>\n",
              "    </tr>\n",
              "  </tbody>\n",
              "</table>\n",
              "<p>5 rows × 37 columns</p>\n",
              "</div>\n",
              "      <button class=\"colab-df-convert\" onclick=\"convertToInteractive('df-75f1494a-c681-493c-896a-b54bad3631bd')\"\n",
              "              title=\"Convert this dataframe to an interactive table.\"\n",
              "              style=\"display:none;\">\n",
              "        \n",
              "  <svg xmlns=\"http://www.w3.org/2000/svg\" height=\"24px\"viewBox=\"0 0 24 24\"\n",
              "       width=\"24px\">\n",
              "    <path d=\"M0 0h24v24H0V0z\" fill=\"none\"/>\n",
              "    <path d=\"M18.56 5.44l.94 2.06.94-2.06 2.06-.94-2.06-.94-.94-2.06-.94 2.06-2.06.94zm-11 1L8.5 8.5l.94-2.06 2.06-.94-2.06-.94L8.5 2.5l-.94 2.06-2.06.94zm10 10l.94 2.06.94-2.06 2.06-.94-2.06-.94-.94-2.06-.94 2.06-2.06.94z\"/><path d=\"M17.41 7.96l-1.37-1.37c-.4-.4-.92-.59-1.43-.59-.52 0-1.04.2-1.43.59L10.3 9.45l-7.72 7.72c-.78.78-.78 2.05 0 2.83L4 21.41c.39.39.9.59 1.41.59.51 0 1.02-.2 1.41-.59l7.78-7.78 2.81-2.81c.8-.78.8-2.07 0-2.86zM5.41 20L4 18.59l7.72-7.72 1.47 1.35L5.41 20z\"/>\n",
              "  </svg>\n",
              "      </button>\n",
              "      \n",
              "  <style>\n",
              "    .colab-df-container {\n",
              "      display:flex;\n",
              "      flex-wrap:wrap;\n",
              "      gap: 12px;\n",
              "    }\n",
              "\n",
              "    .colab-df-convert {\n",
              "      background-color: #E8F0FE;\n",
              "      border: none;\n",
              "      border-radius: 50%;\n",
              "      cursor: pointer;\n",
              "      display: none;\n",
              "      fill: #1967D2;\n",
              "      height: 32px;\n",
              "      padding: 0 0 0 0;\n",
              "      width: 32px;\n",
              "    }\n",
              "\n",
              "    .colab-df-convert:hover {\n",
              "      background-color: #E2EBFA;\n",
              "      box-shadow: 0px 1px 2px rgba(60, 64, 67, 0.3), 0px 1px 3px 1px rgba(60, 64, 67, 0.15);\n",
              "      fill: #174EA6;\n",
              "    }\n",
              "\n",
              "    [theme=dark] .colab-df-convert {\n",
              "      background-color: #3B4455;\n",
              "      fill: #D2E3FC;\n",
              "    }\n",
              "\n",
              "    [theme=dark] .colab-df-convert:hover {\n",
              "      background-color: #434B5C;\n",
              "      box-shadow: 0px 1px 3px 1px rgba(0, 0, 0, 0.15);\n",
              "      filter: drop-shadow(0px 1px 2px rgba(0, 0, 0, 0.3));\n",
              "      fill: #FFFFFF;\n",
              "    }\n",
              "  </style>\n",
              "\n",
              "      <script>\n",
              "        const buttonEl =\n",
              "          document.querySelector('#df-75f1494a-c681-493c-896a-b54bad3631bd button.colab-df-convert');\n",
              "        buttonEl.style.display =\n",
              "          google.colab.kernel.accessAllowed ? 'block' : 'none';\n",
              "\n",
              "        async function convertToInteractive(key) {\n",
              "          const element = document.querySelector('#df-75f1494a-c681-493c-896a-b54bad3631bd');\n",
              "          const dataTable =\n",
              "            await google.colab.kernel.invokeFunction('convertToInteractive',\n",
              "                                                     [key], {});\n",
              "          if (!dataTable) return;\n",
              "\n",
              "          const docLinkHtml = 'Like what you see? Visit the ' +\n",
              "            '<a target=\"_blank\" href=https://colab.research.google.com/notebooks/data_table.ipynb>data table notebook</a>'\n",
              "            + ' to learn more about interactive tables.';\n",
              "          element.innerHTML = '';\n",
              "          dataTable['output_type'] = 'display_data';\n",
              "          await google.colab.output.renderOutput(dataTable, element);\n",
              "          const docLink = document.createElement('div');\n",
              "          docLink.innerHTML = docLinkHtml;\n",
              "          element.appendChild(docLink);\n",
              "        }\n",
              "      </script>\n",
              "    </div>\n",
              "  </div>\n",
              "  "
            ],
            "text/plain": [
              "                                          name  \\\n",
              "0                       Mario Party: Star Rush   \n",
              "1                           Knowledge is Power   \n",
              "2             Animal Crossing: Amiibo Festival   \n",
              "3  Momotaro Dentetsu 2017: Tachiagare Nippon!!   \n",
              "4                           WipeOut 3 The Game   \n",
              "\n",
              "                        publisher              developer  vgchartz_score  \\\n",
              "0                        Nintendo      Nd Cube Co., Ltd.             0.0   \n",
              "1  Sony Interactive Entertainment            Wish Studio             0.0   \n",
              "2                        Nintendo      Nd Cube Co., Ltd.             0.0   \n",
              "3                        Nintendo  Valhalla Game Studios             0.0   \n",
              "4                      Activision  Behaviour Interactive             0.0   \n",
              "\n",
              "   critic_score  user_score  total_sales  na_sales  pal_sales  jp_sales  ...  \\\n",
              "0           6.2         0.0     870000.0  250000.0   370000.0  200000.0  ...   \n",
              "1           0.0         0.0     610000.0   50000.0   470000.0       0.0  ...   \n",
              "2           4.8         0.0     490000.0  230000.0   120000.0  100000.0  ...   \n",
              "3           0.0         0.0     400000.0       0.0        0.0  400000.0  ...   \n",
              "4           0.0         0.0     400000.0  360000.0        0.0       0.0  ...   \n",
              "\n",
              "   genre_Racing genre_Role Playing genre_Sandbox  genre_Shooter  \\\n",
              "0             0                  0             0              0   \n",
              "1             0                  0             0              0   \n",
              "2             0                  0             0              0   \n",
              "3             0                  0             0              0   \n",
              "4             0                  0             0              0   \n",
              "\n",
              "   genre_Simulation  genre_Sports  genre_Strategy  platform_XBOX  \\\n",
              "0                 0             0               0              0   \n",
              "1                 0             0               0              0   \n",
              "2                 0             0               0              0   \n",
              "3                 0             0               0              0   \n",
              "4                 0             0               0              0   \n",
              "\n",
              "   platform_PLAYSTATION  platform_OTHER  \n",
              "0                     0               1  \n",
              "1                     1               0  \n",
              "2                     0               0  \n",
              "3                     0               1  \n",
              "4                     0               0  \n",
              "\n",
              "[5 rows x 37 columns]"
            ]
          },
          "metadata": {},
          "execution_count": 41
        }
      ]
    },
    {
      "cell_type": "code",
      "source": [
        "df.dtypes"
      ],
      "metadata": {
        "colab": {
          "base_uri": "https://localhost:8080/"
        },
        "id": "8da09mKsLbkI",
        "outputId": "a74046a8-e523-4fc6-8142-e0db05a60221"
      },
      "execution_count": 42,
      "outputs": [
        {
          "output_type": "execute_result",
          "data": {
            "text/plain": [
              "name                              object\n",
              "publisher                         object\n",
              "developer                         object\n",
              "vgchartz_score                   float64\n",
              "critic_score                     float64\n",
              "user_score                       float64\n",
              "total_sales                      float64\n",
              "na_sales                         float64\n",
              "pal_sales                        float64\n",
              "jp_sales                         float64\n",
              "other_sales                      float64\n",
              "release_date              datetime64[ns]\n",
              "last_update               datetime64[ns]\n",
              "release_month                      int64\n",
              "release_year                       int64\n",
              "release_day_of_week                int64\n",
              "release_day                        int64\n",
              "platform_NS                        int64\n",
              "genre_Action                       int64\n",
              "genre_Action-Adventure             int64\n",
              "genre_Adventure                    int64\n",
              "genre_Fighting                     int64\n",
              "genre_MMO                          int64\n",
              "genre_Music                        int64\n",
              "genre_Party                        int64\n",
              "genre_Platform                     int64\n",
              "genre_Puzzle                       int64\n",
              "genre_Racing                       int64\n",
              "genre_Role Playing                 int64\n",
              "genre_Sandbox                      int64\n",
              "genre_Shooter                      int64\n",
              "genre_Simulation                   int64\n",
              "genre_Sports                       int64\n",
              "genre_Strategy                     int64\n",
              "platform_XBOX                      int64\n",
              "platform_PLAYSTATION               int64\n",
              "platform_OTHER                     int64\n",
              "dtype: object"
            ]
          },
          "metadata": {},
          "execution_count": 42
        }
      ]
    },
    {
      "cell_type": "code",
      "source": [
        "df.date=pd.to_datetime(df.release_date)\n",
        "df['release_month']=df['release_date'].apply(lambda x: x.to_pydatetime().month)\n",
        "df['release_year']=df['release_date'].apply(lambda x: x.to_pydatetime().year)\n",
        "df['release_day_of_week']=df['release_date'].apply(lambda x: x.to_pydatetime().weekday())\n",
        "df['release_day']=df['release_date'].apply(lambda x: x.to_pydatetime().day)"
      ],
      "metadata": {
        "colab": {
          "base_uri": "https://localhost:8080/"
        },
        "id": "lvUpIYesLbmh",
        "outputId": "0a6d8c5a-0298-453b-9b0e-78bab0b947cd"
      },
      "execution_count": 43,
      "outputs": [
        {
          "output_type": "stream",
          "name": "stderr",
          "text": [
            "/usr/local/lib/python3.7/dist-packages/ipykernel_launcher.py:1: UserWarning: Pandas doesn't allow columns to be created via a new attribute name - see https://pandas.pydata.org/pandas-docs/stable/indexing.html#attribute-access\n",
            "  \"\"\"Entry point for launching an IPython kernel.\n"
          ]
        }
      ]
    },
    {
      "cell_type": "code",
      "source": [
        "df=df.copy()\n",
        "df=pd.concat([df, pd.get_dummies(df['release_month'])], axis=1);"
      ],
      "metadata": {
        "id": "ypV7XvjpLbpQ"
      },
      "execution_count": 44,
      "outputs": []
    },
    {
      "cell_type": "code",
      "source": [
        "df.rename(columns={1:'Jan', 2:'Feb', 3: 'Mar', 4: 'Apr',  5: 'May',  6: 'Jun',  7: 'Jul',  8: 'Aug', 9: 'Sept', 10: 'Oct', 11: 'Nov', 12: 'Dec' }, inplace=True)\n"
      ],
      "metadata": {
        "id": "XORf_DfALbrq"
      },
      "execution_count": 45,
      "outputs": []
    },
    {
      "cell_type": "code",
      "source": [
        "df=df.drop(['publisher','developer','last_update','release_date','release_month','na_sales','pal_sales','jp_sales','other_sales'], axis=1)"
      ],
      "metadata": {
        "id": "RSfaitL3Lbuv"
      },
      "execution_count": 46,
      "outputs": []
    },
    {
      "cell_type": "code",
      "source": [
        "df.dtypes==object"
      ],
      "metadata": {
        "colab": {
          "base_uri": "https://localhost:8080/"
        },
        "id": "eytXIYsRLbxI",
        "outputId": "89991067-a8de-4b1d-ea33-57e7967bf367"
      },
      "execution_count": 47,
      "outputs": [
        {
          "output_type": "execute_result",
          "data": {
            "text/plain": [
              "name                       True\n",
              "vgchartz_score            False\n",
              "critic_score              False\n",
              "user_score                False\n",
              "total_sales               False\n",
              "release_year              False\n",
              "release_day_of_week       False\n",
              "release_day               False\n",
              "platform_NS               False\n",
              "genre_Action              False\n",
              "genre_Action-Adventure    False\n",
              "genre_Adventure           False\n",
              "genre_Fighting            False\n",
              "genre_MMO                 False\n",
              "genre_Music               False\n",
              "genre_Party               False\n",
              "genre_Platform            False\n",
              "genre_Puzzle              False\n",
              "genre_Racing              False\n",
              "genre_Role Playing        False\n",
              "genre_Sandbox             False\n",
              "genre_Shooter             False\n",
              "genre_Simulation          False\n",
              "genre_Sports              False\n",
              "genre_Strategy            False\n",
              "platform_XBOX             False\n",
              "platform_PLAYSTATION      False\n",
              "platform_OTHER            False\n",
              "Jan                       False\n",
              "Feb                       False\n",
              "Mar                       False\n",
              "Apr                       False\n",
              "May                       False\n",
              "Jun                       False\n",
              "Jul                       False\n",
              "Aug                       False\n",
              "Sept                      False\n",
              "Oct                       False\n",
              "Nov                       False\n",
              "Dec                       False\n",
              "dtype: bool"
            ]
          },
          "metadata": {},
          "execution_count": 47
        }
      ]
    },
    {
      "cell_type": "code",
      "source": [
        "df.shape"
      ],
      "metadata": {
        "colab": {
          "base_uri": "https://localhost:8080/"
        },
        "id": "jYfw6bV6Lbz2",
        "outputId": "e7995ba1-153b-40f5-eba8-85482cafc888"
      },
      "execution_count": 48,
      "outputs": [
        {
          "output_type": "execute_result",
          "data": {
            "text/plain": [
              "(15775, 40)"
            ]
          },
          "metadata": {},
          "execution_count": 48
        }
      ]
    },
    {
      "cell_type": "code",
      "source": [
        "df.head()"
      ],
      "metadata": {
        "colab": {
          "base_uri": "https://localhost:8080/",
          "height": 490
        },
        "id": "hXrOpz0rLb2C",
        "outputId": "1067df65-2fb5-4e4b-b17b-9412d57fc430"
      },
      "execution_count": 49,
      "outputs": [
        {
          "output_type": "execute_result",
          "data": {
            "text/html": [
              "\n",
              "  <div id=\"df-3e669c30-163d-45ed-8aea-6b57054f33d2\">\n",
              "    <div class=\"colab-df-container\">\n",
              "      <div>\n",
              "<style scoped>\n",
              "    .dataframe tbody tr th:only-of-type {\n",
              "        vertical-align: middle;\n",
              "    }\n",
              "\n",
              "    .dataframe tbody tr th {\n",
              "        vertical-align: top;\n",
              "    }\n",
              "\n",
              "    .dataframe thead th {\n",
              "        text-align: right;\n",
              "    }\n",
              "</style>\n",
              "<table border=\"1\" class=\"dataframe\">\n",
              "  <thead>\n",
              "    <tr style=\"text-align: right;\">\n",
              "      <th></th>\n",
              "      <th>name</th>\n",
              "      <th>vgchartz_score</th>\n",
              "      <th>critic_score</th>\n",
              "      <th>user_score</th>\n",
              "      <th>total_sales</th>\n",
              "      <th>release_year</th>\n",
              "      <th>release_day_of_week</th>\n",
              "      <th>release_day</th>\n",
              "      <th>platform_NS</th>\n",
              "      <th>genre_Action</th>\n",
              "      <th>...</th>\n",
              "      <th>Mar</th>\n",
              "      <th>Apr</th>\n",
              "      <th>May</th>\n",
              "      <th>Jun</th>\n",
              "      <th>Jul</th>\n",
              "      <th>Aug</th>\n",
              "      <th>Sept</th>\n",
              "      <th>Oct</th>\n",
              "      <th>Nov</th>\n",
              "      <th>Dec</th>\n",
              "    </tr>\n",
              "  </thead>\n",
              "  <tbody>\n",
              "    <tr>\n",
              "      <th>0</th>\n",
              "      <td>Mario Party: Star Rush</td>\n",
              "      <td>0.0</td>\n",
              "      <td>6.2</td>\n",
              "      <td>0.0</td>\n",
              "      <td>870000.0</td>\n",
              "      <td>2016</td>\n",
              "      <td>4</td>\n",
              "      <td>4</td>\n",
              "      <td>0</td>\n",
              "      <td>0</td>\n",
              "      <td>...</td>\n",
              "      <td>0</td>\n",
              "      <td>0</td>\n",
              "      <td>0</td>\n",
              "      <td>0</td>\n",
              "      <td>0</td>\n",
              "      <td>0</td>\n",
              "      <td>0</td>\n",
              "      <td>0</td>\n",
              "      <td>1</td>\n",
              "      <td>0</td>\n",
              "    </tr>\n",
              "    <tr>\n",
              "      <th>1</th>\n",
              "      <td>Knowledge is Power</td>\n",
              "      <td>0.0</td>\n",
              "      <td>0.0</td>\n",
              "      <td>0.0</td>\n",
              "      <td>610000.0</td>\n",
              "      <td>2017</td>\n",
              "      <td>1</td>\n",
              "      <td>24</td>\n",
              "      <td>0</td>\n",
              "      <td>0</td>\n",
              "      <td>...</td>\n",
              "      <td>0</td>\n",
              "      <td>0</td>\n",
              "      <td>0</td>\n",
              "      <td>0</td>\n",
              "      <td>0</td>\n",
              "      <td>0</td>\n",
              "      <td>0</td>\n",
              "      <td>1</td>\n",
              "      <td>0</td>\n",
              "      <td>0</td>\n",
              "    </tr>\n",
              "    <tr>\n",
              "      <th>2</th>\n",
              "      <td>Animal Crossing: Amiibo Festival</td>\n",
              "      <td>0.0</td>\n",
              "      <td>4.8</td>\n",
              "      <td>0.0</td>\n",
              "      <td>490000.0</td>\n",
              "      <td>2015</td>\n",
              "      <td>4</td>\n",
              "      <td>13</td>\n",
              "      <td>1</td>\n",
              "      <td>0</td>\n",
              "      <td>...</td>\n",
              "      <td>0</td>\n",
              "      <td>0</td>\n",
              "      <td>0</td>\n",
              "      <td>0</td>\n",
              "      <td>0</td>\n",
              "      <td>0</td>\n",
              "      <td>0</td>\n",
              "      <td>0</td>\n",
              "      <td>1</td>\n",
              "      <td>0</td>\n",
              "    </tr>\n",
              "    <tr>\n",
              "      <th>3</th>\n",
              "      <td>Momotaro Dentetsu 2017: Tachiagare Nippon!!</td>\n",
              "      <td>0.0</td>\n",
              "      <td>0.0</td>\n",
              "      <td>0.0</td>\n",
              "      <td>400000.0</td>\n",
              "      <td>2016</td>\n",
              "      <td>3</td>\n",
              "      <td>22</td>\n",
              "      <td>0</td>\n",
              "      <td>0</td>\n",
              "      <td>...</td>\n",
              "      <td>0</td>\n",
              "      <td>0</td>\n",
              "      <td>0</td>\n",
              "      <td>0</td>\n",
              "      <td>0</td>\n",
              "      <td>0</td>\n",
              "      <td>0</td>\n",
              "      <td>0</td>\n",
              "      <td>0</td>\n",
              "      <td>1</td>\n",
              "    </tr>\n",
              "    <tr>\n",
              "      <th>4</th>\n",
              "      <td>WipeOut 3 The Game</td>\n",
              "      <td>0.0</td>\n",
              "      <td>0.0</td>\n",
              "      <td>0.0</td>\n",
              "      <td>400000.0</td>\n",
              "      <td>2012</td>\n",
              "      <td>1</td>\n",
              "      <td>25</td>\n",
              "      <td>1</td>\n",
              "      <td>0</td>\n",
              "      <td>...</td>\n",
              "      <td>0</td>\n",
              "      <td>0</td>\n",
              "      <td>0</td>\n",
              "      <td>0</td>\n",
              "      <td>0</td>\n",
              "      <td>0</td>\n",
              "      <td>1</td>\n",
              "      <td>0</td>\n",
              "      <td>0</td>\n",
              "      <td>0</td>\n",
              "    </tr>\n",
              "  </tbody>\n",
              "</table>\n",
              "<p>5 rows × 40 columns</p>\n",
              "</div>\n",
              "      <button class=\"colab-df-convert\" onclick=\"convertToInteractive('df-3e669c30-163d-45ed-8aea-6b57054f33d2')\"\n",
              "              title=\"Convert this dataframe to an interactive table.\"\n",
              "              style=\"display:none;\">\n",
              "        \n",
              "  <svg xmlns=\"http://www.w3.org/2000/svg\" height=\"24px\"viewBox=\"0 0 24 24\"\n",
              "       width=\"24px\">\n",
              "    <path d=\"M0 0h24v24H0V0z\" fill=\"none\"/>\n",
              "    <path d=\"M18.56 5.44l.94 2.06.94-2.06 2.06-.94-2.06-.94-.94-2.06-.94 2.06-2.06.94zm-11 1L8.5 8.5l.94-2.06 2.06-.94-2.06-.94L8.5 2.5l-.94 2.06-2.06.94zm10 10l.94 2.06.94-2.06 2.06-.94-2.06-.94-.94-2.06-.94 2.06-2.06.94z\"/><path d=\"M17.41 7.96l-1.37-1.37c-.4-.4-.92-.59-1.43-.59-.52 0-1.04.2-1.43.59L10.3 9.45l-7.72 7.72c-.78.78-.78 2.05 0 2.83L4 21.41c.39.39.9.59 1.41.59.51 0 1.02-.2 1.41-.59l7.78-7.78 2.81-2.81c.8-.78.8-2.07 0-2.86zM5.41 20L4 18.59l7.72-7.72 1.47 1.35L5.41 20z\"/>\n",
              "  </svg>\n",
              "      </button>\n",
              "      \n",
              "  <style>\n",
              "    .colab-df-container {\n",
              "      display:flex;\n",
              "      flex-wrap:wrap;\n",
              "      gap: 12px;\n",
              "    }\n",
              "\n",
              "    .colab-df-convert {\n",
              "      background-color: #E8F0FE;\n",
              "      border: none;\n",
              "      border-radius: 50%;\n",
              "      cursor: pointer;\n",
              "      display: none;\n",
              "      fill: #1967D2;\n",
              "      height: 32px;\n",
              "      padding: 0 0 0 0;\n",
              "      width: 32px;\n",
              "    }\n",
              "\n",
              "    .colab-df-convert:hover {\n",
              "      background-color: #E2EBFA;\n",
              "      box-shadow: 0px 1px 2px rgba(60, 64, 67, 0.3), 0px 1px 3px 1px rgba(60, 64, 67, 0.15);\n",
              "      fill: #174EA6;\n",
              "    }\n",
              "\n",
              "    [theme=dark] .colab-df-convert {\n",
              "      background-color: #3B4455;\n",
              "      fill: #D2E3FC;\n",
              "    }\n",
              "\n",
              "    [theme=dark] .colab-df-convert:hover {\n",
              "      background-color: #434B5C;\n",
              "      box-shadow: 0px 1px 3px 1px rgba(0, 0, 0, 0.15);\n",
              "      filter: drop-shadow(0px 1px 2px rgba(0, 0, 0, 0.3));\n",
              "      fill: #FFFFFF;\n",
              "    }\n",
              "  </style>\n",
              "\n",
              "      <script>\n",
              "        const buttonEl =\n",
              "          document.querySelector('#df-3e669c30-163d-45ed-8aea-6b57054f33d2 button.colab-df-convert');\n",
              "        buttonEl.style.display =\n",
              "          google.colab.kernel.accessAllowed ? 'block' : 'none';\n",
              "\n",
              "        async function convertToInteractive(key) {\n",
              "          const element = document.querySelector('#df-3e669c30-163d-45ed-8aea-6b57054f33d2');\n",
              "          const dataTable =\n",
              "            await google.colab.kernel.invokeFunction('convertToInteractive',\n",
              "                                                     [key], {});\n",
              "          if (!dataTable) return;\n",
              "\n",
              "          const docLinkHtml = 'Like what you see? Visit the ' +\n",
              "            '<a target=\"_blank\" href=https://colab.research.google.com/notebooks/data_table.ipynb>data table notebook</a>'\n",
              "            + ' to learn more about interactive tables.';\n",
              "          element.innerHTML = '';\n",
              "          dataTable['output_type'] = 'display_data';\n",
              "          await google.colab.output.renderOutput(dataTable, element);\n",
              "          const docLink = document.createElement('div');\n",
              "          docLink.innerHTML = docLinkHtml;\n",
              "          element.appendChild(docLink);\n",
              "        }\n",
              "      </script>\n",
              "    </div>\n",
              "  </div>\n",
              "  "
            ],
            "text/plain": [
              "                                          name  vgchartz_score  critic_score  \\\n",
              "0                       Mario Party: Star Rush             0.0           6.2   \n",
              "1                           Knowledge is Power             0.0           0.0   \n",
              "2             Animal Crossing: Amiibo Festival             0.0           4.8   \n",
              "3  Momotaro Dentetsu 2017: Tachiagare Nippon!!             0.0           0.0   \n",
              "4                           WipeOut 3 The Game             0.0           0.0   \n",
              "\n",
              "   user_score  total_sales  release_year  release_day_of_week  release_day  \\\n",
              "0         0.0     870000.0          2016                    4            4   \n",
              "1         0.0     610000.0          2017                    1           24   \n",
              "2         0.0     490000.0          2015                    4           13   \n",
              "3         0.0     400000.0          2016                    3           22   \n",
              "4         0.0     400000.0          2012                    1           25   \n",
              "\n",
              "   platform_NS  genre_Action  ...  Mar  Apr  May  Jun  Jul  Aug  Sept  Oct  \\\n",
              "0            0             0  ...    0    0    0    0    0    0     0    0   \n",
              "1            0             0  ...    0    0    0    0    0    0     0    1   \n",
              "2            1             0  ...    0    0    0    0    0    0     0    0   \n",
              "3            0             0  ...    0    0    0    0    0    0     0    0   \n",
              "4            1             0  ...    0    0    0    0    0    0     1    0   \n",
              "\n",
              "   Nov  Dec  \n",
              "0    1    0  \n",
              "1    0    0  \n",
              "2    1    0  \n",
              "3    0    1  \n",
              "4    0    0  \n",
              "\n",
              "[5 rows x 40 columns]"
            ]
          },
          "metadata": {},
          "execution_count": 49
        }
      ]
    },
    {
      "cell_type": "code",
      "source": [
        "df['total_sales'].describe()"
      ],
      "metadata": {
        "colab": {
          "base_uri": "https://localhost:8080/"
        },
        "id": "1wpPq1wsPI9I",
        "outputId": "4210305e-9b19-4c66-bb53-e3f12fb2a246"
      },
      "execution_count": 50,
      "outputs": [
        {
          "output_type": "execute_result",
          "data": {
            "text/plain": [
              "count    1.577500e+04\n",
              "mean     4.044951e+05\n",
              "std      8.801711e+05\n",
              "min      1.000000e+04\n",
              "25%      5.000000e+04\n",
              "50%      1.500000e+05\n",
              "75%      4.100000e+05\n",
              "max      2.033000e+07\n",
              "Name: total_sales, dtype: float64"
            ]
          },
          "metadata": {},
          "execution_count": 50
        }
      ]
    },
    {
      "cell_type": "markdown",
      "source": [
        ""
      ],
      "metadata": {
        "id": "wB1rcTK2PQGN"
      }
    },
    {
      "cell_type": "markdown",
      "source": [
        "#Baseline Model"
      ],
      "metadata": {
        "id": "7W6kt0JXPRMv"
      }
    },
    {
      "cell_type": "code",
      "source": [
        "df['total_sales'].mean()"
      ],
      "metadata": {
        "colab": {
          "base_uri": "https://localhost:8080/"
        },
        "id": "VcNbgbkrPI_M",
        "outputId": "1ba28d2a-f932-48e8-d50e-cf4503e91153"
      },
      "execution_count": 51,
      "outputs": [
        {
          "output_type": "execute_result",
          "data": {
            "text/plain": [
              "404495.08716323297"
            ]
          },
          "metadata": {},
          "execution_count": 51
        }
      ]
    },
    {
      "cell_type": "markdown",
      "source": [
        "Concusion: This is the baseline which I can try and beat my other models. This result means that if I just used the average to predict my RMSE score would be just under $404,000."
      ],
      "metadata": {
        "id": "zsA3aLsvPX29"
      }
    },
    {
      "cell_type": "markdown",
      "source": [
        "#Setting predictor ad target variables"
      ],
      "metadata": {
        "id": "pZ-5V98bP0DN"
      }
    },
    {
      "cell_type": "code",
      "source": [
        "features=[col for col in df._get_numeric_data().columns if col != 'total_sales']\n",
        "\n",
        "X = df[features]\n",
        "y = df['total_sales']"
      ],
      "metadata": {
        "id": "qO4UMToLPJBX"
      },
      "execution_count": 52,
      "outputs": []
    },
    {
      "cell_type": "markdown",
      "source": [
        "#Train/Test split"
      ],
      "metadata": {
        "id": "utqeBPnfQTNh"
      }
    },
    {
      "cell_type": "code",
      "source": [
        "X_train, X_test, y_train, y_test = train_test_split(X,y, random_state=42)"
      ],
      "metadata": {
        "id": "Kf007cplPJDy"
      },
      "execution_count": 53,
      "outputs": []
    },
    {
      "cell_type": "code",
      "source": [
        "print('Training Features Shape', X_train.shape)\n",
        "print('Testing Features Shape', y_train.shape)\n",
        "print('Training Labels Shape', X_test.shape)\n",
        "print('Testing Labels Shape', y_test.shape)"
      ],
      "metadata": {
        "colab": {
          "base_uri": "https://localhost:8080/"
        },
        "id": "uWQeaXlfPJF_",
        "outputId": "61524405-1903-4990-cad2-0ca8940568c6"
      },
      "execution_count": 54,
      "outputs": [
        {
          "output_type": "stream",
          "name": "stdout",
          "text": [
            "Training Features Shape (11831, 38)\n",
            "Testing Features Shape (11831,)\n",
            "Training Labels Shape (3944, 38)\n",
            "Testing Labels Shape (3944,)\n"
          ]
        }
      ]
    },
    {
      "cell_type": "markdown",
      "source": [
        "#Preprocessing"
      ],
      "metadata": {
        "id": "yAAnqG3eRQdk"
      }
    },
    {
      "cell_type": "code",
      "source": [
        "ss= StandardScaler(with_mean=False)\n",
        "X_train = ss.fit_transform(X_train)\n",
        "X_test = ss.transform(X_test)\n"
      ],
      "metadata": {
        "id": "ERdj1H9gPJIN"
      },
      "execution_count": 55,
      "outputs": []
    },
    {
      "cell_type": "markdown",
      "source": [
        "#Modelling\n",
        "\n",
        "Instantiate the models"
      ],
      "metadata": {
        "id": "48b_fBWlRnoq"
      }
    },
    {
      "cell_type": "code",
      "source": [
        "lr=LinearRegression()"
      ],
      "metadata": {
        "id": "wKDTXH6BPJKp"
      },
      "execution_count": 56,
      "outputs": []
    },
    {
      "cell_type": "code",
      "source": [
        "lasso=LassoCV(n_alphas=200)\n"
      ],
      "metadata": {
        "id": "mgEtoETKPJNJ"
      },
      "execution_count": 57,
      "outputs": []
    },
    {
      "cell_type": "code",
      "source": [
        "ridge = RidgeCV(alphas=np.linspace(.1, 10, 100))"
      ],
      "metadata": {
        "id": "xUR5fgA4PJPs"
      },
      "execution_count": 58,
      "outputs": []
    },
    {
      "cell_type": "code",
      "source": [
        "rf = RandomForestRegressor(n_estimators = 1000, random_state=42)"
      ],
      "metadata": {
        "id": "QV4aKz0CPJTJ"
      },
      "execution_count": 59,
      "outputs": []
    },
    {
      "cell_type": "markdown",
      "source": [
        "#Cross Validation"
      ],
      "metadata": {
        "id": "HkxOOvKbSOie"
      }
    },
    {
      "cell_type": "code",
      "source": [
        "lr_scores=cross_val_score(lr, X_train, y_train, cv=5)\n",
        "lr_scores.mean()"
      ],
      "metadata": {
        "colab": {
          "base_uri": "https://localhost:8080/"
        },
        "id": "JnWWGewzSNLS",
        "outputId": "3689fd6e-fb49-46f5-fb7b-1f0b895a90c9"
      },
      "execution_count": 60,
      "outputs": [
        {
          "output_type": "execute_result",
          "data": {
            "text/plain": [
              "-4.637749648601308e+18"
            ]
          },
          "metadata": {},
          "execution_count": 60
        }
      ]
    },
    {
      "cell_type": "code",
      "source": [
        "lasso_scores = cross_val_score(lasso, X_train, y_train, cv=5)\n",
        "lasso_scores.mean()"
      ],
      "metadata": {
        "colab": {
          "base_uri": "https://localhost:8080/"
        },
        "id": "0aR31GuaSNN6",
        "outputId": "007a4650-815e-4261-afbf-bf25636b12fe"
      },
      "execution_count": 61,
      "outputs": [
        {
          "output_type": "execute_result",
          "data": {
            "text/plain": [
              "0.13366351333245796"
            ]
          },
          "metadata": {},
          "execution_count": 61
        }
      ]
    },
    {
      "cell_type": "code",
      "source": [
        "ridge_scores = cross_val_score(ridge, X_train, y_train, cv=5)\n",
        "ridge_scores.mean()"
      ],
      "metadata": {
        "colab": {
          "base_uri": "https://localhost:8080/"
        },
        "id": "CInv-O-7SNQg",
        "outputId": "30384b9e-da37-4363-999f-41a46b8267d7"
      },
      "execution_count": 62,
      "outputs": [
        {
          "output_type": "execute_result",
          "data": {
            "text/plain": [
              "0.1338237210397014"
            ]
          },
          "metadata": {},
          "execution_count": 62
        }
      ]
    },
    {
      "cell_type": "markdown",
      "source": [
        "#Fit to Model"
      ],
      "metadata": {
        "id": "Z1KQv8ZGUPtv"
      }
    },
    {
      "cell_type": "code",
      "source": [
        "rf.fit(X_train, y_train)"
      ],
      "metadata": {
        "colab": {
          "base_uri": "https://localhost:8080/"
        },
        "id": "PtFOPBRiSNWE",
        "outputId": "7509efdd-f5e4-4d89-998b-074c2ee405bd"
      },
      "execution_count": 65,
      "outputs": [
        {
          "output_type": "execute_result",
          "data": {
            "text/plain": [
              "RandomForestRegressor(n_estimators=1000, random_state=42)"
            ]
          },
          "metadata": {},
          "execution_count": 65
        }
      ]
    },
    {
      "cell_type": "code",
      "source": [
        "rf.score(X_train, y_train)"
      ],
      "metadata": {
        "colab": {
          "base_uri": "https://localhost:8080/"
        },
        "id": "ZRQWhd_gSNZT",
        "outputId": "89482cf4-0deb-485b-a41c-e6454cdb023a"
      },
      "execution_count": 67,
      "outputs": [
        {
          "output_type": "execute_result",
          "data": {
            "text/plain": [
              "0.8867074890027792"
            ]
          },
          "metadata": {},
          "execution_count": 67
        }
      ]
    },
    {
      "cell_type": "code",
      "source": [
        "rf.score(X_test, y_test)"
      ],
      "metadata": {
        "colab": {
          "base_uri": "https://localhost:8080/"
        },
        "id": "EWEwbkC6UyWf",
        "outputId": "0cb32dd6-d453-4d93-ceac-9ef58f64d263"
      },
      "execution_count": 69,
      "outputs": [
        {
          "output_type": "execute_result",
          "data": {
            "text/plain": [
              "0.3893145874712024"
            ]
          },
          "metadata": {},
          "execution_count": 69
        }
      ]
    },
    {
      "cell_type": "markdown",
      "source": [
        "#Interpreting the score"
      ],
      "metadata": {
        "id": "CQ8KFxg_U4vz"
      }
    },
    {
      "cell_type": "code",
      "source": [
        "pred = rf.predict(X_test)"
      ],
      "metadata": {
        "id": "xTxknlVNUyYn"
      },
      "execution_count": 70,
      "outputs": []
    },
    {
      "cell_type": "code",
      "source": [
        "r2_score(y_test, pred)"
      ],
      "metadata": {
        "colab": {
          "base_uri": "https://localhost:8080/"
        },
        "id": "XYXLHM43UybH",
        "outputId": "120b4003-b8cb-4ce6-deb1-d7560a506071"
      },
      "execution_count": 71,
      "outputs": [
        {
          "output_type": "execute_result",
          "data": {
            "text/plain": [
              "0.3893145874712024"
            ]
          },
          "metadata": {},
          "execution_count": 71
        }
      ]
    },
    {
      "cell_type": "code",
      "source": [
        "from sklearn.metrics import mean_squared_error\n",
        "mean_squared_error(y_test, pred)\n",
        "rmse = (mean_squared_error(y_test, pred))**0.5\n",
        "print('The root mean squared error of the model is' +str(rmse))"
      ],
      "metadata": {
        "colab": {
          "base_uri": "https://localhost:8080/"
        },
        "id": "qShLjRckUydW",
        "outputId": "90147d9e-9dab-4319-901f-8f9d24748330"
      },
      "execution_count": 73,
      "outputs": [
        {
          "output_type": "stream",
          "name": "stdout",
          "text": [
            "The root mean squared error of the model is658950.4219617307\n"
          ]
        }
      ]
    },
    {
      "cell_type": "markdown",
      "source": [
        "With a RMSE score of 660,000, whats this means is that our model's prediction is on average off by $660,000 in terms of predicting the total sales volume's price."
      ],
      "metadata": {
        "id": "4D7_nn7GVqNS"
      }
    },
    {
      "cell_type": "markdown",
      "source": [
        "#Conclusion & Findings"
      ],
      "metadata": {
        "id": "LdlnRTChWBkX"
      }
    },
    {
      "cell_type": "code",
      "source": [
        "pd.Series(rf.feature_importances_, index=features).plot.bar(figsize=(16,7))"
      ],
      "metadata": {
        "colab": {
          "base_uri": "https://localhost:8080/",
          "height": 556
        },
        "id": "bsV9SX9iUye1",
        "outputId": "f43ac60d-10ca-4319-c15c-833d278c7bb4"
      },
      "execution_count": 74,
      "outputs": [
        {
          "output_type": "execute_result",
          "data": {
            "text/plain": [
              "<matplotlib.axes._subplots.AxesSubplot at 0x7f41625dca50>"
            ]
          },
          "metadata": {},
          "execution_count": 74
        },
        {
          "output_type": "display_data",
          "data": {
            "image/png": "[encoded data removed]",
            "text/plain": [
              "<Figure size 1152x504 with 1 Axes>"
            ]
          },
          "metadata": {
            "needs_background": "light"
          }
        }
      ]
    },
    {
      "cell_type": "code",
      "source": [
        "coef_df = pd.DataFrame([rf.feature_importances_, X.columns], index=['Coefficients', 'Features']).T\n",
        "coef_df = coef_df.set_index('Features')\n",
        "coef_df['Coefficients'] = np.abs(coef_df['Coefficients'])\n",
        "coef_df = coef_df.sort_values(by='Coefficients', ascending=False)\n",
        "coef_df.head(10)"
      ],
      "metadata": {
        "colab": {
          "base_uri": "https://localhost:8080/",
          "height": 394
        },
        "id": "BW-nY5SHWTQ3",
        "outputId": "d70ea66f-0f0b-4278-8806-35b87f06f0bc"
      },
      "execution_count": 79,
      "outputs": [
        {
          "output_type": "execute_result",
          "data": {
            "text/html": [
              "\n",
              "  <div id=\"df-365c2cf7-4d23-4d38-87a2-9fefd9a0e7bc\">\n",
              "    <div class=\"colab-df-container\">\n",
              "      <div>\n",
              "<style scoped>\n",
              "    .dataframe tbody tr th:only-of-type {\n",
              "        vertical-align: middle;\n",
              "    }\n",
              "\n",
              "    .dataframe tbody tr th {\n",
              "        vertical-align: top;\n",
              "    }\n",
              "\n",
              "    .dataframe thead th {\n",
              "        text-align: right;\n",
              "    }\n",
              "</style>\n",
              "<table border=\"1\" class=\"dataframe\">\n",
              "  <thead>\n",
              "    <tr style=\"text-align: right;\">\n",
              "      <th></th>\n",
              "      <th>Coefficients</th>\n",
              "    </tr>\n",
              "    <tr>\n",
              "      <th>Features</th>\n",
              "      <th></th>\n",
              "    </tr>\n",
              "  </thead>\n",
              "  <tbody>\n",
              "    <tr>\n",
              "      <th>critic_score</th>\n",
              "      <td>0.233157</td>\n",
              "    </tr>\n",
              "    <tr>\n",
              "      <th>release_year</th>\n",
              "      <td>0.175985</td>\n",
              "    </tr>\n",
              "    <tr>\n",
              "      <th>release_day</th>\n",
              "      <td>0.129662</td>\n",
              "    </tr>\n",
              "    <tr>\n",
              "      <th>Nov</th>\n",
              "      <td>0.060228</td>\n",
              "    </tr>\n",
              "    <tr>\n",
              "      <th>platform_OTHER</th>\n",
              "      <td>0.040596</td>\n",
              "    </tr>\n",
              "    <tr>\n",
              "      <th>platform_PLAYSTATION</th>\n",
              "      <td>0.040353</td>\n",
              "    </tr>\n",
              "    <tr>\n",
              "      <th>release_day_of_week</th>\n",
              "      <td>0.038732</td>\n",
              "    </tr>\n",
              "    <tr>\n",
              "      <th>genre_Action</th>\n",
              "      <td>0.033762</td>\n",
              "    </tr>\n",
              "    <tr>\n",
              "      <th>genre_Shooter</th>\n",
              "      <td>0.03125</td>\n",
              "    </tr>\n",
              "    <tr>\n",
              "      <th>Sept</th>\n",
              "      <td>0.02434</td>\n",
              "    </tr>\n",
              "  </tbody>\n",
              "</table>\n",
              "</div>\n",
              "      <button class=\"colab-df-convert\" onclick=\"convertToInteractive('df-365c2cf7-4d23-4d38-87a2-9fefd9a0e7bc')\"\n",
              "              title=\"Convert this dataframe to an interactive table.\"\n",
              "              style=\"display:none;\">\n",
              "        \n",
              "  <svg xmlns=\"http://www.w3.org/2000/svg\" height=\"24px\"viewBox=\"0 0 24 24\"\n",
              "       width=\"24px\">\n",
              "    <path d=\"M0 0h24v24H0V0z\" fill=\"none\"/>\n",
              "    <path d=\"M18.56 5.44l.94 2.06.94-2.06 2.06-.94-2.06-.94-.94-2.06-.94 2.06-2.06.94zm-11 1L8.5 8.5l.94-2.06 2.06-.94-2.06-.94L8.5 2.5l-.94 2.06-2.06.94zm10 10l.94 2.06.94-2.06 2.06-.94-2.06-.94-.94-2.06-.94 2.06-2.06.94z\"/><path d=\"M17.41 7.96l-1.37-1.37c-.4-.4-.92-.59-1.43-.59-.52 0-1.04.2-1.43.59L10.3 9.45l-7.72 7.72c-.78.78-.78 2.05 0 2.83L4 21.41c.39.39.9.59 1.41.59.51 0 1.02-.2 1.41-.59l7.78-7.78 2.81-2.81c.8-.78.8-2.07 0-2.86zM5.41 20L4 18.59l7.72-7.72 1.47 1.35L5.41 20z\"/>\n",
              "  </svg>\n",
              "      </button>\n",
              "      \n",
              "  <style>\n",
              "    .colab-df-container {\n",
              "      display:flex;\n",
              "      flex-wrap:wrap;\n",
              "      gap: 12px;\n",
              "    }\n",
              "\n",
              "    .colab-df-convert {\n",
              "      background-color: #E8F0FE;\n",
              "      border: none;\n",
              "      border-radius: 50%;\n",
              "      cursor: pointer;\n",
              "      display: none;\n",
              "      fill: #1967D2;\n",
              "      height: 32px;\n",
              "      padding: 0 0 0 0;\n",
              "      width: 32px;\n",
              "    }\n",
              "\n",
              "    .colab-df-convert:hover {\n",
              "      background-color: #E2EBFA;\n",
              "      box-shadow: 0px 1px 2px rgba(60, 64, 67, 0.3), 0px 1px 3px 1px rgba(60, 64, 67, 0.15);\n",
              "      fill: #174EA6;\n",
              "    }\n",
              "\n",
              "    [theme=dark] .colab-df-convert {\n",
              "      background-color: #3B4455;\n",
              "      fill: #D2E3FC;\n",
              "    }\n",
              "\n",
              "    [theme=dark] .colab-df-convert:hover {\n",
              "      background-color: #434B5C;\n",
              "      box-shadow: 0px 1px 3px 1px rgba(0, 0, 0, 0.15);\n",
              "      filter: drop-shadow(0px 1px 2px rgba(0, 0, 0, 0.3));\n",
              "      fill: #FFFFFF;\n",
              "    }\n",
              "  </style>\n",
              "\n",
              "      <script>\n",
              "        const buttonEl =\n",
              "          document.querySelector('#df-365c2cf7-4d23-4d38-87a2-9fefd9a0e7bc button.colab-df-convert');\n",
              "        buttonEl.style.display =\n",
              "          google.colab.kernel.accessAllowed ? 'block' : 'none';\n",
              "\n",
              "        async function convertToInteractive(key) {\n",
              "          const element = document.querySelector('#df-365c2cf7-4d23-4d38-87a2-9fefd9a0e7bc');\n",
              "          const dataTable =\n",
              "            await google.colab.kernel.invokeFunction('convertToInteractive',\n",
              "                                                     [key], {});\n",
              "          if (!dataTable) return;\n",
              "\n",
              "          const docLinkHtml = 'Like what you see? Visit the ' +\n",
              "            '<a target=\"_blank\" href=https://colab.research.google.com/notebooks/data_table.ipynb>data table notebook</a>'\n",
              "            + ' to learn more about interactive tables.';\n",
              "          element.innerHTML = '';\n",
              "          dataTable['output_type'] = 'display_data';\n",
              "          await google.colab.output.renderOutput(dataTable, element);\n",
              "          const docLink = document.createElement('div');\n",
              "          docLink.innerHTML = docLinkHtml;\n",
              "          element.appendChild(docLink);\n",
              "        }\n",
              "      </script>\n",
              "    </div>\n",
              "  </div>\n",
              "  "
            ],
            "text/plain": [
              "                     Coefficients\n",
              "Features                         \n",
              "critic_score             0.233157\n",
              "release_year             0.175985\n",
              "release_day              0.129662\n",
              "Nov                      0.060228\n",
              "platform_OTHER           0.040596\n",
              "platform_PLAYSTATION     0.040353\n",
              "release_day_of_week      0.038732\n",
              "genre_Action             0.033762\n",
              "genre_Shooter             0.03125\n",
              "Sept                      0.02434"
            ]
          },
          "metadata": {},
          "execution_count": 79
        }
      ]
    },
    {
      "cell_type": "code",
      "source": [
        "plt.barh(y=coef_df.index[:10], width=coef_df['Coefficients'][0:10]);\n",
        "plt.title('Major Contributing Features')\n",
        "plt.xlabel('Strength of Predictor')"
      ],
      "metadata": {
        "colab": {
          "base_uri": "https://localhost:8080/",
          "height": 312
        },
        "id": "FwbzYLNmWTTX",
        "outputId": "e299c3b9-238e-45c2-d230-6074d5640ddc"
      },
      "execution_count": 80,
      "outputs": [
        {
          "output_type": "execute_result",
          "data": {
            "text/plain": [
              "Text(0.5, 0, 'Strength of Predictor')"
            ]
          },
          "metadata": {},
          "execution_count": 80
        },
        {
          "output_type": "display_data",
          "data": {
            "image/png": "[encoded data removed]",
            "text/plain": [
              "<Figure size 432x288 with 1 Axes>"
            ]
          },
          "metadata": {
            "needs_background": "light"
          }
        }
      ]
    },
    {
      "cell_type": "markdown",
      "source": [
        "#Conclusion\n",
        "\n"
      ],
      "metadata": {
        "id": "UMnK3mT1X-zA"
      }
    },
    {
      "cell_type": "markdown",
      "source": [
        "The important features that affect overall total sales are:\n",
        "* Critic_score\n",
        "* Release_of_month(November)\n",
        "* Platform(Playstation)\n",
        "\n",
        "Through this model, we are able to predict the total sales with RMSE score of 660,000, what this means is that our model's prediction is on average off by $660,000. Given the better performance of the model, it is clear that we achived the objectiveof our project succesfully.\n",
        "\n",
        "The  ultimatee outcome will be, with the details of the total salesprediction for the sales volume, I will use the data to convice stakeholders of the company to set an amount of budget for any new game development, focus on building games based on the Playstation and also allocating more marketing strategies and ensuring that the critics give a good score for our games.\n"
      ],
      "metadata": {
        "id": "gmrCpKcCYCiq"
      }
    },
    {
      "cell_type": "markdown",
      "source": [
        "#Recommendations"
      ],
      "metadata": {
        "id": "aBY8yQi9eKME"
      }
    },
    {
      "cell_type": "markdown",
      "source": [
        "Additional outside research found that video game downloadable contents and microsanctions to drive $4 billion in sales alone. Therefore much consideration should be made to increase content with new product with new updates and additional features in the game. This wil greatly increase the sales revenue of the game developed as well.\n",
        "\n",
        "Consideration for future game development is that we can create a game which players get to play on thier main tv game consoles and at the same time have a mobile game app which is linked. So in this way, we are able to capture the upcoming trend of mobile gaming and ride the wave on the potential revenues that possible to explode in the years to come. "
      ],
      "metadata": {
        "id": "adWg9j3peR4a"
      }
    },
    {
      "cell_type": "code",
      "source": [
        ""
      ],
      "metadata": {
        "id": "IcHEFHrLWTZD"
      },
      "execution_count": null,
      "outputs": []
    }
  ]
}